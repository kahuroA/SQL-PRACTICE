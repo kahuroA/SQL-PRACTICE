{
  "nbformat": 4,
  "nbformat_minor": 0,
  "metadata": {
    "colab": {
      "name": "SQL MINI-PROJECT.ipynb",
      "provenance": [],
      "authorship_tag": "ABX9TyOJ0FpULbGFUEyNEZaRHkoQ",
      "include_colab_link": true
    },
    "kernelspec": {
      "name": "python3",
      "display_name": "Python 3"
    },
    "language_info": {
      "name": "python"
    }
  },
  "cells": [
    {
      "cell_type": "markdown",
      "metadata": {
        "id": "view-in-github",
        "colab_type": "text"
      },
      "source": [
        "<a href=\"https://colab.research.google.com/github/kahuroA/SQL-PRACTICE/blob/main/SQL_MINI_PROJECT.ipynb\" target=\"_parent\"><img src=\"https://colab.research.google.com/assets/colab-badge.svg\" alt=\"Open In Colab\"/></a>"
      ]
    },
    {
      "cell_type": "code",
      "metadata": {
        "id": "PPikLkZPUymr"
      },
      "source": [
        ""
      ],
      "execution_count": null,
      "outputs": []
    },
    {
      "cell_type": "markdown",
      "metadata": {
        "id": "B5bEWoVTVBw-"
      },
      "source": [
        "**SQL MINI-PROJECT** *"
      ]
    },
    {
      "cell_type": "code",
      "metadata": {
        "colab": {
          "base_uri": "https://localhost:8080/",
          "height": 35
        },
        "id": "l2NYNiXiVSYq",
        "outputId": "3728123e-647b-4e37-9785-70d5582cd82e"
      },
      "source": [
        "#load the sql extension\n",
        "%load_ext sql\n",
        "#create a temporary connection of sqlite\n",
        "%sql sqlite://"
      ],
      "execution_count": 1,
      "outputs": [
        {
          "output_type": "execute_result",
          "data": {
            "application/vnd.google.colaboratory.intrinsic+json": {
              "type": "string"
            },
            "text/plain": [
              "'Connected: @None'"
            ]
          },
          "metadata": {
            "tags": []
          },
          "execution_count": 1
        }
      ]
    },
    {
      "cell_type": "code",
      "metadata": {
        "colab": {
          "base_uri": "https://localhost:8080/",
          "height": 225
        },
        "id": "baRFml3jVvSz",
        "outputId": "90ace9c5-aecc-447c-97f6-d64997137330"
      },
      "source": [
        "#import packages and read pandas dataframe in an sql table\n",
        "import pandas as pd\n",
        "with open('GrandElectors_by_state.csv','r') as f:\n",
        "  Grand_Electors=pd.read_csv(f, index_col=0, encoding='utf-8')\n",
        "%sql DROP TABLE IF EXISTS Grand_Electors;\n",
        "%sql PERSIST Grand_Electors;\n",
        "%sql SELECT * FROM Grand_Electors LIMIT 5;"
      ],
      "execution_count": 2,
      "outputs": [
        {
          "output_type": "stream",
          "text": [
            " * sqlite://\n",
            "Done.\n",
            " * sqlite://\n",
            " * sqlite://\n",
            "Done.\n"
          ],
          "name": "stdout"
        },
        {
          "output_type": "execute_result",
          "data": {
            "text/html": [
              "<table>\n",
              "    <thead>\n",
              "        <tr>\n",
              "            <th>State</th>\n",
              "            <th>GrandElectors</th>\n",
              "        </tr>\n",
              "    </thead>\n",
              "    <tbody>\n",
              "        <tr>\n",
              "            <td>Alabama</td>\n",
              "            <td>9</td>\n",
              "        </tr>\n",
              "        <tr>\n",
              "            <td>Alaska</td>\n",
              "            <td>3</td>\n",
              "        </tr>\n",
              "        <tr>\n",
              "            <td>Arizona</td>\n",
              "            <td>11</td>\n",
              "        </tr>\n",
              "        <tr>\n",
              "            <td>Arkansas</td>\n",
              "            <td>6</td>\n",
              "        </tr>\n",
              "        <tr>\n",
              "            <td>California</td>\n",
              "            <td>55</td>\n",
              "        </tr>\n",
              "    </tbody>\n",
              "</table>"
            ],
            "text/plain": [
              "[('Alabama', 9),\n",
              " ('Alaska', 3),\n",
              " ('Arizona', 11),\n",
              " ('Arkansas', 6),\n",
              " ('California', 55)]"
            ]
          },
          "metadata": {
            "tags": []
          },
          "execution_count": 2
        }
      ]
    },
    {
      "cell_type": "code",
      "metadata": {
        "colab": {
          "base_uri": "https://localhost:8080/",
          "height": 225
        },
        "id": "lR8c4UbxWgZN",
        "outputId": "a33b1415-1563-423c-f49c-fbdda5684646"
      },
      "source": [
        "#open the population csv with pandas and store and read the dataframe using sql table\n",
        "with open('Population_by_state.csv','r') as f:\n",
        "  Population=pd.read_csv(f, index_col=0, encoding='utf-8')\n",
        "%sql DROP TABLE IF EXISTS Population;\n",
        "%sql PERSIST Population;\n",
        "%sql SELECT * FROM Population LIMIT 5;"
      ],
      "execution_count": 3,
      "outputs": [
        {
          "output_type": "stream",
          "text": [
            " * sqlite://\n",
            "Done.\n",
            " * sqlite://\n",
            " * sqlite://\n",
            "Done.\n"
          ],
          "name": "stdout"
        },
        {
          "output_type": "execute_result",
          "data": {
            "text/html": [
              "<table>\n",
              "    <thead>\n",
              "        <tr>\n",
              "            <th>State</th>\n",
              "            <th>Population</th>\n",
              "        </tr>\n",
              "    </thead>\n",
              "    <tbody>\n",
              "        <tr>\n",
              "            <td>CALIFORNIA</td>\n",
              "            <td>39144818</td>\n",
              "        </tr>\n",
              "        <tr>\n",
              "            <td>TEXAS</td>\n",
              "            <td>27469114</td>\n",
              "        </tr>\n",
              "        <tr>\n",
              "            <td>FLORIDA</td>\n",
              "            <td>20271272</td>\n",
              "        </tr>\n",
              "        <tr>\n",
              "            <td>NEW YORK</td>\n",
              "            <td>19795791</td>\n",
              "        </tr>\n",
              "        <tr>\n",
              "            <td>ILLINOIS</td>\n",
              "            <td>12859995</td>\n",
              "        </tr>\n",
              "    </tbody>\n",
              "</table>"
            ],
            "text/plain": [
              "[('CALIFORNIA', 39144818),\n",
              " ('TEXAS', 27469114),\n",
              " ('FLORIDA', 20271272),\n",
              " ('NEW YORK', 19795791),\n",
              " ('ILLINOIS', 12859995)]"
            ]
          },
          "metadata": {
            "tags": []
          },
          "execution_count": 3
        }
      ]
    },
    {
      "cell_type": "code",
      "metadata": {
        "colab": {
          "base_uri": "https://localhost:8080/"
        },
        "id": "FA1rFOMpft8b",
        "outputId": "566f062c-ef5c-4462-8e0e-222b87ca323b"
      },
      "source": [
        "# capitalize the states in the Grand_Electors table so as to enable an inner join\n",
        "%sql UPDATE Grand_Electors SET State=UPPER(State);"
      ],
      "execution_count": 4,
      "outputs": [
        {
          "output_type": "stream",
          "text": [
            " * sqlite://\n",
            "51 rows affected.\n"
          ],
          "name": "stdout"
        },
        {
          "output_type": "execute_result",
          "data": {
            "text/plain": [
              "[]"
            ]
          },
          "metadata": {
            "tags": []
          },
          "execution_count": 4
        }
      ]
    },
    {
      "cell_type": "code",
      "metadata": {
        "colab": {
          "base_uri": "https://localhost:8080/"
        },
        "id": "n4PgJ8ouXDPw",
        "outputId": "2c6eefbc-22b6-4405-e5c1-9440832722af"
      },
      "source": [
        "%%sql\n",
        "--Make the inner join between Grand_Electors and Population, store the result in a new table called Combined\n",
        "CREATE TABLE Combined AS\n",
        "SELECT * FROM Grand_Electors\n",
        "INNER JOIN Population  on Population.State = Grand_Electors.State;"
      ],
      "execution_count": 5,
      "outputs": [
        {
          "output_type": "stream",
          "text": [
            " * sqlite://\n",
            "Done.\n"
          ],
          "name": "stdout"
        },
        {
          "output_type": "execute_result",
          "data": {
            "text/plain": [
              "[]"
            ]
          },
          "metadata": {
            "tags": []
          },
          "execution_count": 5
        }
      ]
    },
    {
      "cell_type": "code",
      "metadata": {
        "colab": {
          "base_uri": "https://localhost:8080/",
          "height": 174
        },
        "id": "mfKWlXP_XDgT",
        "outputId": "f8955795-0d3d-4fcb-f79b-247d855e9651"
      },
      "source": [
        "%%sql\n",
        "--view the combined table\n",
        "SELECT * FROM Combined LIMIT 5;"
      ],
      "execution_count": 7,
      "outputs": [
        {
          "output_type": "stream",
          "text": [
            " * sqlite://\n",
            "Done.\n"
          ],
          "name": "stdout"
        },
        {
          "output_type": "execute_result",
          "data": {
            "text/html": [
              "<table>\n",
              "    <thead>\n",
              "        <tr>\n",
              "            <th>State</th>\n",
              "            <th>GrandElectors</th>\n",
              "            <th>State:1</th>\n",
              "            <th>Population</th>\n",
              "        </tr>\n",
              "    </thead>\n",
              "    <tbody>\n",
              "        <tr>\n",
              "            <td>ALABAMA</td>\n",
              "            <td>9</td>\n",
              "            <td>ALABAMA</td>\n",
              "            <td>4858979</td>\n",
              "        </tr>\n",
              "        <tr>\n",
              "            <td>ALASKA</td>\n",
              "            <td>3</td>\n",
              "            <td>ALASKA</td>\n",
              "            <td>738432</td>\n",
              "        </tr>\n",
              "        <tr>\n",
              "            <td>ARIZONA</td>\n",
              "            <td>11</td>\n",
              "            <td>ARIZONA</td>\n",
              "            <td>6828065</td>\n",
              "        </tr>\n",
              "        <tr>\n",
              "            <td>ARKANSAS</td>\n",
              "            <td>6</td>\n",
              "            <td>ARKANSAS</td>\n",
              "            <td>2978204</td>\n",
              "        </tr>\n",
              "        <tr>\n",
              "            <td>CALIFORNIA</td>\n",
              "            <td>55</td>\n",
              "            <td>CALIFORNIA</td>\n",
              "            <td>39144818</td>\n",
              "        </tr>\n",
              "    </tbody>\n",
              "</table>"
            ],
            "text/plain": [
              "[('ALABAMA', 9, 'ALABAMA', 4858979),\n",
              " ('ALASKA', 3, 'ALASKA', 738432),\n",
              " ('ARIZONA', 11, 'ARIZONA', 6828065),\n",
              " ('ARKANSAS', 6, 'ARKANSAS', 2978204),\n",
              " ('CALIFORNIA', 55, 'CALIFORNIA', 39144818)]"
            ]
          },
          "metadata": {
            "tags": []
          },
          "execution_count": 7
        }
      ]
    },
    {
      "cell_type": "code",
      "metadata": {
        "colab": {
          "base_uri": "https://localhost:8080/"
        },
        "id": "mq2s_wMGiDqF",
        "outputId": "c3941880-e491-4c67-f748-1b8e10dba031"
      },
      "source": [
        "%%sql\n",
        "--We will drop the redundant column State:1 by creating a table Combined_new with relevant columns from Combined.\n",
        "CREATE TABLE Combined_new (\n",
        "  State  TEXT PRIMARY KEY,\n",
        "  GrandElectors  int,\n",
        "  Population  int\n",
        ");\n",
        "--After creating the table with relevant columns from Combine table, we will insert columns from Combined table \n",
        "INSERT INTO Combined_new SELECT State, GrandElectors, Population FROM Combined;\n",
        "--We will then drop the table Combined\n",
        "DROP TABLE Combined;\n",
        "--finally we will alter the new table's name and give it the name Combined\n",
        "ALTER TABLE Combined_new RENAME TO Combined;"
      ],
      "execution_count": 8,
      "outputs": [
        {
          "output_type": "stream",
          "text": [
            " * sqlite://\n",
            "Done.\n",
            "Done.\n",
            "Done.\n",
            "Done.\n"
          ],
          "name": "stdout"
        },
        {
          "output_type": "execute_result",
          "data": {
            "text/plain": [
              "[]"
            ]
          },
          "metadata": {
            "tags": []
          },
          "execution_count": 8
        }
      ]
    },
    {
      "cell_type": "code",
      "metadata": {
        "colab": {
          "base_uri": "https://localhost:8080/",
          "height": 174
        },
        "id": "_XFgQZQtw1nV",
        "outputId": "ef781b41-f5b4-4850-a1ff-ed4063341c88"
      },
      "source": [
        "%%sql\n",
        "--view the table combined\n",
        "SELECT * FROM Combined LIMIT 5;"
      ],
      "execution_count": 10,
      "outputs": [
        {
          "output_type": "stream",
          "text": [
            " * sqlite://\n",
            "Done.\n"
          ],
          "name": "stdout"
        },
        {
          "output_type": "execute_result",
          "data": {
            "text/html": [
              "<table>\n",
              "    <thead>\n",
              "        <tr>\n",
              "            <th>State</th>\n",
              "            <th>GrandElectors</th>\n",
              "            <th>Population</th>\n",
              "        </tr>\n",
              "    </thead>\n",
              "    <tbody>\n",
              "        <tr>\n",
              "            <td>ALABAMA</td>\n",
              "            <td>9</td>\n",
              "            <td>4858979</td>\n",
              "        </tr>\n",
              "        <tr>\n",
              "            <td>ALASKA</td>\n",
              "            <td>3</td>\n",
              "            <td>738432</td>\n",
              "        </tr>\n",
              "        <tr>\n",
              "            <td>ARIZONA</td>\n",
              "            <td>11</td>\n",
              "            <td>6828065</td>\n",
              "        </tr>\n",
              "        <tr>\n",
              "            <td>ARKANSAS</td>\n",
              "            <td>6</td>\n",
              "            <td>2978204</td>\n",
              "        </tr>\n",
              "        <tr>\n",
              "            <td>CALIFORNIA</td>\n",
              "            <td>55</td>\n",
              "            <td>39144818</td>\n",
              "        </tr>\n",
              "    </tbody>\n",
              "</table>"
            ],
            "text/plain": [
              "[('ALABAMA', 9, 4858979),\n",
              " ('ALASKA', 3, 738432),\n",
              " ('ARIZONA', 11, 6828065),\n",
              " ('ARKANSAS', 6, 2978204),\n",
              " ('CALIFORNIA', 55, 39144818)]"
            ]
          },
          "metadata": {
            "tags": []
          },
          "execution_count": 10
        }
      ]
    },
    {
      "cell_type": "markdown",
      "metadata": {
        "id": "fzjCr4UJfcQd"
      },
      "source": [
        "2. Your boss wants you to change the name of the \"District of Columbia\" state to its short version \"DC\". Please do that."
      ]
    },
    {
      "cell_type": "code",
      "metadata": {
        "colab": {
          "base_uri": "https://localhost:8080/"
        },
        "id": "939a8bqnw7Im",
        "outputId": "e48680e9-7d67-49ff-92e6-39cc1bf1c66a"
      },
      "source": [
        "%%sql\n",
        "--We update the state column with a condition of where we need to do the update\n",
        "UPDATE Combined\n",
        "SET State='DC'\n",
        "WHERE State='DISTRICT OF COLUMBIA'"
      ],
      "execution_count": 11,
      "outputs": [
        {
          "output_type": "stream",
          "text": [
            " * sqlite://\n",
            "Done.\n"
          ],
          "name": "stdout"
        },
        {
          "output_type": "execute_result",
          "data": {
            "text/plain": [
              "[]"
            ]
          },
          "metadata": {
            "tags": []
          },
          "execution_count": 11
        }
      ]
    },
    {
      "cell_type": "markdown",
      "metadata": {
        "id": "Q6LjwUkAjK90"
      },
      "source": [
        "3. To compute the ratio between the number of grand electors and the population. Please create a new column with that ratio."
      ]
    },
    {
      "cell_type": "code",
      "metadata": {
        "colab": {
          "base_uri": "https://localhost:8080/"
        },
        "id": "xVlLE74Ay__g",
        "outputId": "d6bd0b4d-101a-49b8-f308-d6542c6a0536"
      },
      "source": [
        "%%sql\n",
        "--create a new table with the ratio column\n",
        "CREATE TABLE Combined_new AS\n",
        "SELECT *, CAST(Combined.GrandElectors AS FLOAT)/CAST(Combined.Population AS FLOAT) AS Ratio\n",
        "FROM   Combined;\n",
        "--drop the old table Combined\n",
        "DROP TABLE Combined;\n",
        "--Rename the new table with ratio column as Combined\n",
        "ALTER TABLE Combined_new Rename to Combined;"
      ],
      "execution_count": 12,
      "outputs": [
        {
          "output_type": "stream",
          "text": [
            " * sqlite://\n",
            "Done.\n",
            "Done.\n",
            "Done.\n"
          ],
          "name": "stdout"
        },
        {
          "output_type": "execute_result",
          "data": {
            "text/plain": [
              "[]"
            ]
          },
          "metadata": {
            "tags": []
          },
          "execution_count": 12
        }
      ]
    },
    {
      "cell_type": "code",
      "metadata": {
        "colab": {
          "base_uri": "https://localhost:8080/",
          "height": 174
        },
        "id": "xAxP8H7A04ME",
        "outputId": "18a9b818-6b57-4b61-dbe2-425ca48149a9"
      },
      "source": [
        "%%sql\n",
        "--Let us view the table with the new ratio column\n",
        "SELECT * FROM Combined LIMIT 5;"
      ],
      "execution_count": 13,
      "outputs": [
        {
          "output_type": "stream",
          "text": [
            " * sqlite://\n",
            "Done.\n"
          ],
          "name": "stdout"
        },
        {
          "output_type": "execute_result",
          "data": {
            "text/html": [
              "<table>\n",
              "    <thead>\n",
              "        <tr>\n",
              "            <th>State</th>\n",
              "            <th>GrandElectors</th>\n",
              "            <th>Population</th>\n",
              "            <th>Ratio</th>\n",
              "        </tr>\n",
              "    </thead>\n",
              "    <tbody>\n",
              "        <tr>\n",
              "            <td>ALABAMA</td>\n",
              "            <td>9</td>\n",
              "            <td>4858979</td>\n",
              "            <td>1.8522409749043987e-06</td>\n",
              "        </tr>\n",
              "        <tr>\n",
              "            <td>ALASKA</td>\n",
              "            <td>3</td>\n",
              "            <td>738432</td>\n",
              "            <td>4.0626625065002604e-06</td>\n",
              "        </tr>\n",
              "        <tr>\n",
              "            <td>ARIZONA</td>\n",
              "            <td>11</td>\n",
              "            <td>6828065</td>\n",
              "            <td>1.610998137832607e-06</td>\n",
              "        </tr>\n",
              "        <tr>\n",
              "            <td>ARKANSAS</td>\n",
              "            <td>6</td>\n",
              "            <td>2978204</td>\n",
              "            <td>2.0146370094190997e-06</td>\n",
              "        </tr>\n",
              "        <tr>\n",
              "            <td>CALIFORNIA</td>\n",
              "            <td>55</td>\n",
              "            <td>39144818</td>\n",
              "            <td>1.4050391037710278e-06</td>\n",
              "        </tr>\n",
              "    </tbody>\n",
              "</table>"
            ],
            "text/plain": [
              "[('ALABAMA', 9, 4858979, 1.8522409749043987e-06),\n",
              " ('ALASKA', 3, 738432, 4.0626625065002604e-06),\n",
              " ('ARIZONA', 11, 6828065, 1.610998137832607e-06),\n",
              " ('ARKANSAS', 6, 2978204, 2.0146370094190997e-06),\n",
              " ('CALIFORNIA', 55, 39144818, 1.4050391037710278e-06)]"
            ]
          },
          "metadata": {
            "tags": []
          },
          "execution_count": 13
        }
      ]
    },
    {
      "cell_type": "markdown",
      "metadata": {
        "id": "FPY8XJK3l3sa"
      },
      "source": [
        "4. To order the states by decreasing ratio of Grand Electors per capita. That will make our priority list"
      ]
    },
    {
      "cell_type": "code",
      "metadata": {
        "colab": {
          "base_uri": "https://localhost:8080/"
        },
        "id": "lCNuN2ZcQRFC",
        "outputId": "fa26f1ec-c407-4aad-ca18-9eba678aa482"
      },
      "source": [
        "%%sql\n",
        "CREATE TABLE Sorted AS\n",
        "SELECT * FROM Combined\n",
        "ORDER BY Ratio DESC;"
      ],
      "execution_count": 17,
      "outputs": [
        {
          "output_type": "stream",
          "text": [
            " * sqlite://\n",
            "Done.\n"
          ],
          "name": "stdout"
        },
        {
          "output_type": "execute_result",
          "data": {
            "text/plain": [
              "[]"
            ]
          },
          "metadata": {
            "tags": []
          },
          "execution_count": 17
        }
      ]
    },
    {
      "cell_type": "code",
      "metadata": {
        "id": "Hl7tRLb6l2L1",
        "outputId": "bb10d8c4-a390-4b22-bd93-1efca87700fe",
        "colab": {
          "base_uri": "https://localhost:8080/",
          "height": 174
        }
      },
      "source": [
        "%%sql\n",
        "--let us view the new table with ratio sorted in decreasing order\n",
        "SELECT * FROM Sorted LIMIT 5;"
      ],
      "execution_count": 18,
      "outputs": [
        {
          "output_type": "stream",
          "text": [
            " * sqlite://\n",
            "Done.\n"
          ],
          "name": "stdout"
        },
        {
          "output_type": "execute_result",
          "data": {
            "text/html": [
              "<table>\n",
              "    <thead>\n",
              "        <tr>\n",
              "            <th>State</th>\n",
              "            <th>GrandElectors</th>\n",
              "            <th>Population</th>\n",
              "            <th>Ratio</th>\n",
              "        </tr>\n",
              "    </thead>\n",
              "    <tbody>\n",
              "        <tr>\n",
              "            <td>WYOMING</td>\n",
              "            <td>3</td>\n",
              "            <td>586107</td>\n",
              "            <td>5.118519314732634e-06</td>\n",
              "        </tr>\n",
              "        <tr>\n",
              "            <td>VERMONT</td>\n",
              "            <td>3</td>\n",
              "            <td>626042</td>\n",
              "            <td>4.792010759661493e-06</td>\n",
              "        </tr>\n",
              "        <tr>\n",
              "            <td>DC</td>\n",
              "            <td>3</td>\n",
              "            <td>672228</td>\n",
              "            <td>4.462771559649405e-06</td>\n",
              "        </tr>\n",
              "        <tr>\n",
              "            <td>ALASKA</td>\n",
              "            <td>3</td>\n",
              "            <td>738432</td>\n",
              "            <td>4.0626625065002604e-06</td>\n",
              "        </tr>\n",
              "        <tr>\n",
              "            <td>NORTH DAKOTA</td>\n",
              "            <td>3</td>\n",
              "            <td>756927</td>\n",
              "            <td>3.963394092164766e-06</td>\n",
              "        </tr>\n",
              "    </tbody>\n",
              "</table>"
            ],
            "text/plain": [
              "[('WYOMING', 3, 586107, 5.118519314732634e-06),\n",
              " ('VERMONT', 3, 626042, 4.792010759661493e-06),\n",
              " ('DC', 3, 672228, 4.462771559649405e-06),\n",
              " ('ALASKA', 3, 738432, 4.0626625065002604e-06),\n",
              " ('NORTH DAKOTA', 3, 756927, 3.963394092164766e-06)]"
            ]
          },
          "metadata": {
            "tags": []
          },
          "execution_count": 18
        }
      ]
    },
    {
      "cell_type": "markdown",
      "metadata": {
        "id": "y6Q_5HvYm5zf"
      },
      "source": [
        "5. To compute the running total of Grand Electors in that sorted list"
      ]
    },
    {
      "cell_type": "code",
      "metadata": {
        "id": "olVJiaxDhWt8",
        "colab": {
          "base_uri": "https://localhost:8080/"
        },
        "outputId": "7611474b-2aa1-4efd-f249-f1ebdd94983c"
      },
      "source": [
        "%%sql\n",
        "CREATE TABLE Sorted_Cummulative AS\n",
        "SELECT\n",
        "    t.State,t.GrandElectors,t.Population,t.Ratio,\n",
        "    (SELECT Sum(r.GrandElectors) FROM Sorted as r WHERE t.Ratio <= r.Ratio) AS Cummulative\n",
        "FROM Sorted as t\n",
        "Group By t.Ratio ORDER BY t.Ratio DESC;"
      ],
      "execution_count": 24,
      "outputs": [
        {
          "output_type": "stream",
          "text": [
            " * sqlite://\n",
            "Done.\n"
          ],
          "name": "stdout"
        },
        {
          "output_type": "execute_result",
          "data": {
            "text/plain": [
              "[]"
            ]
          },
          "metadata": {
            "tags": []
          },
          "execution_count": 24
        }
      ]
    },
    {
      "cell_type": "code",
      "metadata": {
        "id": "BNF_RBcatixG",
        "outputId": "adf9d566-b6c5-494f-e6c7-c2ebbe0967d5",
        "colab": {
          "base_uri": "https://localhost:8080/",
          "height": 1000
        }
      },
      "source": [
        "%%sql\n",
        "--Let us view the first 5 columns of the new table with the cummulative sum.\n",
        "SELECT * FROM Sorted_Cummulative;"
      ],
      "execution_count": 33,
      "outputs": [
        {
          "output_type": "stream",
          "text": [
            " * sqlite://\n",
            "Done.\n"
          ],
          "name": "stdout"
        },
        {
          "output_type": "execute_result",
          "data": {
            "text/html": [
              "<table>\n",
              "    <thead>\n",
              "        <tr>\n",
              "            <th>State</th>\n",
              "            <th>GrandElectors</th>\n",
              "            <th>Population</th>\n",
              "            <th>Ratio</th>\n",
              "            <th>Cummulative</th>\n",
              "        </tr>\n",
              "    </thead>\n",
              "    <tbody>\n",
              "        <tr>\n",
              "            <td>WYOMING</td>\n",
              "            <td>3</td>\n",
              "            <td>586107</td>\n",
              "            <td>5.118519314732634e-06</td>\n",
              "            <td>3</td>\n",
              "        </tr>\n",
              "        <tr>\n",
              "            <td>VERMONT</td>\n",
              "            <td>3</td>\n",
              "            <td>626042</td>\n",
              "            <td>4.792010759661493e-06</td>\n",
              "            <td>6</td>\n",
              "        </tr>\n",
              "        <tr>\n",
              "            <td>DC</td>\n",
              "            <td>3</td>\n",
              "            <td>672228</td>\n",
              "            <td>4.462771559649405e-06</td>\n",
              "            <td>9</td>\n",
              "        </tr>\n",
              "        <tr>\n",
              "            <td>ALASKA</td>\n",
              "            <td>3</td>\n",
              "            <td>738432</td>\n",
              "            <td>4.0626625065002604e-06</td>\n",
              "            <td>12</td>\n",
              "        </tr>\n",
              "        <tr>\n",
              "            <td>NORTH DAKOTA</td>\n",
              "            <td>3</td>\n",
              "            <td>756927</td>\n",
              "            <td>3.963394092164766e-06</td>\n",
              "            <td>15</td>\n",
              "        </tr>\n",
              "        <tr>\n",
              "            <td>RHODE ISLAND</td>\n",
              "            <td>4</td>\n",
              "            <td>1056298</td>\n",
              "            <td>3.7868101615263876e-06</td>\n",
              "            <td>19</td>\n",
              "        </tr>\n",
              "        <tr>\n",
              "            <td>SOUTH DAKOTA</td>\n",
              "            <td>3</td>\n",
              "            <td>858469</td>\n",
              "            <td>3.4945932817609025e-06</td>\n",
              "            <td>22</td>\n",
              "        </tr>\n",
              "        <tr>\n",
              "            <td>DELAWARE</td>\n",
              "            <td>3</td>\n",
              "            <td>945934</td>\n",
              "            <td>3.1714686225466047e-06</td>\n",
              "            <td>25</td>\n",
              "        </tr>\n",
              "        <tr>\n",
              "            <td>MAINE</td>\n",
              "            <td>4</td>\n",
              "            <td>1329328</td>\n",
              "            <td>3.009039153617467e-06</td>\n",
              "            <td>29</td>\n",
              "        </tr>\n",
              "        <tr>\n",
              "            <td>NEW HAMPSHIRE</td>\n",
              "            <td>4</td>\n",
              "            <td>1330608</td>\n",
              "            <td>3.0061445594795764e-06</td>\n",
              "            <td>33</td>\n",
              "        </tr>\n",
              "        <tr>\n",
              "            <td>MONTANA</td>\n",
              "            <td>3</td>\n",
              "            <td>1032949</td>\n",
              "            <td>2.904306020916812e-06</td>\n",
              "            <td>36</td>\n",
              "        </tr>\n",
              "        <tr>\n",
              "            <td>HAWAII</td>\n",
              "            <td>4</td>\n",
              "            <td>1431603</td>\n",
              "            <td>2.794070702562093e-06</td>\n",
              "            <td>40</td>\n",
              "        </tr>\n",
              "        <tr>\n",
              "            <td>WEST VIRGINIA</td>\n",
              "            <td>5</td>\n",
              "            <td>1844128</td>\n",
              "            <td>2.7113085425740512e-06</td>\n",
              "            <td>45</td>\n",
              "        </tr>\n",
              "        <tr>\n",
              "            <td>NEBRASKA</td>\n",
              "            <td>5</td>\n",
              "            <td>1896190</td>\n",
              "            <td>2.636866558730929e-06</td>\n",
              "            <td>50</td>\n",
              "        </tr>\n",
              "        <tr>\n",
              "            <td>IDAHO</td>\n",
              "            <td>4</td>\n",
              "            <td>1654930</td>\n",
              "            <td>2.417020659484087e-06</td>\n",
              "            <td>54</td>\n",
              "        </tr>\n",
              "        <tr>\n",
              "            <td>NEW MEXICO</td>\n",
              "            <td>5</td>\n",
              "            <td>2085109</td>\n",
              "            <td>2.3979561739937817e-06</td>\n",
              "            <td>59</td>\n",
              "        </tr>\n",
              "        <tr>\n",
              "            <td>NEVADA</td>\n",
              "            <td>6</td>\n",
              "            <td>2890845</td>\n",
              "            <td>2.0755177119492743e-06</td>\n",
              "            <td>65</td>\n",
              "        </tr>\n",
              "        <tr>\n",
              "            <td>KANSAS</td>\n",
              "            <td>6</td>\n",
              "            <td>2911641</td>\n",
              "            <td>2.0606936088618066e-06</td>\n",
              "            <td>71</td>\n",
              "        </tr>\n",
              "        <tr>\n",
              "            <td>ARKANSAS</td>\n",
              "            <td>6</td>\n",
              "            <td>2978204</td>\n",
              "            <td>2.0146370094190997e-06</td>\n",
              "            <td>77</td>\n",
              "        </tr>\n",
              "        <tr>\n",
              "            <td>MISSISSIPPI</td>\n",
              "            <td>6</td>\n",
              "            <td>2992333</td>\n",
              "            <td>2.00512442966742e-06</td>\n",
              "            <td>83</td>\n",
              "        </tr>\n",
              "        <tr>\n",
              "            <td>UTAH</td>\n",
              "            <td>6</td>\n",
              "            <td>2995919</td>\n",
              "            <td>2.0027243727216926e-06</td>\n",
              "            <td>89</td>\n",
              "        </tr>\n",
              "        <tr>\n",
              "            <td>CONNECTICUT</td>\n",
              "            <td>7</td>\n",
              "            <td>3590886</td>\n",
              "            <td>1.949379623858847e-06</td>\n",
              "            <td>96</td>\n",
              "        </tr>\n",
              "        <tr>\n",
              "            <td>IOWA</td>\n",
              "            <td>6</td>\n",
              "            <td>3123899</td>\n",
              "            <td>1.9206766928124116e-06</td>\n",
              "            <td>102</td>\n",
              "        </tr>\n",
              "        <tr>\n",
              "            <td>ALABAMA</td>\n",
              "            <td>9</td>\n",
              "            <td>4858979</td>\n",
              "            <td>1.8522409749043987e-06</td>\n",
              "            <td>111</td>\n",
              "        </tr>\n",
              "        <tr>\n",
              "            <td>SOUTH CAROLINA</td>\n",
              "            <td>9</td>\n",
              "            <td>4896146</td>\n",
              "            <td>1.8381804790951905e-06</td>\n",
              "            <td>120</td>\n",
              "        </tr>\n",
              "        <tr>\n",
              "            <td>MINNESOTA</td>\n",
              "            <td>10</td>\n",
              "            <td>5489594</td>\n",
              "            <td>1.8216283389992047e-06</td>\n",
              "            <td>130</td>\n",
              "        </tr>\n",
              "        <tr>\n",
              "            <td>KENTUCKY</td>\n",
              "            <td>8</td>\n",
              "            <td>4425092</td>\n",
              "            <td>1.8078720171241637e-06</td>\n",
              "            <td>138</td>\n",
              "        </tr>\n",
              "        <tr>\n",
              "            <td>OKLAHOMA</td>\n",
              "            <td>7</td>\n",
              "            <td>3911338</td>\n",
              "            <td>1.7896689061390246e-06</td>\n",
              "            <td>145</td>\n",
              "        </tr>\n",
              "        <tr>\n",
              "            <td>OREGON</td>\n",
              "            <td>7</td>\n",
              "            <td>4028977</td>\n",
              "            <td>1.7374137405103083e-06</td>\n",
              "            <td>152</td>\n",
              "        </tr>\n",
              "        <tr>\n",
              "            <td>WISCONSIN</td>\n",
              "            <td>10</td>\n",
              "            <td>5771337</td>\n",
              "            <td>1.7327007589402595e-06</td>\n",
              "            <td>162</td>\n",
              "        </tr>\n",
              "        <tr>\n",
              "            <td>LOUISIANA</td>\n",
              "            <td>8</td>\n",
              "            <td>4670724</td>\n",
              "            <td>1.712796560019389e-06</td>\n",
              "            <td>170</td>\n",
              "        </tr>\n",
              "        <tr>\n",
              "            <td>WASHINGTON</td>\n",
              "            <td>12</td>\n",
              "            <td>7170351</td>\n",
              "            <td>1.673558240035948e-06</td>\n",
              "            <td>182</td>\n",
              "        </tr>\n",
              "        <tr>\n",
              "            <td>TENNESSEE</td>\n",
              "            <td>11</td>\n",
              "            <td>6600299</td>\n",
              "            <td>1.6665911650366142e-06</td>\n",
              "            <td>193</td>\n",
              "        </tr>\n",
              "        <tr>\n",
              "            <td>MARYLAND</td>\n",
              "            <td>10</td>\n",
              "            <td>6006401</td>\n",
              "            <td>1.6648905059785385e-06</td>\n",
              "            <td>203</td>\n",
              "        </tr>\n",
              "        <tr>\n",
              "            <td>INDIANA</td>\n",
              "            <td>11</td>\n",
              "            <td>6619680</td>\n",
              "            <td>1.6617117443743504e-06</td>\n",
              "            <td>214</td>\n",
              "        </tr>\n",
              "        <tr>\n",
              "            <td>COLORADO</td>\n",
              "            <td>9</td>\n",
              "            <td>5456574</td>\n",
              "            <td>1.6493865931260165e-06</td>\n",
              "            <td>223</td>\n",
              "        </tr>\n",
              "        <tr>\n",
              "            <td>MISSOURI</td>\n",
              "            <td>10</td>\n",
              "            <td>6083672</td>\n",
              "            <td>1.6437441071773757e-06</td>\n",
              "            <td>233</td>\n",
              "        </tr>\n",
              "        <tr>\n",
              "            <td>MASSACHUSETTS</td>\n",
              "            <td>11</td>\n",
              "            <td>6794422</td>\n",
              "            <td>1.6189750945702225e-06</td>\n",
              "            <td>244</td>\n",
              "        </tr>\n",
              "        <tr>\n",
              "            <td>MICHIGAN</td>\n",
              "            <td>16</td>\n",
              "            <td>9922576</td>\n",
              "            <td>1.6124844999927438e-06</td>\n",
              "            <td>260</td>\n",
              "        </tr>\n",
              "        <tr>\n",
              "            <td>ARIZONA</td>\n",
              "            <td>11</td>\n",
              "            <td>6828065</td>\n",
              "            <td>1.610998137832607e-06</td>\n",
              "            <td>271</td>\n",
              "        </tr>\n",
              "        <tr>\n",
              "            <td>GEORGIA</td>\n",
              "            <td>16</td>\n",
              "            <td>10214860</td>\n",
              "            <td>1.566345500574653e-06</td>\n",
              "            <td>287</td>\n",
              "        </tr>\n",
              "        <tr>\n",
              "            <td>NEW JERSEY</td>\n",
              "            <td>14</td>\n",
              "            <td>8958013</td>\n",
              "            <td>1.562846582160575e-06</td>\n",
              "            <td>301</td>\n",
              "        </tr>\n",
              "        <tr>\n",
              "            <td>PENNSYLVANIA</td>\n",
              "            <td>20</td>\n",
              "            <td>12802503</td>\n",
              "            <td>1.562194517743913e-06</td>\n",
              "            <td>321</td>\n",
              "        </tr>\n",
              "        <tr>\n",
              "            <td>ILLINOIS</td>\n",
              "            <td>20</td>\n",
              "            <td>12859995</td>\n",
              "            <td>1.5552105580134362e-06</td>\n",
              "            <td>341</td>\n",
              "        </tr>\n",
              "        <tr>\n",
              "            <td>VIRGINIA</td>\n",
              "            <td>13</td>\n",
              "            <td>8382993</td>\n",
              "            <td>1.5507587803067473e-06</td>\n",
              "            <td>354</td>\n",
              "        </tr>\n",
              "        <tr>\n",
              "            <td>OHIO</td>\n",
              "            <td>18</td>\n",
              "            <td>11613423</td>\n",
              "            <td>1.5499306276883225e-06</td>\n",
              "            <td>372</td>\n",
              "        </tr>\n",
              "        <tr>\n",
              "            <td>NORTH CAROLINA</td>\n",
              "            <td>15</td>\n",
              "            <td>10042802</td>\n",
              "            <td>1.4936070630487388e-06</td>\n",
              "            <td>387</td>\n",
              "        </tr>\n",
              "        <tr>\n",
              "            <td>NEW YORK</td>\n",
              "            <td>29</td>\n",
              "            <td>19795791</td>\n",
              "            <td>1.4649578791774474e-06</td>\n",
              "            <td>416</td>\n",
              "        </tr>\n",
              "        <tr>\n",
              "            <td>FLORIDA</td>\n",
              "            <td>29</td>\n",
              "            <td>20271272</td>\n",
              "            <td>1.4305959685213637e-06</td>\n",
              "            <td>445</td>\n",
              "        </tr>\n",
              "        <tr>\n",
              "            <td>CALIFORNIA</td>\n",
              "            <td>55</td>\n",
              "            <td>39144818</td>\n",
              "            <td>1.4050391037710278e-06</td>\n",
              "            <td>500</td>\n",
              "        </tr>\n",
              "        <tr>\n",
              "            <td>TEXAS</td>\n",
              "            <td>38</td>\n",
              "            <td>27469114</td>\n",
              "            <td>1.3833718845099992e-06</td>\n",
              "            <td>538</td>\n",
              "        </tr>\n",
              "    </tbody>\n",
              "</table>"
            ],
            "text/plain": [
              "[('WYOMING', 3, 586107, 5.118519314732634e-06, 3),\n",
              " ('VERMONT', 3, 626042, 4.792010759661493e-06, 6),\n",
              " ('DC', 3, 672228, 4.462771559649405e-06, 9),\n",
              " ('ALASKA', 3, 738432, 4.0626625065002604e-06, 12),\n",
              " ('NORTH DAKOTA', 3, 756927, 3.963394092164766e-06, 15),\n",
              " ('RHODE ISLAND', 4, 1056298, 3.7868101615263876e-06, 19),\n",
              " ('SOUTH DAKOTA', 3, 858469, 3.4945932817609025e-06, 22),\n",
              " ('DELAWARE', 3, 945934, 3.1714686225466047e-06, 25),\n",
              " ('MAINE', 4, 1329328, 3.009039153617467e-06, 29),\n",
              " ('NEW HAMPSHIRE', 4, 1330608, 3.0061445594795764e-06, 33),\n",
              " ('MONTANA', 3, 1032949, 2.904306020916812e-06, 36),\n",
              " ('HAWAII', 4, 1431603, 2.794070702562093e-06, 40),\n",
              " ('WEST VIRGINIA', 5, 1844128, 2.7113085425740512e-06, 45),\n",
              " ('NEBRASKA', 5, 1896190, 2.636866558730929e-06, 50),\n",
              " ('IDAHO', 4, 1654930, 2.417020659484087e-06, 54),\n",
              " ('NEW MEXICO', 5, 2085109, 2.3979561739937817e-06, 59),\n",
              " ('NEVADA', 6, 2890845, 2.0755177119492743e-06, 65),\n",
              " ('KANSAS', 6, 2911641, 2.0606936088618066e-06, 71),\n",
              " ('ARKANSAS', 6, 2978204, 2.0146370094190997e-06, 77),\n",
              " ('MISSISSIPPI', 6, 2992333, 2.00512442966742e-06, 83),\n",
              " ('UTAH', 6, 2995919, 2.0027243727216926e-06, 89),\n",
              " ('CONNECTICUT', 7, 3590886, 1.949379623858847e-06, 96),\n",
              " ('IOWA', 6, 3123899, 1.9206766928124116e-06, 102),\n",
              " ('ALABAMA', 9, 4858979, 1.8522409749043987e-06, 111),\n",
              " ('SOUTH CAROLINA', 9, 4896146, 1.8381804790951905e-06, 120),\n",
              " ('MINNESOTA', 10, 5489594, 1.8216283389992047e-06, 130),\n",
              " ('KENTUCKY', 8, 4425092, 1.8078720171241637e-06, 138),\n",
              " ('OKLAHOMA', 7, 3911338, 1.7896689061390246e-06, 145),\n",
              " ('OREGON', 7, 4028977, 1.7374137405103083e-06, 152),\n",
              " ('WISCONSIN', 10, 5771337, 1.7327007589402595e-06, 162),\n",
              " ('LOUISIANA', 8, 4670724, 1.712796560019389e-06, 170),\n",
              " ('WASHINGTON', 12, 7170351, 1.673558240035948e-06, 182),\n",
              " ('TENNESSEE', 11, 6600299, 1.6665911650366142e-06, 193),\n",
              " ('MARYLAND', 10, 6006401, 1.6648905059785385e-06, 203),\n",
              " ('INDIANA', 11, 6619680, 1.6617117443743504e-06, 214),\n",
              " ('COLORADO', 9, 5456574, 1.6493865931260165e-06, 223),\n",
              " ('MISSOURI', 10, 6083672, 1.6437441071773757e-06, 233),\n",
              " ('MASSACHUSETTS', 11, 6794422, 1.6189750945702225e-06, 244),\n",
              " ('MICHIGAN', 16, 9922576, 1.6124844999927438e-06, 260),\n",
              " ('ARIZONA', 11, 6828065, 1.610998137832607e-06, 271),\n",
              " ('GEORGIA', 16, 10214860, 1.566345500574653e-06, 287),\n",
              " ('NEW JERSEY', 14, 8958013, 1.562846582160575e-06, 301),\n",
              " ('PENNSYLVANIA', 20, 12802503, 1.562194517743913e-06, 321),\n",
              " ('ILLINOIS', 20, 12859995, 1.5552105580134362e-06, 341),\n",
              " ('VIRGINIA', 13, 8382993, 1.5507587803067473e-06, 354),\n",
              " ('OHIO', 18, 11613423, 1.5499306276883225e-06, 372),\n",
              " ('NORTH CAROLINA', 15, 10042802, 1.4936070630487388e-06, 387),\n",
              " ('NEW YORK', 29, 19795791, 1.4649578791774474e-06, 416),\n",
              " ('FLORIDA', 29, 20271272, 1.4305959685213637e-06, 445),\n",
              " ('CALIFORNIA', 55, 39144818, 1.4050391037710278e-06, 500),\n",
              " ('TEXAS', 38, 27469114, 1.3833718845099992e-06, 538)]"
            ]
          },
          "metadata": {
            "tags": []
          },
          "execution_count": 33
        }
      ]
    },
    {
      "cell_type": "markdown",
      "metadata": {
        "id": "UNZPYIbCuiLH"
      },
      "source": [
        "6. Independently, to compute the half of the total of Grand Electors overall (in the whole country)"
      ]
    },
    {
      "cell_type": "code",
      "metadata": {
        "id": "nb8IsmGHumu8",
        "outputId": "acef6c2c-0362-49ff-d858-26579148cc2b",
        "colab": {
          "base_uri": "https://localhost:8080/",
          "height": 93
        }
      },
      "source": [
        "%%sql\n",
        "SELECT SUM(GrandElectors)/2 FROM Sorted_Cummulative;"
      ],
      "execution_count": 29,
      "outputs": [
        {
          "output_type": "stream",
          "text": [
            " * sqlite://\n",
            "Done.\n"
          ],
          "name": "stdout"
        },
        {
          "output_type": "execute_result",
          "data": {
            "text/html": [
              "<table>\n",
              "    <thead>\n",
              "        <tr>\n",
              "            <th>SUM(GrandElectors)/2</th>\n",
              "        </tr>\n",
              "    </thead>\n",
              "    <tbody>\n",
              "        <tr>\n",
              "            <td>269</td>\n",
              "        </tr>\n",
              "    </tbody>\n",
              "</table>"
            ],
            "text/plain": [
              "[(269,)]"
            ]
          },
          "metadata": {
            "tags": []
          },
          "execution_count": 29
        }
      ]
    },
    {
      "cell_type": "markdown",
      "metadata": {
        "id": "-mtQ7CO5vDH7"
      },
      "source": [
        "7. To filter our sorted list of states in order to keep only the (top) ones enabling us to reach the computed threshold. (the other states can be ignored). That is our target list."
      ]
    },
    {
      "cell_type": "code",
      "metadata": {
        "id": "_qTVkZtOiyMg",
        "colab": {
          "base_uri": "https://localhost:8080/"
        },
        "outputId": "122f30e3-bd80-45df-91ba-dc32f31f7b63"
      },
      "source": [
        "%%sql\n",
        "CREATE TABLE Target_List AS\n",
        "SELECT * FROM Sorted_Cummulative WHERE Cummulative<=269;"
      ],
      "execution_count": 30,
      "outputs": [
        {
          "output_type": "stream",
          "text": [
            " * sqlite://\n",
            "Done.\n"
          ],
          "name": "stdout"
        },
        {
          "output_type": "execute_result",
          "data": {
            "text/plain": [
              "[]"
            ]
          },
          "metadata": {
            "tags": []
          },
          "execution_count": 30
        }
      ]
    },
    {
      "cell_type": "code",
      "metadata": {
        "id": "4imuLGuTxqHn",
        "outputId": "f8ba4eda-7410-418c-e30f-4aa2600703a1",
        "colab": {
          "base_uri": "https://localhost:8080/",
          "height": 868
        }
      },
      "source": [
        "%%sql\n",
        "--Let us view our target list\n",
        "SELECT * FROM Target_List"
      ],
      "execution_count": 31,
      "outputs": [
        {
          "output_type": "stream",
          "text": [
            " * sqlite://\n",
            "Done.\n"
          ],
          "name": "stdout"
        },
        {
          "output_type": "execute_result",
          "data": {
            "text/html": [
              "<table>\n",
              "    <thead>\n",
              "        <tr>\n",
              "            <th>State</th>\n",
              "            <th>GrandElectors</th>\n",
              "            <th>Population</th>\n",
              "            <th>Ratio</th>\n",
              "            <th>Cummulative</th>\n",
              "        </tr>\n",
              "    </thead>\n",
              "    <tbody>\n",
              "        <tr>\n",
              "            <td>WYOMING</td>\n",
              "            <td>3</td>\n",
              "            <td>586107</td>\n",
              "            <td>5.118519314732634e-06</td>\n",
              "            <td>3</td>\n",
              "        </tr>\n",
              "        <tr>\n",
              "            <td>VERMONT</td>\n",
              "            <td>3</td>\n",
              "            <td>626042</td>\n",
              "            <td>4.792010759661493e-06</td>\n",
              "            <td>6</td>\n",
              "        </tr>\n",
              "        <tr>\n",
              "            <td>DC</td>\n",
              "            <td>3</td>\n",
              "            <td>672228</td>\n",
              "            <td>4.462771559649405e-06</td>\n",
              "            <td>9</td>\n",
              "        </tr>\n",
              "        <tr>\n",
              "            <td>ALASKA</td>\n",
              "            <td>3</td>\n",
              "            <td>738432</td>\n",
              "            <td>4.0626625065002604e-06</td>\n",
              "            <td>12</td>\n",
              "        </tr>\n",
              "        <tr>\n",
              "            <td>NORTH DAKOTA</td>\n",
              "            <td>3</td>\n",
              "            <td>756927</td>\n",
              "            <td>3.963394092164766e-06</td>\n",
              "            <td>15</td>\n",
              "        </tr>\n",
              "        <tr>\n",
              "            <td>RHODE ISLAND</td>\n",
              "            <td>4</td>\n",
              "            <td>1056298</td>\n",
              "            <td>3.7868101615263876e-06</td>\n",
              "            <td>19</td>\n",
              "        </tr>\n",
              "        <tr>\n",
              "            <td>SOUTH DAKOTA</td>\n",
              "            <td>3</td>\n",
              "            <td>858469</td>\n",
              "            <td>3.4945932817609025e-06</td>\n",
              "            <td>22</td>\n",
              "        </tr>\n",
              "        <tr>\n",
              "            <td>DELAWARE</td>\n",
              "            <td>3</td>\n",
              "            <td>945934</td>\n",
              "            <td>3.1714686225466047e-06</td>\n",
              "            <td>25</td>\n",
              "        </tr>\n",
              "        <tr>\n",
              "            <td>MAINE</td>\n",
              "            <td>4</td>\n",
              "            <td>1329328</td>\n",
              "            <td>3.009039153617467e-06</td>\n",
              "            <td>29</td>\n",
              "        </tr>\n",
              "        <tr>\n",
              "            <td>NEW HAMPSHIRE</td>\n",
              "            <td>4</td>\n",
              "            <td>1330608</td>\n",
              "            <td>3.0061445594795764e-06</td>\n",
              "            <td>33</td>\n",
              "        </tr>\n",
              "        <tr>\n",
              "            <td>MONTANA</td>\n",
              "            <td>3</td>\n",
              "            <td>1032949</td>\n",
              "            <td>2.904306020916812e-06</td>\n",
              "            <td>36</td>\n",
              "        </tr>\n",
              "        <tr>\n",
              "            <td>HAWAII</td>\n",
              "            <td>4</td>\n",
              "            <td>1431603</td>\n",
              "            <td>2.794070702562093e-06</td>\n",
              "            <td>40</td>\n",
              "        </tr>\n",
              "        <tr>\n",
              "            <td>WEST VIRGINIA</td>\n",
              "            <td>5</td>\n",
              "            <td>1844128</td>\n",
              "            <td>2.7113085425740512e-06</td>\n",
              "            <td>45</td>\n",
              "        </tr>\n",
              "        <tr>\n",
              "            <td>NEBRASKA</td>\n",
              "            <td>5</td>\n",
              "            <td>1896190</td>\n",
              "            <td>2.636866558730929e-06</td>\n",
              "            <td>50</td>\n",
              "        </tr>\n",
              "        <tr>\n",
              "            <td>IDAHO</td>\n",
              "            <td>4</td>\n",
              "            <td>1654930</td>\n",
              "            <td>2.417020659484087e-06</td>\n",
              "            <td>54</td>\n",
              "        </tr>\n",
              "        <tr>\n",
              "            <td>NEW MEXICO</td>\n",
              "            <td>5</td>\n",
              "            <td>2085109</td>\n",
              "            <td>2.3979561739937817e-06</td>\n",
              "            <td>59</td>\n",
              "        </tr>\n",
              "        <tr>\n",
              "            <td>NEVADA</td>\n",
              "            <td>6</td>\n",
              "            <td>2890845</td>\n",
              "            <td>2.0755177119492743e-06</td>\n",
              "            <td>65</td>\n",
              "        </tr>\n",
              "        <tr>\n",
              "            <td>KANSAS</td>\n",
              "            <td>6</td>\n",
              "            <td>2911641</td>\n",
              "            <td>2.0606936088618066e-06</td>\n",
              "            <td>71</td>\n",
              "        </tr>\n",
              "        <tr>\n",
              "            <td>ARKANSAS</td>\n",
              "            <td>6</td>\n",
              "            <td>2978204</td>\n",
              "            <td>2.0146370094190997e-06</td>\n",
              "            <td>77</td>\n",
              "        </tr>\n",
              "        <tr>\n",
              "            <td>MISSISSIPPI</td>\n",
              "            <td>6</td>\n",
              "            <td>2992333</td>\n",
              "            <td>2.00512442966742e-06</td>\n",
              "            <td>83</td>\n",
              "        </tr>\n",
              "        <tr>\n",
              "            <td>UTAH</td>\n",
              "            <td>6</td>\n",
              "            <td>2995919</td>\n",
              "            <td>2.0027243727216926e-06</td>\n",
              "            <td>89</td>\n",
              "        </tr>\n",
              "        <tr>\n",
              "            <td>CONNECTICUT</td>\n",
              "            <td>7</td>\n",
              "            <td>3590886</td>\n",
              "            <td>1.949379623858847e-06</td>\n",
              "            <td>96</td>\n",
              "        </tr>\n",
              "        <tr>\n",
              "            <td>IOWA</td>\n",
              "            <td>6</td>\n",
              "            <td>3123899</td>\n",
              "            <td>1.9206766928124116e-06</td>\n",
              "            <td>102</td>\n",
              "        </tr>\n",
              "        <tr>\n",
              "            <td>ALABAMA</td>\n",
              "            <td>9</td>\n",
              "            <td>4858979</td>\n",
              "            <td>1.8522409749043987e-06</td>\n",
              "            <td>111</td>\n",
              "        </tr>\n",
              "        <tr>\n",
              "            <td>SOUTH CAROLINA</td>\n",
              "            <td>9</td>\n",
              "            <td>4896146</td>\n",
              "            <td>1.8381804790951905e-06</td>\n",
              "            <td>120</td>\n",
              "        </tr>\n",
              "        <tr>\n",
              "            <td>MINNESOTA</td>\n",
              "            <td>10</td>\n",
              "            <td>5489594</td>\n",
              "            <td>1.8216283389992047e-06</td>\n",
              "            <td>130</td>\n",
              "        </tr>\n",
              "        <tr>\n",
              "            <td>KENTUCKY</td>\n",
              "            <td>8</td>\n",
              "            <td>4425092</td>\n",
              "            <td>1.8078720171241637e-06</td>\n",
              "            <td>138</td>\n",
              "        </tr>\n",
              "        <tr>\n",
              "            <td>OKLAHOMA</td>\n",
              "            <td>7</td>\n",
              "            <td>3911338</td>\n",
              "            <td>1.7896689061390246e-06</td>\n",
              "            <td>145</td>\n",
              "        </tr>\n",
              "        <tr>\n",
              "            <td>OREGON</td>\n",
              "            <td>7</td>\n",
              "            <td>4028977</td>\n",
              "            <td>1.7374137405103083e-06</td>\n",
              "            <td>152</td>\n",
              "        </tr>\n",
              "        <tr>\n",
              "            <td>WISCONSIN</td>\n",
              "            <td>10</td>\n",
              "            <td>5771337</td>\n",
              "            <td>1.7327007589402595e-06</td>\n",
              "            <td>162</td>\n",
              "        </tr>\n",
              "        <tr>\n",
              "            <td>LOUISIANA</td>\n",
              "            <td>8</td>\n",
              "            <td>4670724</td>\n",
              "            <td>1.712796560019389e-06</td>\n",
              "            <td>170</td>\n",
              "        </tr>\n",
              "        <tr>\n",
              "            <td>WASHINGTON</td>\n",
              "            <td>12</td>\n",
              "            <td>7170351</td>\n",
              "            <td>1.673558240035948e-06</td>\n",
              "            <td>182</td>\n",
              "        </tr>\n",
              "        <tr>\n",
              "            <td>TENNESSEE</td>\n",
              "            <td>11</td>\n",
              "            <td>6600299</td>\n",
              "            <td>1.6665911650366142e-06</td>\n",
              "            <td>193</td>\n",
              "        </tr>\n",
              "        <tr>\n",
              "            <td>MARYLAND</td>\n",
              "            <td>10</td>\n",
              "            <td>6006401</td>\n",
              "            <td>1.6648905059785385e-06</td>\n",
              "            <td>203</td>\n",
              "        </tr>\n",
              "        <tr>\n",
              "            <td>INDIANA</td>\n",
              "            <td>11</td>\n",
              "            <td>6619680</td>\n",
              "            <td>1.6617117443743504e-06</td>\n",
              "            <td>214</td>\n",
              "        </tr>\n",
              "        <tr>\n",
              "            <td>COLORADO</td>\n",
              "            <td>9</td>\n",
              "            <td>5456574</td>\n",
              "            <td>1.6493865931260165e-06</td>\n",
              "            <td>223</td>\n",
              "        </tr>\n",
              "        <tr>\n",
              "            <td>MISSOURI</td>\n",
              "            <td>10</td>\n",
              "            <td>6083672</td>\n",
              "            <td>1.6437441071773757e-06</td>\n",
              "            <td>233</td>\n",
              "        </tr>\n",
              "        <tr>\n",
              "            <td>MASSACHUSETTS</td>\n",
              "            <td>11</td>\n",
              "            <td>6794422</td>\n",
              "            <td>1.6189750945702225e-06</td>\n",
              "            <td>244</td>\n",
              "        </tr>\n",
              "        <tr>\n",
              "            <td>MICHIGAN</td>\n",
              "            <td>16</td>\n",
              "            <td>9922576</td>\n",
              "            <td>1.6124844999927438e-06</td>\n",
              "            <td>260</td>\n",
              "        </tr>\n",
              "    </tbody>\n",
              "</table>"
            ],
            "text/plain": [
              "[('WYOMING', 3, 586107, 5.118519314732634e-06, 3),\n",
              " ('VERMONT', 3, 626042, 4.792010759661493e-06, 6),\n",
              " ('DC', 3, 672228, 4.462771559649405e-06, 9),\n",
              " ('ALASKA', 3, 738432, 4.0626625065002604e-06, 12),\n",
              " ('NORTH DAKOTA', 3, 756927, 3.963394092164766e-06, 15),\n",
              " ('RHODE ISLAND', 4, 1056298, 3.7868101615263876e-06, 19),\n",
              " ('SOUTH DAKOTA', 3, 858469, 3.4945932817609025e-06, 22),\n",
              " ('DELAWARE', 3, 945934, 3.1714686225466047e-06, 25),\n",
              " ('MAINE', 4, 1329328, 3.009039153617467e-06, 29),\n",
              " ('NEW HAMPSHIRE', 4, 1330608, 3.0061445594795764e-06, 33),\n",
              " ('MONTANA', 3, 1032949, 2.904306020916812e-06, 36),\n",
              " ('HAWAII', 4, 1431603, 2.794070702562093e-06, 40),\n",
              " ('WEST VIRGINIA', 5, 1844128, 2.7113085425740512e-06, 45),\n",
              " ('NEBRASKA', 5, 1896190, 2.636866558730929e-06, 50),\n",
              " ('IDAHO', 4, 1654930, 2.417020659484087e-06, 54),\n",
              " ('NEW MEXICO', 5, 2085109, 2.3979561739937817e-06, 59),\n",
              " ('NEVADA', 6, 2890845, 2.0755177119492743e-06, 65),\n",
              " ('KANSAS', 6, 2911641, 2.0606936088618066e-06, 71),\n",
              " ('ARKANSAS', 6, 2978204, 2.0146370094190997e-06, 77),\n",
              " ('MISSISSIPPI', 6, 2992333, 2.00512442966742e-06, 83),\n",
              " ('UTAH', 6, 2995919, 2.0027243727216926e-06, 89),\n",
              " ('CONNECTICUT', 7, 3590886, 1.949379623858847e-06, 96),\n",
              " ('IOWA', 6, 3123899, 1.9206766928124116e-06, 102),\n",
              " ('ALABAMA', 9, 4858979, 1.8522409749043987e-06, 111),\n",
              " ('SOUTH CAROLINA', 9, 4896146, 1.8381804790951905e-06, 120),\n",
              " ('MINNESOTA', 10, 5489594, 1.8216283389992047e-06, 130),\n",
              " ('KENTUCKY', 8, 4425092, 1.8078720171241637e-06, 138),\n",
              " ('OKLAHOMA', 7, 3911338, 1.7896689061390246e-06, 145),\n",
              " ('OREGON', 7, 4028977, 1.7374137405103083e-06, 152),\n",
              " ('WISCONSIN', 10, 5771337, 1.7327007589402595e-06, 162),\n",
              " ('LOUISIANA', 8, 4670724, 1.712796560019389e-06, 170),\n",
              " ('WASHINGTON', 12, 7170351, 1.673558240035948e-06, 182),\n",
              " ('TENNESSEE', 11, 6600299, 1.6665911650366142e-06, 193),\n",
              " ('MARYLAND', 10, 6006401, 1.6648905059785385e-06, 203),\n",
              " ('INDIANA', 11, 6619680, 1.6617117443743504e-06, 214),\n",
              " ('COLORADO', 9, 5456574, 1.6493865931260165e-06, 223),\n",
              " ('MISSOURI', 10, 6083672, 1.6437441071773757e-06, 233),\n",
              " ('MASSACHUSETTS', 11, 6794422, 1.6189750945702225e-06, 244),\n",
              " ('MICHIGAN', 16, 9922576, 1.6124844999927438e-06, 260)]"
            ]
          },
          "metadata": {
            "tags": []
          },
          "execution_count": 31
        }
      ]
    },
    {
      "cell_type": "markdown",
      "metadata": {
        "id": "SLVIlkiswO19"
      },
      "source": [
        "Add the first state for which the running total is larger than the threshold."
      ]
    },
    {
      "cell_type": "code",
      "metadata": {
        "id": "JBSLzdWUwWP5",
        "outputId": "375f4807-69b4-400a-f588-f543e7f39e89",
        "colab": {
          "base_uri": "https://localhost:8080/"
        }
      },
      "source": [
        "%%sql\n",
        "--Let us add the first state for which the running total is larger than the threshold\n",
        "INSERT INTO Target_List(State, GrandElectors, Population, Ratio, Cummulative)\n",
        "SELECT * FROM Sorted_Cummulative WHERE State='ARIZONA';"
      ],
      "execution_count": 35,
      "outputs": [
        {
          "output_type": "stream",
          "text": [
            " * sqlite://\n",
            "Done.\n"
          ],
          "name": "stdout"
        },
        {
          "output_type": "execute_result",
          "data": {
            "text/plain": [
              "[]"
            ]
          },
          "metadata": {
            "tags": []
          },
          "execution_count": 35
        }
      ]
    },
    {
      "cell_type": "code",
      "metadata": {
        "id": "R7kq4Q3lyfbw",
        "outputId": "655aa150-9938-43ec-ef1a-cb31aeacec38",
        "colab": {
          "base_uri": "https://localhost:8080/",
          "height": 889
        }
      },
      "source": [
        "%%sql\n",
        "--Let us view the Target List with the additional row\n",
        "SELECT * FROM Target_List"
      ],
      "execution_count": 36,
      "outputs": [
        {
          "output_type": "stream",
          "text": [
            " * sqlite://\n",
            "Done.\n"
          ],
          "name": "stdout"
        },
        {
          "output_type": "execute_result",
          "data": {
            "text/html": [
              "<table>\n",
              "    <thead>\n",
              "        <tr>\n",
              "            <th>State</th>\n",
              "            <th>GrandElectors</th>\n",
              "            <th>Population</th>\n",
              "            <th>Ratio</th>\n",
              "            <th>Cummulative</th>\n",
              "        </tr>\n",
              "    </thead>\n",
              "    <tbody>\n",
              "        <tr>\n",
              "            <td>WYOMING</td>\n",
              "            <td>3</td>\n",
              "            <td>586107</td>\n",
              "            <td>5.118519314732634e-06</td>\n",
              "            <td>3</td>\n",
              "        </tr>\n",
              "        <tr>\n",
              "            <td>VERMONT</td>\n",
              "            <td>3</td>\n",
              "            <td>626042</td>\n",
              "            <td>4.792010759661493e-06</td>\n",
              "            <td>6</td>\n",
              "        </tr>\n",
              "        <tr>\n",
              "            <td>DC</td>\n",
              "            <td>3</td>\n",
              "            <td>672228</td>\n",
              "            <td>4.462771559649405e-06</td>\n",
              "            <td>9</td>\n",
              "        </tr>\n",
              "        <tr>\n",
              "            <td>ALASKA</td>\n",
              "            <td>3</td>\n",
              "            <td>738432</td>\n",
              "            <td>4.0626625065002604e-06</td>\n",
              "            <td>12</td>\n",
              "        </tr>\n",
              "        <tr>\n",
              "            <td>NORTH DAKOTA</td>\n",
              "            <td>3</td>\n",
              "            <td>756927</td>\n",
              "            <td>3.963394092164766e-06</td>\n",
              "            <td>15</td>\n",
              "        </tr>\n",
              "        <tr>\n",
              "            <td>RHODE ISLAND</td>\n",
              "            <td>4</td>\n",
              "            <td>1056298</td>\n",
              "            <td>3.7868101615263876e-06</td>\n",
              "            <td>19</td>\n",
              "        </tr>\n",
              "        <tr>\n",
              "            <td>SOUTH DAKOTA</td>\n",
              "            <td>3</td>\n",
              "            <td>858469</td>\n",
              "            <td>3.4945932817609025e-06</td>\n",
              "            <td>22</td>\n",
              "        </tr>\n",
              "        <tr>\n",
              "            <td>DELAWARE</td>\n",
              "            <td>3</td>\n",
              "            <td>945934</td>\n",
              "            <td>3.1714686225466047e-06</td>\n",
              "            <td>25</td>\n",
              "        </tr>\n",
              "        <tr>\n",
              "            <td>MAINE</td>\n",
              "            <td>4</td>\n",
              "            <td>1329328</td>\n",
              "            <td>3.009039153617467e-06</td>\n",
              "            <td>29</td>\n",
              "        </tr>\n",
              "        <tr>\n",
              "            <td>NEW HAMPSHIRE</td>\n",
              "            <td>4</td>\n",
              "            <td>1330608</td>\n",
              "            <td>3.0061445594795764e-06</td>\n",
              "            <td>33</td>\n",
              "        </tr>\n",
              "        <tr>\n",
              "            <td>MONTANA</td>\n",
              "            <td>3</td>\n",
              "            <td>1032949</td>\n",
              "            <td>2.904306020916812e-06</td>\n",
              "            <td>36</td>\n",
              "        </tr>\n",
              "        <tr>\n",
              "            <td>HAWAII</td>\n",
              "            <td>4</td>\n",
              "            <td>1431603</td>\n",
              "            <td>2.794070702562093e-06</td>\n",
              "            <td>40</td>\n",
              "        </tr>\n",
              "        <tr>\n",
              "            <td>WEST VIRGINIA</td>\n",
              "            <td>5</td>\n",
              "            <td>1844128</td>\n",
              "            <td>2.7113085425740512e-06</td>\n",
              "            <td>45</td>\n",
              "        </tr>\n",
              "        <tr>\n",
              "            <td>NEBRASKA</td>\n",
              "            <td>5</td>\n",
              "            <td>1896190</td>\n",
              "            <td>2.636866558730929e-06</td>\n",
              "            <td>50</td>\n",
              "        </tr>\n",
              "        <tr>\n",
              "            <td>IDAHO</td>\n",
              "            <td>4</td>\n",
              "            <td>1654930</td>\n",
              "            <td>2.417020659484087e-06</td>\n",
              "            <td>54</td>\n",
              "        </tr>\n",
              "        <tr>\n",
              "            <td>NEW MEXICO</td>\n",
              "            <td>5</td>\n",
              "            <td>2085109</td>\n",
              "            <td>2.3979561739937817e-06</td>\n",
              "            <td>59</td>\n",
              "        </tr>\n",
              "        <tr>\n",
              "            <td>NEVADA</td>\n",
              "            <td>6</td>\n",
              "            <td>2890845</td>\n",
              "            <td>2.0755177119492743e-06</td>\n",
              "            <td>65</td>\n",
              "        </tr>\n",
              "        <tr>\n",
              "            <td>KANSAS</td>\n",
              "            <td>6</td>\n",
              "            <td>2911641</td>\n",
              "            <td>2.0606936088618066e-06</td>\n",
              "            <td>71</td>\n",
              "        </tr>\n",
              "        <tr>\n",
              "            <td>ARKANSAS</td>\n",
              "            <td>6</td>\n",
              "            <td>2978204</td>\n",
              "            <td>2.0146370094190997e-06</td>\n",
              "            <td>77</td>\n",
              "        </tr>\n",
              "        <tr>\n",
              "            <td>MISSISSIPPI</td>\n",
              "            <td>6</td>\n",
              "            <td>2992333</td>\n",
              "            <td>2.00512442966742e-06</td>\n",
              "            <td>83</td>\n",
              "        </tr>\n",
              "        <tr>\n",
              "            <td>UTAH</td>\n",
              "            <td>6</td>\n",
              "            <td>2995919</td>\n",
              "            <td>2.0027243727216926e-06</td>\n",
              "            <td>89</td>\n",
              "        </tr>\n",
              "        <tr>\n",
              "            <td>CONNECTICUT</td>\n",
              "            <td>7</td>\n",
              "            <td>3590886</td>\n",
              "            <td>1.949379623858847e-06</td>\n",
              "            <td>96</td>\n",
              "        </tr>\n",
              "        <tr>\n",
              "            <td>IOWA</td>\n",
              "            <td>6</td>\n",
              "            <td>3123899</td>\n",
              "            <td>1.9206766928124116e-06</td>\n",
              "            <td>102</td>\n",
              "        </tr>\n",
              "        <tr>\n",
              "            <td>ALABAMA</td>\n",
              "            <td>9</td>\n",
              "            <td>4858979</td>\n",
              "            <td>1.8522409749043987e-06</td>\n",
              "            <td>111</td>\n",
              "        </tr>\n",
              "        <tr>\n",
              "            <td>SOUTH CAROLINA</td>\n",
              "            <td>9</td>\n",
              "            <td>4896146</td>\n",
              "            <td>1.8381804790951905e-06</td>\n",
              "            <td>120</td>\n",
              "        </tr>\n",
              "        <tr>\n",
              "            <td>MINNESOTA</td>\n",
              "            <td>10</td>\n",
              "            <td>5489594</td>\n",
              "            <td>1.8216283389992047e-06</td>\n",
              "            <td>130</td>\n",
              "        </tr>\n",
              "        <tr>\n",
              "            <td>KENTUCKY</td>\n",
              "            <td>8</td>\n",
              "            <td>4425092</td>\n",
              "            <td>1.8078720171241637e-06</td>\n",
              "            <td>138</td>\n",
              "        </tr>\n",
              "        <tr>\n",
              "            <td>OKLAHOMA</td>\n",
              "            <td>7</td>\n",
              "            <td>3911338</td>\n",
              "            <td>1.7896689061390246e-06</td>\n",
              "            <td>145</td>\n",
              "        </tr>\n",
              "        <tr>\n",
              "            <td>OREGON</td>\n",
              "            <td>7</td>\n",
              "            <td>4028977</td>\n",
              "            <td>1.7374137405103083e-06</td>\n",
              "            <td>152</td>\n",
              "        </tr>\n",
              "        <tr>\n",
              "            <td>WISCONSIN</td>\n",
              "            <td>10</td>\n",
              "            <td>5771337</td>\n",
              "            <td>1.7327007589402595e-06</td>\n",
              "            <td>162</td>\n",
              "        </tr>\n",
              "        <tr>\n",
              "            <td>LOUISIANA</td>\n",
              "            <td>8</td>\n",
              "            <td>4670724</td>\n",
              "            <td>1.712796560019389e-06</td>\n",
              "            <td>170</td>\n",
              "        </tr>\n",
              "        <tr>\n",
              "            <td>WASHINGTON</td>\n",
              "            <td>12</td>\n",
              "            <td>7170351</td>\n",
              "            <td>1.673558240035948e-06</td>\n",
              "            <td>182</td>\n",
              "        </tr>\n",
              "        <tr>\n",
              "            <td>TENNESSEE</td>\n",
              "            <td>11</td>\n",
              "            <td>6600299</td>\n",
              "            <td>1.6665911650366142e-06</td>\n",
              "            <td>193</td>\n",
              "        </tr>\n",
              "        <tr>\n",
              "            <td>MARYLAND</td>\n",
              "            <td>10</td>\n",
              "            <td>6006401</td>\n",
              "            <td>1.6648905059785385e-06</td>\n",
              "            <td>203</td>\n",
              "        </tr>\n",
              "        <tr>\n",
              "            <td>INDIANA</td>\n",
              "            <td>11</td>\n",
              "            <td>6619680</td>\n",
              "            <td>1.6617117443743504e-06</td>\n",
              "            <td>214</td>\n",
              "        </tr>\n",
              "        <tr>\n",
              "            <td>COLORADO</td>\n",
              "            <td>9</td>\n",
              "            <td>5456574</td>\n",
              "            <td>1.6493865931260165e-06</td>\n",
              "            <td>223</td>\n",
              "        </tr>\n",
              "        <tr>\n",
              "            <td>MISSOURI</td>\n",
              "            <td>10</td>\n",
              "            <td>6083672</td>\n",
              "            <td>1.6437441071773757e-06</td>\n",
              "            <td>233</td>\n",
              "        </tr>\n",
              "        <tr>\n",
              "            <td>MASSACHUSETTS</td>\n",
              "            <td>11</td>\n",
              "            <td>6794422</td>\n",
              "            <td>1.6189750945702225e-06</td>\n",
              "            <td>244</td>\n",
              "        </tr>\n",
              "        <tr>\n",
              "            <td>MICHIGAN</td>\n",
              "            <td>16</td>\n",
              "            <td>9922576</td>\n",
              "            <td>1.6124844999927438e-06</td>\n",
              "            <td>260</td>\n",
              "        </tr>\n",
              "        <tr>\n",
              "            <td>ARIZONA</td>\n",
              "            <td>11</td>\n",
              "            <td>6828065</td>\n",
              "            <td>1.610998137832607e-06</td>\n",
              "            <td>271</td>\n",
              "        </tr>\n",
              "    </tbody>\n",
              "</table>"
            ],
            "text/plain": [
              "[('WYOMING', 3, 586107, 5.118519314732634e-06, 3),\n",
              " ('VERMONT', 3, 626042, 4.792010759661493e-06, 6),\n",
              " ('DC', 3, 672228, 4.462771559649405e-06, 9),\n",
              " ('ALASKA', 3, 738432, 4.0626625065002604e-06, 12),\n",
              " ('NORTH DAKOTA', 3, 756927, 3.963394092164766e-06, 15),\n",
              " ('RHODE ISLAND', 4, 1056298, 3.7868101615263876e-06, 19),\n",
              " ('SOUTH DAKOTA', 3, 858469, 3.4945932817609025e-06, 22),\n",
              " ('DELAWARE', 3, 945934, 3.1714686225466047e-06, 25),\n",
              " ('MAINE', 4, 1329328, 3.009039153617467e-06, 29),\n",
              " ('NEW HAMPSHIRE', 4, 1330608, 3.0061445594795764e-06, 33),\n",
              " ('MONTANA', 3, 1032949, 2.904306020916812e-06, 36),\n",
              " ('HAWAII', 4, 1431603, 2.794070702562093e-06, 40),\n",
              " ('WEST VIRGINIA', 5, 1844128, 2.7113085425740512e-06, 45),\n",
              " ('NEBRASKA', 5, 1896190, 2.636866558730929e-06, 50),\n",
              " ('IDAHO', 4, 1654930, 2.417020659484087e-06, 54),\n",
              " ('NEW MEXICO', 5, 2085109, 2.3979561739937817e-06, 59),\n",
              " ('NEVADA', 6, 2890845, 2.0755177119492743e-06, 65),\n",
              " ('KANSAS', 6, 2911641, 2.0606936088618066e-06, 71),\n",
              " ('ARKANSAS', 6, 2978204, 2.0146370094190997e-06, 77),\n",
              " ('MISSISSIPPI', 6, 2992333, 2.00512442966742e-06, 83),\n",
              " ('UTAH', 6, 2995919, 2.0027243727216926e-06, 89),\n",
              " ('CONNECTICUT', 7, 3590886, 1.949379623858847e-06, 96),\n",
              " ('IOWA', 6, 3123899, 1.9206766928124116e-06, 102),\n",
              " ('ALABAMA', 9, 4858979, 1.8522409749043987e-06, 111),\n",
              " ('SOUTH CAROLINA', 9, 4896146, 1.8381804790951905e-06, 120),\n",
              " ('MINNESOTA', 10, 5489594, 1.8216283389992047e-06, 130),\n",
              " ('KENTUCKY', 8, 4425092, 1.8078720171241637e-06, 138),\n",
              " ('OKLAHOMA', 7, 3911338, 1.7896689061390246e-06, 145),\n",
              " ('OREGON', 7, 4028977, 1.7374137405103083e-06, 152),\n",
              " ('WISCONSIN', 10, 5771337, 1.7327007589402595e-06, 162),\n",
              " ('LOUISIANA', 8, 4670724, 1.712796560019389e-06, 170),\n",
              " ('WASHINGTON', 12, 7170351, 1.673558240035948e-06, 182),\n",
              " ('TENNESSEE', 11, 6600299, 1.6665911650366142e-06, 193),\n",
              " ('MARYLAND', 10, 6006401, 1.6648905059785385e-06, 203),\n",
              " ('INDIANA', 11, 6619680, 1.6617117443743504e-06, 214),\n",
              " ('COLORADO', 9, 5456574, 1.6493865931260165e-06, 223),\n",
              " ('MISSOURI', 10, 6083672, 1.6437441071773757e-06, 233),\n",
              " ('MASSACHUSETTS', 11, 6794422, 1.6189750945702225e-06, 244),\n",
              " ('MICHIGAN', 16, 9922576, 1.6124844999927438e-06, 260),\n",
              " ('ARIZONA', 11, 6828065, 1.610998137832607e-06, 271)]"
            ]
          },
          "metadata": {
            "tags": []
          },
          "execution_count": 36
        }
      ]
    },
    {
      "cell_type": "markdown",
      "metadata": {
        "id": "HZLxmqlI1nvs"
      },
      "source": [
        "How many states do you end up within the target list?"
      ]
    },
    {
      "cell_type": "code",
      "metadata": {
        "id": "trvKTS36oeTb",
        "colab": {
          "base_uri": "https://localhost:8080/",
          "height": 93
        },
        "outputId": "63549636-f443-4e18-86b6-cfcb9b3914d1"
      },
      "source": [
        "%%sql\n",
        "SELECT COUNT(State) FROM Target_List;"
      ],
      "execution_count": 37,
      "outputs": [
        {
          "output_type": "stream",
          "text": [
            " * sqlite://\n",
            "Done.\n"
          ],
          "name": "stdout"
        },
        {
          "output_type": "execute_result",
          "data": {
            "text/html": [
              "<table>\n",
              "    <thead>\n",
              "        <tr>\n",
              "            <th>COUNT(State)</th>\n",
              "        </tr>\n",
              "    </thead>\n",
              "    <tbody>\n",
              "        <tr>\n",
              "            <td>40</td>\n",
              "        </tr>\n",
              "    </tbody>\n",
              "</table>"
            ],
            "text/plain": [
              "[(40,)]"
            ]
          },
          "metadata": {
            "tags": []
          },
          "execution_count": 37
        }
      ]
    },
    {
      "cell_type": "markdown",
      "metadata": {
        "id": "-ko55FaB11ss"
      },
      "source": [
        "Is it a small or a large number? "
      ]
    },
    {
      "cell_type": "code",
      "metadata": {
        "id": "XsliDhqxolXf",
        "outputId": "57c7a7ed-6060-45e9-ba76-ac7b14127821",
        "colab": {
          "base_uri": "https://localhost:8080/"
        }
      },
      "source": [
        "(40/51)*100"
      ],
      "execution_count": 39,
      "outputs": [
        {
          "output_type": "execute_result",
          "data": {
            "text/plain": [
              "78.43137254901961"
            ]
          },
          "metadata": {
            "tags": []
          },
          "execution_count": 39
        }
      ]
    },
    {
      "cell_type": "markdown",
      "metadata": {
        "id": "jnID8Dug2fsm"
      },
      "source": [
        "The total number of states in our target list is 78.4% of the total states in the US. So this is a large number."
      ]
    },
    {
      "cell_type": "markdown",
      "metadata": {
        "id": "TZnKcd2-3IZi"
      },
      "source": [
        " Do you think it would be a good recommendation to target those states?"
      ]
    },
    {
      "cell_type": "code",
      "metadata": {
        "id": "Zyg0gntM2KLz"
      },
      "source": [
        ""
      ],
      "execution_count": null,
      "outputs": []
    }
  ]
}