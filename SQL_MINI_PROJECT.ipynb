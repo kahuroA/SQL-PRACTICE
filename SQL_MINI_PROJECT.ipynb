{
  "nbformat": 4,
  "nbformat_minor": 0,
  "metadata": {
    "colab": {
      "name": "SQL MINI-PROJECT.ipynb",
      "provenance": [],
      "include_colab_link": true
    },
    "kernelspec": {
      "name": "python3",
      "display_name": "Python 3"
    },
    "language_info": {
      "name": "python"
    }
  },
  "cells": [
    {
      "cell_type": "markdown",
      "metadata": {
        "id": "view-in-github",
        "colab_type": "text"
      },
      "source": [
        "<a href=\"https://colab.research.google.com/github/kahuroA/SQL-PRACTICE/blob/main/SQL_MINI_PROJECT.ipynb\" target=\"_parent\"><img src=\"https://colab.research.google.com/assets/colab-badge.svg\" alt=\"Open In Colab\"/></a>"
      ]
    },
    {
      "cell_type": "code",
      "metadata": {
        "id": "PPikLkZPUymr"
      },
      "source": [
        ""
      ],
      "execution_count": null,
      "outputs": []
    },
    {
      "cell_type": "markdown",
      "metadata": {
        "id": "B5bEWoVTVBw-"
      },
      "source": [
        "**SQL MINI-PROJECT** *"
      ]
    },
    {
      "cell_type": "code",
      "metadata": {
        "colab": {
          "base_uri": "https://localhost:8080/",
          "height": 35
        },
        "id": "l2NYNiXiVSYq",
        "outputId": "21c27a90-c33d-402c-ece6-b56408d707d3"
      },
      "source": [
        "#load the sql extension\n",
        "%load_ext sql\n",
        "#create a temporary connection of sqlite\n",
        "%sql sqlite://"
      ],
      "execution_count": 1,
      "outputs": [
        {
          "output_type": "execute_result",
          "data": {
            "application/vnd.google.colaboratory.intrinsic+json": {
              "type": "string"
            },
            "text/plain": [
              "'Connected: @None'"
            ]
          },
          "metadata": {
            "tags": []
          },
          "execution_count": 1
        }
      ]
    },
    {
      "cell_type": "code",
      "metadata": {
        "colab": {
          "base_uri": "https://localhost:8080/",
          "height": 225
        },
        "id": "baRFml3jVvSz",
        "outputId": "bbc43db6-269c-4b62-eab1-0dfb1ab54b5b"
      },
      "source": [
        "#import packages and read pandas dataframe in an sql table\n",
        "import pandas as pd\n",
        "with open('GrandElectors_by_state.csv','r') as f:\n",
        "  Grand_Electors=pd.read_csv(f, index_col=0, encoding='utf-8')\n",
        "%sql DROP TABLE IF EXISTS Grand_Electors;\n",
        "%sql PERSIST Grand_Electors;\n",
        "%sql SELECT * FROM Grand_Electors LIMIT 5;"
      ],
      "execution_count": 2,
      "outputs": [
        {
          "output_type": "stream",
          "text": [
            " * sqlite://\n",
            "Done.\n",
            " * sqlite://\n",
            " * sqlite://\n",
            "Done.\n"
          ],
          "name": "stdout"
        },
        {
          "output_type": "execute_result",
          "data": {
            "text/html": [
              "<table>\n",
              "    <thead>\n",
              "        <tr>\n",
              "            <th>State</th>\n",
              "            <th>GrandElectors</th>\n",
              "        </tr>\n",
              "    </thead>\n",
              "    <tbody>\n",
              "        <tr>\n",
              "            <td>Alabama</td>\n",
              "            <td>9</td>\n",
              "        </tr>\n",
              "        <tr>\n",
              "            <td>Alaska</td>\n",
              "            <td>3</td>\n",
              "        </tr>\n",
              "        <tr>\n",
              "            <td>Arizona</td>\n",
              "            <td>11</td>\n",
              "        </tr>\n",
              "        <tr>\n",
              "            <td>Arkansas</td>\n",
              "            <td>6</td>\n",
              "        </tr>\n",
              "        <tr>\n",
              "            <td>California</td>\n",
              "            <td>55</td>\n",
              "        </tr>\n",
              "    </tbody>\n",
              "</table>"
            ],
            "text/plain": [
              "[('Alabama', 9),\n",
              " ('Alaska', 3),\n",
              " ('Arizona', 11),\n",
              " ('Arkansas', 6),\n",
              " ('California', 55)]"
            ]
          },
          "metadata": {
            "tags": []
          },
          "execution_count": 2
        }
      ]
    },
    {
      "cell_type": "code",
      "metadata": {
        "colab": {
          "base_uri": "https://localhost:8080/",
          "height": 225
        },
        "id": "lR8c4UbxWgZN",
        "outputId": "ee443ce5-2fe5-4e1e-af73-d72438f149f8"
      },
      "source": [
        "#open the population csv with pandas and store and read the dataframe using sql table\n",
        "with open('Population_by_state.csv','r') as f:\n",
        "  Population=pd.read_csv(f, index_col=0, encoding='utf-8')\n",
        "%sql DROP TABLE IF EXISTS Population;\n",
        "%sql PERSIST Population;\n",
        "%sql SELECT * FROM Population LIMIT 5;"
      ],
      "execution_count": 3,
      "outputs": [
        {
          "output_type": "stream",
          "text": [
            " * sqlite://\n",
            "Done.\n",
            " * sqlite://\n",
            " * sqlite://\n",
            "Done.\n"
          ],
          "name": "stdout"
        },
        {
          "output_type": "execute_result",
          "data": {
            "text/html": [
              "<table>\n",
              "    <thead>\n",
              "        <tr>\n",
              "            <th>State</th>\n",
              "            <th>Population</th>\n",
              "        </tr>\n",
              "    </thead>\n",
              "    <tbody>\n",
              "        <tr>\n",
              "            <td>CALIFORNIA</td>\n",
              "            <td>39144818</td>\n",
              "        </tr>\n",
              "        <tr>\n",
              "            <td>TEXAS</td>\n",
              "            <td>27469114</td>\n",
              "        </tr>\n",
              "        <tr>\n",
              "            <td>FLORIDA</td>\n",
              "            <td>20271272</td>\n",
              "        </tr>\n",
              "        <tr>\n",
              "            <td>NEW YORK</td>\n",
              "            <td>19795791</td>\n",
              "        </tr>\n",
              "        <tr>\n",
              "            <td>ILLINOIS</td>\n",
              "            <td>12859995</td>\n",
              "        </tr>\n",
              "    </tbody>\n",
              "</table>"
            ],
            "text/plain": [
              "[('CALIFORNIA', 39144818),\n",
              " ('TEXAS', 27469114),\n",
              " ('FLORIDA', 20271272),\n",
              " ('NEW YORK', 19795791),\n",
              " ('ILLINOIS', 12859995)]"
            ]
          },
          "metadata": {
            "tags": []
          },
          "execution_count": 3
        }
      ]
    },
    {
      "cell_type": "code",
      "metadata": {
        "colab": {
          "base_uri": "https://localhost:8080/"
        },
        "id": "FA1rFOMpft8b",
        "outputId": "d4e3c0db-0940-403b-caf0-7a0fecdfb1b3"
      },
      "source": [
        "# capitalize the states in the Grand_Electors table so as to enable an inner join\n",
        "%sql UPDATE Grand_Electors SET State=UPPER(State);"
      ],
      "execution_count": 4,
      "outputs": [
        {
          "output_type": "stream",
          "text": [
            " * sqlite://\n",
            "51 rows affected.\n"
          ],
          "name": "stdout"
        },
        {
          "output_type": "execute_result",
          "data": {
            "text/plain": [
              "[]"
            ]
          },
          "metadata": {
            "tags": []
          },
          "execution_count": 4
        }
      ]
    },
    {
      "cell_type": "code",
      "metadata": {
        "colab": {
          "base_uri": "https://localhost:8080/"
        },
        "id": "n4PgJ8ouXDPw",
        "outputId": "264385f6-aa91-458f-de3e-6ce20bd2fae7"
      },
      "source": [
        "%%sql\n",
        "--Make the inner join between Grand_Electors and Population, store the result in a new table called Combined\n",
        "CREATE TABLE Combined AS\n",
        "SELECT * FROM Grand_Electors\n",
        "INNER JOIN Population  on Population.State = Grand_Electors.State;"
      ],
      "execution_count": 5,
      "outputs": [
        {
          "output_type": "stream",
          "text": [
            " * sqlite://\n",
            "Done.\n"
          ],
          "name": "stdout"
        },
        {
          "output_type": "execute_result",
          "data": {
            "text/plain": [
              "[]"
            ]
          },
          "metadata": {
            "tags": []
          },
          "execution_count": 5
        }
      ]
    },
    {
      "cell_type": "code",
      "metadata": {
        "colab": {
          "base_uri": "https://localhost:8080/",
          "height": 174
        },
        "id": "mfKWlXP_XDgT",
        "outputId": "bdf206d9-3352-43a2-fa60-316dad5b06b7"
      },
      "source": [
        "%%sql\n",
        "--view the combined table\n",
        "SELECT * FROM Combined LIMIT 5;"
      ],
      "execution_count": 6,
      "outputs": [
        {
          "output_type": "stream",
          "text": [
            " * sqlite://\n",
            "Done.\n"
          ],
          "name": "stdout"
        },
        {
          "output_type": "execute_result",
          "data": {
            "text/html": [
              "<table>\n",
              "    <thead>\n",
              "        <tr>\n",
              "            <th>State</th>\n",
              "            <th>GrandElectors</th>\n",
              "            <th>State:1</th>\n",
              "            <th>Population</th>\n",
              "        </tr>\n",
              "    </thead>\n",
              "    <tbody>\n",
              "        <tr>\n",
              "            <td>ALABAMA</td>\n",
              "            <td>9</td>\n",
              "            <td>ALABAMA</td>\n",
              "            <td>4858979</td>\n",
              "        </tr>\n",
              "        <tr>\n",
              "            <td>ALASKA</td>\n",
              "            <td>3</td>\n",
              "            <td>ALASKA</td>\n",
              "            <td>738432</td>\n",
              "        </tr>\n",
              "        <tr>\n",
              "            <td>ARIZONA</td>\n",
              "            <td>11</td>\n",
              "            <td>ARIZONA</td>\n",
              "            <td>6828065</td>\n",
              "        </tr>\n",
              "        <tr>\n",
              "            <td>ARKANSAS</td>\n",
              "            <td>6</td>\n",
              "            <td>ARKANSAS</td>\n",
              "            <td>2978204</td>\n",
              "        </tr>\n",
              "        <tr>\n",
              "            <td>CALIFORNIA</td>\n",
              "            <td>55</td>\n",
              "            <td>CALIFORNIA</td>\n",
              "            <td>39144818</td>\n",
              "        </tr>\n",
              "    </tbody>\n",
              "</table>"
            ],
            "text/plain": [
              "[('ALABAMA', 9, 'ALABAMA', 4858979),\n",
              " ('ALASKA', 3, 'ALASKA', 738432),\n",
              " ('ARIZONA', 11, 'ARIZONA', 6828065),\n",
              " ('ARKANSAS', 6, 'ARKANSAS', 2978204),\n",
              " ('CALIFORNIA', 55, 'CALIFORNIA', 39144818)]"
            ]
          },
          "metadata": {
            "tags": []
          },
          "execution_count": 6
        }
      ]
    },
    {
      "cell_type": "code",
      "metadata": {
        "colab": {
          "base_uri": "https://localhost:8080/"
        },
        "id": "mq2s_wMGiDqF",
        "outputId": "12477ae4-6772-440c-e696-4ab1bba8b97e"
      },
      "source": [
        "%%sql\n",
        "--We will drop the redundant column State:1 by creating a table Combined_new with relevant columns from Combined.\n",
        "CREATE TABLE Combined_new (\n",
        "  State  TEXT PRIMARY KEY,\n",
        "  GrandElectors  int,\n",
        "  Population  int\n",
        ");\n",
        "--After creating the table with relevant columns from Combine table, we will insert columns from Combined table \n",
        "INSERT INTO Combined_new SELECT State, GrandElectors, Population FROM Combined;\n",
        "--We will then drop the table Combined\n",
        "DROP TABLE Combined;\n",
        "--finally we will alter the new table's name and give it the name Combined\n",
        "ALTER TABLE Combined_new RENAME TO Combined;"
      ],
      "execution_count": 7,
      "outputs": [
        {
          "output_type": "stream",
          "text": [
            " * sqlite://\n",
            "Done.\n",
            "Done.\n",
            "Done.\n",
            "Done.\n"
          ],
          "name": "stdout"
        },
        {
          "output_type": "execute_result",
          "data": {
            "text/plain": [
              "[]"
            ]
          },
          "metadata": {
            "tags": []
          },
          "execution_count": 7
        }
      ]
    },
    {
      "cell_type": "code",
      "metadata": {
        "colab": {
          "base_uri": "https://localhost:8080/",
          "height": 174
        },
        "id": "_XFgQZQtw1nV",
        "outputId": "bacbf542-33f6-4284-afea-ba7958f4cb61"
      },
      "source": [
        "%%sql\n",
        "--view the table combined\n",
        "SELECT * FROM Combined LIMIT 5;"
      ],
      "execution_count": 8,
      "outputs": [
        {
          "output_type": "stream",
          "text": [
            " * sqlite://\n",
            "Done.\n"
          ],
          "name": "stdout"
        },
        {
          "output_type": "execute_result",
          "data": {
            "text/html": [
              "<table>\n",
              "    <thead>\n",
              "        <tr>\n",
              "            <th>State</th>\n",
              "            <th>GrandElectors</th>\n",
              "            <th>Population</th>\n",
              "        </tr>\n",
              "    </thead>\n",
              "    <tbody>\n",
              "        <tr>\n",
              "            <td>ALABAMA</td>\n",
              "            <td>9</td>\n",
              "            <td>4858979</td>\n",
              "        </tr>\n",
              "        <tr>\n",
              "            <td>ALASKA</td>\n",
              "            <td>3</td>\n",
              "            <td>738432</td>\n",
              "        </tr>\n",
              "        <tr>\n",
              "            <td>ARIZONA</td>\n",
              "            <td>11</td>\n",
              "            <td>6828065</td>\n",
              "        </tr>\n",
              "        <tr>\n",
              "            <td>ARKANSAS</td>\n",
              "            <td>6</td>\n",
              "            <td>2978204</td>\n",
              "        </tr>\n",
              "        <tr>\n",
              "            <td>CALIFORNIA</td>\n",
              "            <td>55</td>\n",
              "            <td>39144818</td>\n",
              "        </tr>\n",
              "    </tbody>\n",
              "</table>"
            ],
            "text/plain": [
              "[('ALABAMA', 9, 4858979),\n",
              " ('ALASKA', 3, 738432),\n",
              " ('ARIZONA', 11, 6828065),\n",
              " ('ARKANSAS', 6, 2978204),\n",
              " ('CALIFORNIA', 55, 39144818)]"
            ]
          },
          "metadata": {
            "tags": []
          },
          "execution_count": 8
        }
      ]
    },
    {
      "cell_type": "markdown",
      "metadata": {
        "id": "fzjCr4UJfcQd"
      },
      "source": [
        "2. Your boss wants you to change the name of the \"District of Columbia\" state to its short version \"DC\". Please do that."
      ]
    },
    {
      "cell_type": "code",
      "metadata": {
        "colab": {
          "base_uri": "https://localhost:8080/"
        },
        "id": "939a8bqnw7Im",
        "outputId": "c04b2d27-1bfe-4d4b-ef4a-393c47ab4d0d"
      },
      "source": [
        "%%sql\n",
        "--We update the state column with a condition of where we need to do the update\n",
        "UPDATE Combined\n",
        "SET State='DC'\n",
        "WHERE State='DISTRICT OF COLUMBIA'"
      ],
      "execution_count": 9,
      "outputs": [
        {
          "output_type": "stream",
          "text": [
            " * sqlite://\n",
            "Done.\n"
          ],
          "name": "stdout"
        },
        {
          "output_type": "execute_result",
          "data": {
            "text/plain": [
              "[]"
            ]
          },
          "metadata": {
            "tags": []
          },
          "execution_count": 9
        }
      ]
    },
    {
      "cell_type": "markdown",
      "metadata": {
        "id": "Q6LjwUkAjK90"
      },
      "source": [
        "3. To compute the ratio between the number of grand electors and the population. Please create a new column with that ratio."
      ]
    },
    {
      "cell_type": "code",
      "metadata": {
        "colab": {
          "base_uri": "https://localhost:8080/"
        },
        "id": "xVlLE74Ay__g",
        "outputId": "6640b6d1-1d65-4520-cded-228240bd2ec7"
      },
      "source": [
        "%%sql\n",
        "--create a new table with the ratio column\n",
        "CREATE TABLE Combined_new AS\n",
        "SELECT *, CAST(Combined.GrandElectors AS FLOAT)/CAST(Combined.Population AS FLOAT) AS Ratio\n",
        "FROM   Combined;\n",
        "--drop the old table Combined\n",
        "DROP TABLE Combined;\n",
        "--Rename the new table with ratio column as Combined\n",
        "ALTER TABLE Combined_new Rename to Combined;"
      ],
      "execution_count": 10,
      "outputs": [
        {
          "output_type": "stream",
          "text": [
            " * sqlite://\n",
            "Done.\n",
            "Done.\n",
            "Done.\n"
          ],
          "name": "stdout"
        },
        {
          "output_type": "execute_result",
          "data": {
            "text/plain": [
              "[]"
            ]
          },
          "metadata": {
            "tags": []
          },
          "execution_count": 10
        }
      ]
    },
    {
      "cell_type": "code",
      "metadata": {
        "colab": {
          "base_uri": "https://localhost:8080/",
          "height": 174
        },
        "id": "xAxP8H7A04ME",
        "outputId": "220c7ff2-4f0e-462c-8bdb-3d14f2fe8110"
      },
      "source": [
        "%%sql\n",
        "--Let us view the table with the new ratio column\n",
        "SELECT * FROM Combined LIMIT 5;"
      ],
      "execution_count": 11,
      "outputs": [
        {
          "output_type": "stream",
          "text": [
            " * sqlite://\n",
            "Done.\n"
          ],
          "name": "stdout"
        },
        {
          "output_type": "execute_result",
          "data": {
            "text/html": [
              "<table>\n",
              "    <thead>\n",
              "        <tr>\n",
              "            <th>State</th>\n",
              "            <th>GrandElectors</th>\n",
              "            <th>Population</th>\n",
              "            <th>Ratio</th>\n",
              "        </tr>\n",
              "    </thead>\n",
              "    <tbody>\n",
              "        <tr>\n",
              "            <td>ALABAMA</td>\n",
              "            <td>9</td>\n",
              "            <td>4858979</td>\n",
              "            <td>1.8522409749043987e-06</td>\n",
              "        </tr>\n",
              "        <tr>\n",
              "            <td>ALASKA</td>\n",
              "            <td>3</td>\n",
              "            <td>738432</td>\n",
              "            <td>4.0626625065002604e-06</td>\n",
              "        </tr>\n",
              "        <tr>\n",
              "            <td>ARIZONA</td>\n",
              "            <td>11</td>\n",
              "            <td>6828065</td>\n",
              "            <td>1.610998137832607e-06</td>\n",
              "        </tr>\n",
              "        <tr>\n",
              "            <td>ARKANSAS</td>\n",
              "            <td>6</td>\n",
              "            <td>2978204</td>\n",
              "            <td>2.0146370094190997e-06</td>\n",
              "        </tr>\n",
              "        <tr>\n",
              "            <td>CALIFORNIA</td>\n",
              "            <td>55</td>\n",
              "            <td>39144818</td>\n",
              "            <td>1.4050391037710278e-06</td>\n",
              "        </tr>\n",
              "    </tbody>\n",
              "</table>"
            ],
            "text/plain": [
              "[('ALABAMA', 9, 4858979, 1.8522409749043987e-06),\n",
              " ('ALASKA', 3, 738432, 4.0626625065002604e-06),\n",
              " ('ARIZONA', 11, 6828065, 1.610998137832607e-06),\n",
              " ('ARKANSAS', 6, 2978204, 2.0146370094190997e-06),\n",
              " ('CALIFORNIA', 55, 39144818, 1.4050391037710278e-06)]"
            ]
          },
          "metadata": {
            "tags": []
          },
          "execution_count": 11
        }
      ]
    },
    {
      "cell_type": "markdown",
      "metadata": {
        "id": "FPY8XJK3l3sa"
      },
      "source": [
        "4. To order the states by decreasing ratio of Grand Electors per capita. That will make our priority list"
      ]
    },
    {
      "cell_type": "code",
      "metadata": {
        "colab": {
          "base_uri": "https://localhost:8080/"
        },
        "id": "lCNuN2ZcQRFC",
        "outputId": "90c0b667-f8d7-4fd6-e52b-2d265f143009"
      },
      "source": [
        "%%sql\n",
        "CREATE TABLE Sorted AS\n",
        "SELECT * FROM Combined\n",
        "ORDER BY Ratio DESC;"
      ],
      "execution_count": 12,
      "outputs": [
        {
          "output_type": "stream",
          "text": [
            " * sqlite://\n",
            "Done.\n"
          ],
          "name": "stdout"
        },
        {
          "output_type": "execute_result",
          "data": {
            "text/plain": [
              "[]"
            ]
          },
          "metadata": {
            "tags": []
          },
          "execution_count": 12
        }
      ]
    },
    {
      "cell_type": "code",
      "metadata": {
        "id": "Hl7tRLb6l2L1",
        "colab": {
          "base_uri": "https://localhost:8080/",
          "height": 174
        },
        "outputId": "010fb381-8afb-4f54-b1a7-e545596ac2e1"
      },
      "source": [
        "%%sql\n",
        "--let us view the new table with ratio sorted in decreasing order\n",
        "SELECT * FROM Sorted LIMIT 5;"
      ],
      "execution_count": 13,
      "outputs": [
        {
          "output_type": "stream",
          "text": [
            " * sqlite://\n",
            "Done.\n"
          ],
          "name": "stdout"
        },
        {
          "output_type": "execute_result",
          "data": {
            "text/html": [
              "<table>\n",
              "    <thead>\n",
              "        <tr>\n",
              "            <th>State</th>\n",
              "            <th>GrandElectors</th>\n",
              "            <th>Population</th>\n",
              "            <th>Ratio</th>\n",
              "        </tr>\n",
              "    </thead>\n",
              "    <tbody>\n",
              "        <tr>\n",
              "            <td>WYOMING</td>\n",
              "            <td>3</td>\n",
              "            <td>586107</td>\n",
              "            <td>5.118519314732634e-06</td>\n",
              "        </tr>\n",
              "        <tr>\n",
              "            <td>VERMONT</td>\n",
              "            <td>3</td>\n",
              "            <td>626042</td>\n",
              "            <td>4.792010759661493e-06</td>\n",
              "        </tr>\n",
              "        <tr>\n",
              "            <td>DC</td>\n",
              "            <td>3</td>\n",
              "            <td>672228</td>\n",
              "            <td>4.462771559649405e-06</td>\n",
              "        </tr>\n",
              "        <tr>\n",
              "            <td>ALASKA</td>\n",
              "            <td>3</td>\n",
              "            <td>738432</td>\n",
              "            <td>4.0626625065002604e-06</td>\n",
              "        </tr>\n",
              "        <tr>\n",
              "            <td>NORTH DAKOTA</td>\n",
              "            <td>3</td>\n",
              "            <td>756927</td>\n",
              "            <td>3.963394092164766e-06</td>\n",
              "        </tr>\n",
              "    </tbody>\n",
              "</table>"
            ],
            "text/plain": [
              "[('WYOMING', 3, 586107, 5.118519314732634e-06),\n",
              " ('VERMONT', 3, 626042, 4.792010759661493e-06),\n",
              " ('DC', 3, 672228, 4.462771559649405e-06),\n",
              " ('ALASKA', 3, 738432, 4.0626625065002604e-06),\n",
              " ('NORTH DAKOTA', 3, 756927, 3.963394092164766e-06)]"
            ]
          },
          "metadata": {
            "tags": []
          },
          "execution_count": 13
        }
      ]
    },
    {
      "cell_type": "markdown",
      "metadata": {
        "id": "XqNdlhMAkKvF"
      },
      "source": [
        "# EXPLORATION AND SUMMARY STATISTICS IN THE FULL LIST"
      ]
    },
    {
      "cell_type": "code",
      "metadata": {
        "id": "Oz9nDpuKkjjw",
        "outputId": "4c2633e9-567a-4299-cc46-e8a05099dfe2",
        "colab": {
          "base_uri": "https://localhost:8080/",
          "height": 93
        }
      },
      "source": [
        "#Find the state with highest number of Grand Electors \n",
        "%%sql\n",
        "SELECT State,GrandElectors FROM Sorted WHERE GrandElectors= (SELECT MAX(GrandElectors) FROM Sorted);"
      ],
      "execution_count": 38,
      "outputs": [
        {
          "output_type": "stream",
          "text": [
            " * sqlite://\n",
            "Done.\n"
          ],
          "name": "stdout"
        },
        {
          "output_type": "execute_result",
          "data": {
            "text/html": [
              "<table>\n",
              "    <thead>\n",
              "        <tr>\n",
              "            <th>State</th>\n",
              "            <th>GrandElectors</th>\n",
              "        </tr>\n",
              "    </thead>\n",
              "    <tbody>\n",
              "        <tr>\n",
              "            <td>CALIFORNIA</td>\n",
              "            <td>55</td>\n",
              "        </tr>\n",
              "    </tbody>\n",
              "</table>"
            ],
            "text/plain": [
              "[('CALIFORNIA', 55)]"
            ]
          },
          "metadata": {
            "tags": []
          },
          "execution_count": 38
        }
      ]
    },
    {
      "cell_type": "code",
      "metadata": {
        "id": "KJP2x6Bok7CS",
        "outputId": "89587451-86e9-4de3-ea22-dec11273cdf1",
        "colab": {
          "base_uri": "https://localhost:8080/",
          "height": 236
        }
      },
      "source": [
        "#Find the states with the lowest number of Grand Electors\n",
        "%%sql\n",
        "SELECT State,GrandElectors FROM Sorted WHERE GrandElectors= (SELECT MIN(GrandElectors) FROM Sorted);"
      ],
      "execution_count": 39,
      "outputs": [
        {
          "output_type": "stream",
          "text": [
            " * sqlite://\n",
            "Done.\n"
          ],
          "name": "stdout"
        },
        {
          "output_type": "execute_result",
          "data": {
            "text/html": [
              "<table>\n",
              "    <thead>\n",
              "        <tr>\n",
              "            <th>State</th>\n",
              "            <th>GrandElectors</th>\n",
              "        </tr>\n",
              "    </thead>\n",
              "    <tbody>\n",
              "        <tr>\n",
              "            <td>WYOMING</td>\n",
              "            <td>3</td>\n",
              "        </tr>\n",
              "        <tr>\n",
              "            <td>VERMONT</td>\n",
              "            <td>3</td>\n",
              "        </tr>\n",
              "        <tr>\n",
              "            <td>DC</td>\n",
              "            <td>3</td>\n",
              "        </tr>\n",
              "        <tr>\n",
              "            <td>ALASKA</td>\n",
              "            <td>3</td>\n",
              "        </tr>\n",
              "        <tr>\n",
              "            <td>NORTH DAKOTA</td>\n",
              "            <td>3</td>\n",
              "        </tr>\n",
              "        <tr>\n",
              "            <td>SOUTH DAKOTA</td>\n",
              "            <td>3</td>\n",
              "        </tr>\n",
              "        <tr>\n",
              "            <td>DELAWARE</td>\n",
              "            <td>3</td>\n",
              "        </tr>\n",
              "        <tr>\n",
              "            <td>MONTANA</td>\n",
              "            <td>3</td>\n",
              "        </tr>\n",
              "    </tbody>\n",
              "</table>"
            ],
            "text/plain": [
              "[('WYOMING', 3),\n",
              " ('VERMONT', 3),\n",
              " ('DC', 3),\n",
              " ('ALASKA', 3),\n",
              " ('NORTH DAKOTA', 3),\n",
              " ('SOUTH DAKOTA', 3),\n",
              " ('DELAWARE', 3),\n",
              " ('MONTANA', 3)]"
            ]
          },
          "metadata": {
            "tags": []
          },
          "execution_count": 39
        }
      ]
    },
    {
      "cell_type": "code",
      "metadata": {
        "id": "iIyYrn5XlPCl",
        "outputId": "4c90758a-4747-41b2-a57b-9f74d8023439",
        "colab": {
          "base_uri": "https://localhost:8080/",
          "height": 93
        }
      },
      "source": [
        "#Find the state with the least population\n",
        "%%sql\n",
        "SELECT State,Population FROM Sorted WHERE Population= (SELECT MIN(Population) FROM Sorted);"
      ],
      "execution_count": 40,
      "outputs": [
        {
          "output_type": "stream",
          "text": [
            " * sqlite://\n",
            "Done.\n"
          ],
          "name": "stdout"
        },
        {
          "output_type": "execute_result",
          "data": {
            "text/html": [
              "<table>\n",
              "    <thead>\n",
              "        <tr>\n",
              "            <th>State</th>\n",
              "            <th>Population</th>\n",
              "        </tr>\n",
              "    </thead>\n",
              "    <tbody>\n",
              "        <tr>\n",
              "            <td>WYOMING</td>\n",
              "            <td>586107</td>\n",
              "        </tr>\n",
              "    </tbody>\n",
              "</table>"
            ],
            "text/plain": [
              "[('WYOMING', 586107)]"
            ]
          },
          "metadata": {
            "tags": []
          },
          "execution_count": 40
        }
      ]
    },
    {
      "cell_type": "code",
      "metadata": {
        "id": "nXfE9hcBlPS9",
        "outputId": "bfa091c2-3f6e-46a8-d436-27ee0758c2f5",
        "colab": {
          "base_uri": "https://localhost:8080/",
          "height": 93
        }
      },
      "source": [
        "#Find the state with the highest population\n",
        "%%sql\n",
        "SELECT State,Population FROM Sorted WHERE Population= (SELECT MAX(Population) FROM Sorted);"
      ],
      "execution_count": 41,
      "outputs": [
        {
          "output_type": "stream",
          "text": [
            " * sqlite://\n",
            "Done.\n"
          ],
          "name": "stdout"
        },
        {
          "output_type": "execute_result",
          "data": {
            "text/html": [
              "<table>\n",
              "    <thead>\n",
              "        <tr>\n",
              "            <th>State</th>\n",
              "            <th>Population</th>\n",
              "        </tr>\n",
              "    </thead>\n",
              "    <tbody>\n",
              "        <tr>\n",
              "            <td>CALIFORNIA</td>\n",
              "            <td>39144818</td>\n",
              "        </tr>\n",
              "    </tbody>\n",
              "</table>"
            ],
            "text/plain": [
              "[('CALIFORNIA', 39144818)]"
            ]
          },
          "metadata": {
            "tags": []
          },
          "execution_count": 41
        }
      ]
    },
    {
      "cell_type": "code",
      "metadata": {
        "id": "AqyxWIzFmL9D",
        "outputId": "6c45a458-fce4-49f3-9bb7-e90e287a02c0",
        "colab": {
          "base_uri": "https://localhost:8080/",
          "height": 93
        }
      },
      "source": [
        "#Find the average number of grand electors\n",
        "%%sql\n",
        "SELECT AVG(GrandElectors) FROM Sorted;"
      ],
      "execution_count": 42,
      "outputs": [
        {
          "output_type": "stream",
          "text": [
            " * sqlite://\n",
            "Done.\n"
          ],
          "name": "stdout"
        },
        {
          "output_type": "execute_result",
          "data": {
            "text/html": [
              "<table>\n",
              "    <thead>\n",
              "        <tr>\n",
              "            <th>AVG(GrandElectors)</th>\n",
              "        </tr>\n",
              "    </thead>\n",
              "    <tbody>\n",
              "        <tr>\n",
              "            <td>10.549019607843137</td>\n",
              "        </tr>\n",
              "    </tbody>\n",
              "</table>"
            ],
            "text/plain": [
              "[(10.549019607843137,)]"
            ]
          },
          "metadata": {
            "tags": []
          },
          "execution_count": 42
        }
      ]
    },
    {
      "cell_type": "code",
      "metadata": {
        "id": "AzR0NTcomYEe",
        "outputId": "0a99ba6f-2593-4773-cffe-1ad0c2c9b802",
        "colab": {
          "base_uri": "https://localhost:8080/",
          "height": 93
        }
      },
      "source": [
        "#Find the average population in US\n",
        "%%sql\n",
        "SELECT AVG(Population) FROM Sorted;"
      ],
      "execution_count": 43,
      "outputs": [
        {
          "output_type": "stream",
          "text": [
            " * sqlite://\n",
            "Done.\n"
          ],
          "name": "stdout"
        },
        {
          "output_type": "execute_result",
          "data": {
            "text/html": [
              "<table>\n",
              "    <thead>\n",
              "        <tr>\n",
              "            <th>AVG(Population)</th>\n",
              "        </tr>\n",
              "    </thead>\n",
              "    <tbody>\n",
              "        <tr>\n",
              "            <td>6302329.803921568</td>\n",
              "        </tr>\n",
              "    </tbody>\n",
              "</table>"
            ],
            "text/plain": [
              "[(6302329.803921568,)]"
            ]
          },
          "metadata": {
            "tags": []
          },
          "execution_count": 43
        }
      ]
    },
    {
      "cell_type": "code",
      "metadata": {
        "id": "tsqiRi-XmmEL",
        "outputId": "5129da58-411c-4e8c-e3ed-f83605da23e9",
        "colab": {
          "base_uri": "https://localhost:8080/",
          "height": 419
        }
      },
      "source": [
        "#Find the states with population greater than the average\n",
        "%%sql\n",
        "SELECT State, Population FROM Sorted\n",
        "WHERE Population>=(SELECT AVG(Population) FROM Sorted);"
      ],
      "execution_count": 44,
      "outputs": [
        {
          "output_type": "stream",
          "text": [
            " * sqlite://\n",
            "Done.\n"
          ],
          "name": "stdout"
        },
        {
          "output_type": "execute_result",
          "data": {
            "text/html": [
              "<table>\n",
              "    <thead>\n",
              "        <tr>\n",
              "            <th>State</th>\n",
              "            <th>Population</th>\n",
              "        </tr>\n",
              "    </thead>\n",
              "    <tbody>\n",
              "        <tr>\n",
              "            <td>WASHINGTON</td>\n",
              "            <td>7170351</td>\n",
              "        </tr>\n",
              "        <tr>\n",
              "            <td>TENNESSEE</td>\n",
              "            <td>6600299</td>\n",
              "        </tr>\n",
              "        <tr>\n",
              "            <td>INDIANA</td>\n",
              "            <td>6619680</td>\n",
              "        </tr>\n",
              "        <tr>\n",
              "            <td>MASSACHUSETTS</td>\n",
              "            <td>6794422</td>\n",
              "        </tr>\n",
              "        <tr>\n",
              "            <td>MICHIGAN</td>\n",
              "            <td>9922576</td>\n",
              "        </tr>\n",
              "        <tr>\n",
              "            <td>ARIZONA</td>\n",
              "            <td>6828065</td>\n",
              "        </tr>\n",
              "        <tr>\n",
              "            <td>GEORGIA</td>\n",
              "            <td>10214860</td>\n",
              "        </tr>\n",
              "        <tr>\n",
              "            <td>NEW JERSEY</td>\n",
              "            <td>8958013</td>\n",
              "        </tr>\n",
              "        <tr>\n",
              "            <td>PENNSYLVANIA</td>\n",
              "            <td>12802503</td>\n",
              "        </tr>\n",
              "        <tr>\n",
              "            <td>ILLINOIS</td>\n",
              "            <td>12859995</td>\n",
              "        </tr>\n",
              "        <tr>\n",
              "            <td>VIRGINIA</td>\n",
              "            <td>8382993</td>\n",
              "        </tr>\n",
              "        <tr>\n",
              "            <td>OHIO</td>\n",
              "            <td>11613423</td>\n",
              "        </tr>\n",
              "        <tr>\n",
              "            <td>NORTH CAROLINA</td>\n",
              "            <td>10042802</td>\n",
              "        </tr>\n",
              "        <tr>\n",
              "            <td>NEW YORK</td>\n",
              "            <td>19795791</td>\n",
              "        </tr>\n",
              "        <tr>\n",
              "            <td>FLORIDA</td>\n",
              "            <td>20271272</td>\n",
              "        </tr>\n",
              "        <tr>\n",
              "            <td>CALIFORNIA</td>\n",
              "            <td>39144818</td>\n",
              "        </tr>\n",
              "        <tr>\n",
              "            <td>TEXAS</td>\n",
              "            <td>27469114</td>\n",
              "        </tr>\n",
              "    </tbody>\n",
              "</table>"
            ],
            "text/plain": [
              "[('WASHINGTON', 7170351),\n",
              " ('TENNESSEE', 6600299),\n",
              " ('INDIANA', 6619680),\n",
              " ('MASSACHUSETTS', 6794422),\n",
              " ('MICHIGAN', 9922576),\n",
              " ('ARIZONA', 6828065),\n",
              " ('GEORGIA', 10214860),\n",
              " ('NEW JERSEY', 8958013),\n",
              " ('PENNSYLVANIA', 12802503),\n",
              " ('ILLINOIS', 12859995),\n",
              " ('VIRGINIA', 8382993),\n",
              " ('OHIO', 11613423),\n",
              " ('NORTH CAROLINA', 10042802),\n",
              " ('NEW YORK', 19795791),\n",
              " ('FLORIDA', 20271272),\n",
              " ('CALIFORNIA', 39144818),\n",
              " ('TEXAS', 27469114)]"
            ]
          },
          "metadata": {
            "tags": []
          },
          "execution_count": 44
        }
      ]
    },
    {
      "cell_type": "markdown",
      "metadata": {
        "id": "y6Q_5HvYm5zf"
      },
      "source": [
        "**5. To compute the running total of Grand Electors in that sorted list**"
      ]
    },
    {
      "cell_type": "code",
      "metadata": {
        "id": "olVJiaxDhWt8",
        "colab": {
          "base_uri": "https://localhost:8080/"
        },
        "outputId": "7448d7eb-4175-403b-ae6f-5e36b9d674c1"
      },
      "source": [
        "%%sql\n",
        "CREATE TABLE Sorted_Cummulative AS\n",
        "SELECT\n",
        "    t.State,t.GrandElectors,t.Population,t.Ratio,\n",
        "    (SELECT Sum(r.GrandElectors) FROM Sorted as r WHERE t.Ratio <= r.Ratio) AS Cummulative\n",
        "FROM Sorted as t\n",
        "Group By t.Ratio ORDER BY t.Ratio DESC;"
      ],
      "execution_count": 14,
      "outputs": [
        {
          "output_type": "stream",
          "text": [
            " * sqlite://\n",
            "Done.\n"
          ],
          "name": "stdout"
        },
        {
          "output_type": "execute_result",
          "data": {
            "text/plain": [
              "[]"
            ]
          },
          "metadata": {
            "tags": []
          },
          "execution_count": 14
        }
      ]
    },
    {
      "cell_type": "code",
      "metadata": {
        "id": "BNF_RBcatixG",
        "colab": {
          "base_uri": "https://localhost:8080/",
          "height": 174
        },
        "outputId": "079d0f4d-e14e-4b44-9fc2-b7824848ce8c"
      },
      "source": [
        "%%sql\n",
        "--Let us view the first 5 columns of the new table with the cummulative sum.\n",
        "SELECT * FROM Sorted_Cummulative LIMIT 5;"
      ],
      "execution_count": 64,
      "outputs": [
        {
          "output_type": "stream",
          "text": [
            " * sqlite://\n",
            "Done.\n"
          ],
          "name": "stdout"
        },
        {
          "output_type": "execute_result",
          "data": {
            "text/html": [
              "<table>\n",
              "    <thead>\n",
              "        <tr>\n",
              "            <th>State</th>\n",
              "            <th>GrandElectors</th>\n",
              "            <th>Population</th>\n",
              "            <th>Ratio</th>\n",
              "            <th>Cummulative</th>\n",
              "        </tr>\n",
              "    </thead>\n",
              "    <tbody>\n",
              "        <tr>\n",
              "            <td>WYOMING</td>\n",
              "            <td>3</td>\n",
              "            <td>586107</td>\n",
              "            <td>5.118519314732634e-06</td>\n",
              "            <td>3</td>\n",
              "        </tr>\n",
              "        <tr>\n",
              "            <td>VERMONT</td>\n",
              "            <td>3</td>\n",
              "            <td>626042</td>\n",
              "            <td>4.792010759661493e-06</td>\n",
              "            <td>6</td>\n",
              "        </tr>\n",
              "        <tr>\n",
              "            <td>DC</td>\n",
              "            <td>3</td>\n",
              "            <td>672228</td>\n",
              "            <td>4.462771559649405e-06</td>\n",
              "            <td>9</td>\n",
              "        </tr>\n",
              "        <tr>\n",
              "            <td>ALASKA</td>\n",
              "            <td>3</td>\n",
              "            <td>738432</td>\n",
              "            <td>4.0626625065002604e-06</td>\n",
              "            <td>12</td>\n",
              "        </tr>\n",
              "        <tr>\n",
              "            <td>NORTH DAKOTA</td>\n",
              "            <td>3</td>\n",
              "            <td>756927</td>\n",
              "            <td>3.963394092164766e-06</td>\n",
              "            <td>15</td>\n",
              "        </tr>\n",
              "    </tbody>\n",
              "</table>"
            ],
            "text/plain": [
              "[('WYOMING', 3, 586107, 5.118519314732634e-06, 3),\n",
              " ('VERMONT', 3, 626042, 4.792010759661493e-06, 6),\n",
              " ('DC', 3, 672228, 4.462771559649405e-06, 9),\n",
              " ('ALASKA', 3, 738432, 4.0626625065002604e-06, 12),\n",
              " ('NORTH DAKOTA', 3, 756927, 3.963394092164766e-06, 15)]"
            ]
          },
          "metadata": {
            "tags": []
          },
          "execution_count": 64
        }
      ]
    },
    {
      "cell_type": "markdown",
      "metadata": {
        "id": "UNZPYIbCuiLH"
      },
      "source": [
        "**6. Independently, to compute the half of the total of Grand Electors overall (in the whole country)**"
      ]
    },
    {
      "cell_type": "code",
      "metadata": {
        "id": "nb8IsmGHumu8",
        "colab": {
          "base_uri": "https://localhost:8080/",
          "height": 93
        },
        "outputId": "caa14d3e-2622-4b9a-ba5c-58dbc2c9e5cb"
      },
      "source": [
        "%%sql\n",
        "SELECT SUM(GrandElectors)/2 FROM Sorted_Cummulative;"
      ],
      "execution_count": 16,
      "outputs": [
        {
          "output_type": "stream",
          "text": [
            " * sqlite://\n",
            "Done.\n"
          ],
          "name": "stdout"
        },
        {
          "output_type": "execute_result",
          "data": {
            "text/html": [
              "<table>\n",
              "    <thead>\n",
              "        <tr>\n",
              "            <th>SUM(GrandElectors)/2</th>\n",
              "        </tr>\n",
              "    </thead>\n",
              "    <tbody>\n",
              "        <tr>\n",
              "            <td>269</td>\n",
              "        </tr>\n",
              "    </tbody>\n",
              "</table>"
            ],
            "text/plain": [
              "[(269,)]"
            ]
          },
          "metadata": {
            "tags": []
          },
          "execution_count": 16
        }
      ]
    },
    {
      "cell_type": "markdown",
      "metadata": {
        "id": "-mtQ7CO5vDH7"
      },
      "source": [
        "**7. To filter our sorted list of states in order to keep only the (top) ones enabling us to reach the computed threshold. (the other states can be ignored). That is our target list.**"
      ]
    },
    {
      "cell_type": "code",
      "metadata": {
        "id": "_qTVkZtOiyMg",
        "colab": {
          "base_uri": "https://localhost:8080/"
        },
        "outputId": "1a13388e-febe-47c2-afda-0ec88f8c7fbd"
      },
      "source": [
        "%%sql\n",
        "CREATE TABLE Target_List AS\n",
        "SELECT * FROM Sorted_Cummulative WHERE Cummulative<=269;"
      ],
      "execution_count": 26,
      "outputs": [
        {
          "output_type": "stream",
          "text": [
            " * sqlite://\n",
            "Done.\n"
          ],
          "name": "stdout"
        },
        {
          "output_type": "execute_result",
          "data": {
            "text/plain": [
              "[]"
            ]
          },
          "metadata": {
            "tags": []
          },
          "execution_count": 26
        }
      ]
    },
    {
      "cell_type": "code",
      "metadata": {
        "id": "4imuLGuTxqHn",
        "colab": {
          "base_uri": "https://localhost:8080/",
          "height": 868
        },
        "outputId": "f995199d-431e-4452-e54b-3f53d5c93e49"
      },
      "source": [
        "%%sql\n",
        "--Let us view our target list\n",
        "SELECT * FROM Target_List"
      ],
      "execution_count": 27,
      "outputs": [
        {
          "output_type": "stream",
          "text": [
            " * sqlite://\n",
            "Done.\n"
          ],
          "name": "stdout"
        },
        {
          "output_type": "execute_result",
          "data": {
            "text/html": [
              "<table>\n",
              "    <thead>\n",
              "        <tr>\n",
              "            <th>State</th>\n",
              "            <th>GrandElectors</th>\n",
              "            <th>Population</th>\n",
              "            <th>Ratio</th>\n",
              "            <th>Cummulative</th>\n",
              "        </tr>\n",
              "    </thead>\n",
              "    <tbody>\n",
              "        <tr>\n",
              "            <td>WYOMING</td>\n",
              "            <td>3</td>\n",
              "            <td>586107</td>\n",
              "            <td>5.118519314732634e-06</td>\n",
              "            <td>3</td>\n",
              "        </tr>\n",
              "        <tr>\n",
              "            <td>VERMONT</td>\n",
              "            <td>3</td>\n",
              "            <td>626042</td>\n",
              "            <td>4.792010759661493e-06</td>\n",
              "            <td>6</td>\n",
              "        </tr>\n",
              "        <tr>\n",
              "            <td>DC</td>\n",
              "            <td>3</td>\n",
              "            <td>672228</td>\n",
              "            <td>4.462771559649405e-06</td>\n",
              "            <td>9</td>\n",
              "        </tr>\n",
              "        <tr>\n",
              "            <td>ALASKA</td>\n",
              "            <td>3</td>\n",
              "            <td>738432</td>\n",
              "            <td>4.0626625065002604e-06</td>\n",
              "            <td>12</td>\n",
              "        </tr>\n",
              "        <tr>\n",
              "            <td>NORTH DAKOTA</td>\n",
              "            <td>3</td>\n",
              "            <td>756927</td>\n",
              "            <td>3.963394092164766e-06</td>\n",
              "            <td>15</td>\n",
              "        </tr>\n",
              "        <tr>\n",
              "            <td>RHODE ISLAND</td>\n",
              "            <td>4</td>\n",
              "            <td>1056298</td>\n",
              "            <td>3.7868101615263876e-06</td>\n",
              "            <td>19</td>\n",
              "        </tr>\n",
              "        <tr>\n",
              "            <td>SOUTH DAKOTA</td>\n",
              "            <td>3</td>\n",
              "            <td>858469</td>\n",
              "            <td>3.4945932817609025e-06</td>\n",
              "            <td>22</td>\n",
              "        </tr>\n",
              "        <tr>\n",
              "            <td>DELAWARE</td>\n",
              "            <td>3</td>\n",
              "            <td>945934</td>\n",
              "            <td>3.1714686225466047e-06</td>\n",
              "            <td>25</td>\n",
              "        </tr>\n",
              "        <tr>\n",
              "            <td>MAINE</td>\n",
              "            <td>4</td>\n",
              "            <td>1329328</td>\n",
              "            <td>3.009039153617467e-06</td>\n",
              "            <td>29</td>\n",
              "        </tr>\n",
              "        <tr>\n",
              "            <td>NEW HAMPSHIRE</td>\n",
              "            <td>4</td>\n",
              "            <td>1330608</td>\n",
              "            <td>3.0061445594795764e-06</td>\n",
              "            <td>33</td>\n",
              "        </tr>\n",
              "        <tr>\n",
              "            <td>MONTANA</td>\n",
              "            <td>3</td>\n",
              "            <td>1032949</td>\n",
              "            <td>2.904306020916812e-06</td>\n",
              "            <td>36</td>\n",
              "        </tr>\n",
              "        <tr>\n",
              "            <td>HAWAII</td>\n",
              "            <td>4</td>\n",
              "            <td>1431603</td>\n",
              "            <td>2.794070702562093e-06</td>\n",
              "            <td>40</td>\n",
              "        </tr>\n",
              "        <tr>\n",
              "            <td>WEST VIRGINIA</td>\n",
              "            <td>5</td>\n",
              "            <td>1844128</td>\n",
              "            <td>2.7113085425740512e-06</td>\n",
              "            <td>45</td>\n",
              "        </tr>\n",
              "        <tr>\n",
              "            <td>NEBRASKA</td>\n",
              "            <td>5</td>\n",
              "            <td>1896190</td>\n",
              "            <td>2.636866558730929e-06</td>\n",
              "            <td>50</td>\n",
              "        </tr>\n",
              "        <tr>\n",
              "            <td>IDAHO</td>\n",
              "            <td>4</td>\n",
              "            <td>1654930</td>\n",
              "            <td>2.417020659484087e-06</td>\n",
              "            <td>54</td>\n",
              "        </tr>\n",
              "        <tr>\n",
              "            <td>NEW MEXICO</td>\n",
              "            <td>5</td>\n",
              "            <td>2085109</td>\n",
              "            <td>2.3979561739937817e-06</td>\n",
              "            <td>59</td>\n",
              "        </tr>\n",
              "        <tr>\n",
              "            <td>NEVADA</td>\n",
              "            <td>6</td>\n",
              "            <td>2890845</td>\n",
              "            <td>2.0755177119492743e-06</td>\n",
              "            <td>65</td>\n",
              "        </tr>\n",
              "        <tr>\n",
              "            <td>KANSAS</td>\n",
              "            <td>6</td>\n",
              "            <td>2911641</td>\n",
              "            <td>2.0606936088618066e-06</td>\n",
              "            <td>71</td>\n",
              "        </tr>\n",
              "        <tr>\n",
              "            <td>ARKANSAS</td>\n",
              "            <td>6</td>\n",
              "            <td>2978204</td>\n",
              "            <td>2.0146370094190997e-06</td>\n",
              "            <td>77</td>\n",
              "        </tr>\n",
              "        <tr>\n",
              "            <td>MISSISSIPPI</td>\n",
              "            <td>6</td>\n",
              "            <td>2992333</td>\n",
              "            <td>2.00512442966742e-06</td>\n",
              "            <td>83</td>\n",
              "        </tr>\n",
              "        <tr>\n",
              "            <td>UTAH</td>\n",
              "            <td>6</td>\n",
              "            <td>2995919</td>\n",
              "            <td>2.0027243727216926e-06</td>\n",
              "            <td>89</td>\n",
              "        </tr>\n",
              "        <tr>\n",
              "            <td>CONNECTICUT</td>\n",
              "            <td>7</td>\n",
              "            <td>3590886</td>\n",
              "            <td>1.949379623858847e-06</td>\n",
              "            <td>96</td>\n",
              "        </tr>\n",
              "        <tr>\n",
              "            <td>IOWA</td>\n",
              "            <td>6</td>\n",
              "            <td>3123899</td>\n",
              "            <td>1.9206766928124116e-06</td>\n",
              "            <td>102</td>\n",
              "        </tr>\n",
              "        <tr>\n",
              "            <td>ALABAMA</td>\n",
              "            <td>9</td>\n",
              "            <td>4858979</td>\n",
              "            <td>1.8522409749043987e-06</td>\n",
              "            <td>111</td>\n",
              "        </tr>\n",
              "        <tr>\n",
              "            <td>SOUTH CAROLINA</td>\n",
              "            <td>9</td>\n",
              "            <td>4896146</td>\n",
              "            <td>1.8381804790951905e-06</td>\n",
              "            <td>120</td>\n",
              "        </tr>\n",
              "        <tr>\n",
              "            <td>MINNESOTA</td>\n",
              "            <td>10</td>\n",
              "            <td>5489594</td>\n",
              "            <td>1.8216283389992047e-06</td>\n",
              "            <td>130</td>\n",
              "        </tr>\n",
              "        <tr>\n",
              "            <td>KENTUCKY</td>\n",
              "            <td>8</td>\n",
              "            <td>4425092</td>\n",
              "            <td>1.8078720171241637e-06</td>\n",
              "            <td>138</td>\n",
              "        </tr>\n",
              "        <tr>\n",
              "            <td>OKLAHOMA</td>\n",
              "            <td>7</td>\n",
              "            <td>3911338</td>\n",
              "            <td>1.7896689061390246e-06</td>\n",
              "            <td>145</td>\n",
              "        </tr>\n",
              "        <tr>\n",
              "            <td>OREGON</td>\n",
              "            <td>7</td>\n",
              "            <td>4028977</td>\n",
              "            <td>1.7374137405103083e-06</td>\n",
              "            <td>152</td>\n",
              "        </tr>\n",
              "        <tr>\n",
              "            <td>WISCONSIN</td>\n",
              "            <td>10</td>\n",
              "            <td>5771337</td>\n",
              "            <td>1.7327007589402595e-06</td>\n",
              "            <td>162</td>\n",
              "        </tr>\n",
              "        <tr>\n",
              "            <td>LOUISIANA</td>\n",
              "            <td>8</td>\n",
              "            <td>4670724</td>\n",
              "            <td>1.712796560019389e-06</td>\n",
              "            <td>170</td>\n",
              "        </tr>\n",
              "        <tr>\n",
              "            <td>WASHINGTON</td>\n",
              "            <td>12</td>\n",
              "            <td>7170351</td>\n",
              "            <td>1.673558240035948e-06</td>\n",
              "            <td>182</td>\n",
              "        </tr>\n",
              "        <tr>\n",
              "            <td>TENNESSEE</td>\n",
              "            <td>11</td>\n",
              "            <td>6600299</td>\n",
              "            <td>1.6665911650366142e-06</td>\n",
              "            <td>193</td>\n",
              "        </tr>\n",
              "        <tr>\n",
              "            <td>MARYLAND</td>\n",
              "            <td>10</td>\n",
              "            <td>6006401</td>\n",
              "            <td>1.6648905059785385e-06</td>\n",
              "            <td>203</td>\n",
              "        </tr>\n",
              "        <tr>\n",
              "            <td>INDIANA</td>\n",
              "            <td>11</td>\n",
              "            <td>6619680</td>\n",
              "            <td>1.6617117443743504e-06</td>\n",
              "            <td>214</td>\n",
              "        </tr>\n",
              "        <tr>\n",
              "            <td>COLORADO</td>\n",
              "            <td>9</td>\n",
              "            <td>5456574</td>\n",
              "            <td>1.6493865931260165e-06</td>\n",
              "            <td>223</td>\n",
              "        </tr>\n",
              "        <tr>\n",
              "            <td>MISSOURI</td>\n",
              "            <td>10</td>\n",
              "            <td>6083672</td>\n",
              "            <td>1.6437441071773757e-06</td>\n",
              "            <td>233</td>\n",
              "        </tr>\n",
              "        <tr>\n",
              "            <td>MASSACHUSETTS</td>\n",
              "            <td>11</td>\n",
              "            <td>6794422</td>\n",
              "            <td>1.6189750945702225e-06</td>\n",
              "            <td>244</td>\n",
              "        </tr>\n",
              "        <tr>\n",
              "            <td>MICHIGAN</td>\n",
              "            <td>16</td>\n",
              "            <td>9922576</td>\n",
              "            <td>1.6124844999927438e-06</td>\n",
              "            <td>260</td>\n",
              "        </tr>\n",
              "    </tbody>\n",
              "</table>"
            ],
            "text/plain": [
              "[('WYOMING', 3, 586107, 5.118519314732634e-06, 3),\n",
              " ('VERMONT', 3, 626042, 4.792010759661493e-06, 6),\n",
              " ('DC', 3, 672228, 4.462771559649405e-06, 9),\n",
              " ('ALASKA', 3, 738432, 4.0626625065002604e-06, 12),\n",
              " ('NORTH DAKOTA', 3, 756927, 3.963394092164766e-06, 15),\n",
              " ('RHODE ISLAND', 4, 1056298, 3.7868101615263876e-06, 19),\n",
              " ('SOUTH DAKOTA', 3, 858469, 3.4945932817609025e-06, 22),\n",
              " ('DELAWARE', 3, 945934, 3.1714686225466047e-06, 25),\n",
              " ('MAINE', 4, 1329328, 3.009039153617467e-06, 29),\n",
              " ('NEW HAMPSHIRE', 4, 1330608, 3.0061445594795764e-06, 33),\n",
              " ('MONTANA', 3, 1032949, 2.904306020916812e-06, 36),\n",
              " ('HAWAII', 4, 1431603, 2.794070702562093e-06, 40),\n",
              " ('WEST VIRGINIA', 5, 1844128, 2.7113085425740512e-06, 45),\n",
              " ('NEBRASKA', 5, 1896190, 2.636866558730929e-06, 50),\n",
              " ('IDAHO', 4, 1654930, 2.417020659484087e-06, 54),\n",
              " ('NEW MEXICO', 5, 2085109, 2.3979561739937817e-06, 59),\n",
              " ('NEVADA', 6, 2890845, 2.0755177119492743e-06, 65),\n",
              " ('KANSAS', 6, 2911641, 2.0606936088618066e-06, 71),\n",
              " ('ARKANSAS', 6, 2978204, 2.0146370094190997e-06, 77),\n",
              " ('MISSISSIPPI', 6, 2992333, 2.00512442966742e-06, 83),\n",
              " ('UTAH', 6, 2995919, 2.0027243727216926e-06, 89),\n",
              " ('CONNECTICUT', 7, 3590886, 1.949379623858847e-06, 96),\n",
              " ('IOWA', 6, 3123899, 1.9206766928124116e-06, 102),\n",
              " ('ALABAMA', 9, 4858979, 1.8522409749043987e-06, 111),\n",
              " ('SOUTH CAROLINA', 9, 4896146, 1.8381804790951905e-06, 120),\n",
              " ('MINNESOTA', 10, 5489594, 1.8216283389992047e-06, 130),\n",
              " ('KENTUCKY', 8, 4425092, 1.8078720171241637e-06, 138),\n",
              " ('OKLAHOMA', 7, 3911338, 1.7896689061390246e-06, 145),\n",
              " ('OREGON', 7, 4028977, 1.7374137405103083e-06, 152),\n",
              " ('WISCONSIN', 10, 5771337, 1.7327007589402595e-06, 162),\n",
              " ('LOUISIANA', 8, 4670724, 1.712796560019389e-06, 170),\n",
              " ('WASHINGTON', 12, 7170351, 1.673558240035948e-06, 182),\n",
              " ('TENNESSEE', 11, 6600299, 1.6665911650366142e-06, 193),\n",
              " ('MARYLAND', 10, 6006401, 1.6648905059785385e-06, 203),\n",
              " ('INDIANA', 11, 6619680, 1.6617117443743504e-06, 214),\n",
              " ('COLORADO', 9, 5456574, 1.6493865931260165e-06, 223),\n",
              " ('MISSOURI', 10, 6083672, 1.6437441071773757e-06, 233),\n",
              " ('MASSACHUSETTS', 11, 6794422, 1.6189750945702225e-06, 244),\n",
              " ('MICHIGAN', 16, 9922576, 1.6124844999927438e-06, 260)]"
            ]
          },
          "metadata": {
            "tags": []
          },
          "execution_count": 27
        }
      ]
    },
    {
      "cell_type": "markdown",
      "metadata": {
        "id": "SLVIlkiswO19"
      },
      "source": [
        "**a. Add the first state for which the running total is larger than the threshold.**"
      ]
    },
    {
      "cell_type": "code",
      "metadata": {
        "id": "JBSLzdWUwWP5",
        "colab": {
          "base_uri": "https://localhost:8080/"
        },
        "outputId": "6084dcff-7c0a-4fca-f763-9426ab2dec4f"
      },
      "source": [
        "%%sql\n",
        "--Let us add the first state for which the running total is larger than the threshold\n",
        "INSERT INTO Target_List(State, GrandElectors, Population, Ratio, Cummulative)\n",
        "SELECT * FROM Sorted_Cummulative WHERE Cummulative>269 LIMIT 1;"
      ],
      "execution_count": 28,
      "outputs": [
        {
          "output_type": "stream",
          "text": [
            " * sqlite://\n",
            "Done.\n"
          ],
          "name": "stdout"
        },
        {
          "output_type": "execute_result",
          "data": {
            "text/plain": [
              "[]"
            ]
          },
          "metadata": {
            "tags": []
          },
          "execution_count": 28
        }
      ]
    },
    {
      "cell_type": "code",
      "metadata": {
        "id": "R7kq4Q3lyfbw",
        "colab": {
          "base_uri": "https://localhost:8080/",
          "height": 889
        },
        "outputId": "81b8688d-3887-48bf-e483-36316ce0654b"
      },
      "source": [
        "%%sql\n",
        "--Let us view the Target List with the additional row\n",
        "SELECT * FROM Target_List"
      ],
      "execution_count": 29,
      "outputs": [
        {
          "output_type": "stream",
          "text": [
            " * sqlite://\n",
            "Done.\n"
          ],
          "name": "stdout"
        },
        {
          "output_type": "execute_result",
          "data": {
            "text/html": [
              "<table>\n",
              "    <thead>\n",
              "        <tr>\n",
              "            <th>State</th>\n",
              "            <th>GrandElectors</th>\n",
              "            <th>Population</th>\n",
              "            <th>Ratio</th>\n",
              "            <th>Cummulative</th>\n",
              "        </tr>\n",
              "    </thead>\n",
              "    <tbody>\n",
              "        <tr>\n",
              "            <td>WYOMING</td>\n",
              "            <td>3</td>\n",
              "            <td>586107</td>\n",
              "            <td>5.118519314732634e-06</td>\n",
              "            <td>3</td>\n",
              "        </tr>\n",
              "        <tr>\n",
              "            <td>VERMONT</td>\n",
              "            <td>3</td>\n",
              "            <td>626042</td>\n",
              "            <td>4.792010759661493e-06</td>\n",
              "            <td>6</td>\n",
              "        </tr>\n",
              "        <tr>\n",
              "            <td>DC</td>\n",
              "            <td>3</td>\n",
              "            <td>672228</td>\n",
              "            <td>4.462771559649405e-06</td>\n",
              "            <td>9</td>\n",
              "        </tr>\n",
              "        <tr>\n",
              "            <td>ALASKA</td>\n",
              "            <td>3</td>\n",
              "            <td>738432</td>\n",
              "            <td>4.0626625065002604e-06</td>\n",
              "            <td>12</td>\n",
              "        </tr>\n",
              "        <tr>\n",
              "            <td>NORTH DAKOTA</td>\n",
              "            <td>3</td>\n",
              "            <td>756927</td>\n",
              "            <td>3.963394092164766e-06</td>\n",
              "            <td>15</td>\n",
              "        </tr>\n",
              "        <tr>\n",
              "            <td>RHODE ISLAND</td>\n",
              "            <td>4</td>\n",
              "            <td>1056298</td>\n",
              "            <td>3.7868101615263876e-06</td>\n",
              "            <td>19</td>\n",
              "        </tr>\n",
              "        <tr>\n",
              "            <td>SOUTH DAKOTA</td>\n",
              "            <td>3</td>\n",
              "            <td>858469</td>\n",
              "            <td>3.4945932817609025e-06</td>\n",
              "            <td>22</td>\n",
              "        </tr>\n",
              "        <tr>\n",
              "            <td>DELAWARE</td>\n",
              "            <td>3</td>\n",
              "            <td>945934</td>\n",
              "            <td>3.1714686225466047e-06</td>\n",
              "            <td>25</td>\n",
              "        </tr>\n",
              "        <tr>\n",
              "            <td>MAINE</td>\n",
              "            <td>4</td>\n",
              "            <td>1329328</td>\n",
              "            <td>3.009039153617467e-06</td>\n",
              "            <td>29</td>\n",
              "        </tr>\n",
              "        <tr>\n",
              "            <td>NEW HAMPSHIRE</td>\n",
              "            <td>4</td>\n",
              "            <td>1330608</td>\n",
              "            <td>3.0061445594795764e-06</td>\n",
              "            <td>33</td>\n",
              "        </tr>\n",
              "        <tr>\n",
              "            <td>MONTANA</td>\n",
              "            <td>3</td>\n",
              "            <td>1032949</td>\n",
              "            <td>2.904306020916812e-06</td>\n",
              "            <td>36</td>\n",
              "        </tr>\n",
              "        <tr>\n",
              "            <td>HAWAII</td>\n",
              "            <td>4</td>\n",
              "            <td>1431603</td>\n",
              "            <td>2.794070702562093e-06</td>\n",
              "            <td>40</td>\n",
              "        </tr>\n",
              "        <tr>\n",
              "            <td>WEST VIRGINIA</td>\n",
              "            <td>5</td>\n",
              "            <td>1844128</td>\n",
              "            <td>2.7113085425740512e-06</td>\n",
              "            <td>45</td>\n",
              "        </tr>\n",
              "        <tr>\n",
              "            <td>NEBRASKA</td>\n",
              "            <td>5</td>\n",
              "            <td>1896190</td>\n",
              "            <td>2.636866558730929e-06</td>\n",
              "            <td>50</td>\n",
              "        </tr>\n",
              "        <tr>\n",
              "            <td>IDAHO</td>\n",
              "            <td>4</td>\n",
              "            <td>1654930</td>\n",
              "            <td>2.417020659484087e-06</td>\n",
              "            <td>54</td>\n",
              "        </tr>\n",
              "        <tr>\n",
              "            <td>NEW MEXICO</td>\n",
              "            <td>5</td>\n",
              "            <td>2085109</td>\n",
              "            <td>2.3979561739937817e-06</td>\n",
              "            <td>59</td>\n",
              "        </tr>\n",
              "        <tr>\n",
              "            <td>NEVADA</td>\n",
              "            <td>6</td>\n",
              "            <td>2890845</td>\n",
              "            <td>2.0755177119492743e-06</td>\n",
              "            <td>65</td>\n",
              "        </tr>\n",
              "        <tr>\n",
              "            <td>KANSAS</td>\n",
              "            <td>6</td>\n",
              "            <td>2911641</td>\n",
              "            <td>2.0606936088618066e-06</td>\n",
              "            <td>71</td>\n",
              "        </tr>\n",
              "        <tr>\n",
              "            <td>ARKANSAS</td>\n",
              "            <td>6</td>\n",
              "            <td>2978204</td>\n",
              "            <td>2.0146370094190997e-06</td>\n",
              "            <td>77</td>\n",
              "        </tr>\n",
              "        <tr>\n",
              "            <td>MISSISSIPPI</td>\n",
              "            <td>6</td>\n",
              "            <td>2992333</td>\n",
              "            <td>2.00512442966742e-06</td>\n",
              "            <td>83</td>\n",
              "        </tr>\n",
              "        <tr>\n",
              "            <td>UTAH</td>\n",
              "            <td>6</td>\n",
              "            <td>2995919</td>\n",
              "            <td>2.0027243727216926e-06</td>\n",
              "            <td>89</td>\n",
              "        </tr>\n",
              "        <tr>\n",
              "            <td>CONNECTICUT</td>\n",
              "            <td>7</td>\n",
              "            <td>3590886</td>\n",
              "            <td>1.949379623858847e-06</td>\n",
              "            <td>96</td>\n",
              "        </tr>\n",
              "        <tr>\n",
              "            <td>IOWA</td>\n",
              "            <td>6</td>\n",
              "            <td>3123899</td>\n",
              "            <td>1.9206766928124116e-06</td>\n",
              "            <td>102</td>\n",
              "        </tr>\n",
              "        <tr>\n",
              "            <td>ALABAMA</td>\n",
              "            <td>9</td>\n",
              "            <td>4858979</td>\n",
              "            <td>1.8522409749043987e-06</td>\n",
              "            <td>111</td>\n",
              "        </tr>\n",
              "        <tr>\n",
              "            <td>SOUTH CAROLINA</td>\n",
              "            <td>9</td>\n",
              "            <td>4896146</td>\n",
              "            <td>1.8381804790951905e-06</td>\n",
              "            <td>120</td>\n",
              "        </tr>\n",
              "        <tr>\n",
              "            <td>MINNESOTA</td>\n",
              "            <td>10</td>\n",
              "            <td>5489594</td>\n",
              "            <td>1.8216283389992047e-06</td>\n",
              "            <td>130</td>\n",
              "        </tr>\n",
              "        <tr>\n",
              "            <td>KENTUCKY</td>\n",
              "            <td>8</td>\n",
              "            <td>4425092</td>\n",
              "            <td>1.8078720171241637e-06</td>\n",
              "            <td>138</td>\n",
              "        </tr>\n",
              "        <tr>\n",
              "            <td>OKLAHOMA</td>\n",
              "            <td>7</td>\n",
              "            <td>3911338</td>\n",
              "            <td>1.7896689061390246e-06</td>\n",
              "            <td>145</td>\n",
              "        </tr>\n",
              "        <tr>\n",
              "            <td>OREGON</td>\n",
              "            <td>7</td>\n",
              "            <td>4028977</td>\n",
              "            <td>1.7374137405103083e-06</td>\n",
              "            <td>152</td>\n",
              "        </tr>\n",
              "        <tr>\n",
              "            <td>WISCONSIN</td>\n",
              "            <td>10</td>\n",
              "            <td>5771337</td>\n",
              "            <td>1.7327007589402595e-06</td>\n",
              "            <td>162</td>\n",
              "        </tr>\n",
              "        <tr>\n",
              "            <td>LOUISIANA</td>\n",
              "            <td>8</td>\n",
              "            <td>4670724</td>\n",
              "            <td>1.712796560019389e-06</td>\n",
              "            <td>170</td>\n",
              "        </tr>\n",
              "        <tr>\n",
              "            <td>WASHINGTON</td>\n",
              "            <td>12</td>\n",
              "            <td>7170351</td>\n",
              "            <td>1.673558240035948e-06</td>\n",
              "            <td>182</td>\n",
              "        </tr>\n",
              "        <tr>\n",
              "            <td>TENNESSEE</td>\n",
              "            <td>11</td>\n",
              "            <td>6600299</td>\n",
              "            <td>1.6665911650366142e-06</td>\n",
              "            <td>193</td>\n",
              "        </tr>\n",
              "        <tr>\n",
              "            <td>MARYLAND</td>\n",
              "            <td>10</td>\n",
              "            <td>6006401</td>\n",
              "            <td>1.6648905059785385e-06</td>\n",
              "            <td>203</td>\n",
              "        </tr>\n",
              "        <tr>\n",
              "            <td>INDIANA</td>\n",
              "            <td>11</td>\n",
              "            <td>6619680</td>\n",
              "            <td>1.6617117443743504e-06</td>\n",
              "            <td>214</td>\n",
              "        </tr>\n",
              "        <tr>\n",
              "            <td>COLORADO</td>\n",
              "            <td>9</td>\n",
              "            <td>5456574</td>\n",
              "            <td>1.6493865931260165e-06</td>\n",
              "            <td>223</td>\n",
              "        </tr>\n",
              "        <tr>\n",
              "            <td>MISSOURI</td>\n",
              "            <td>10</td>\n",
              "            <td>6083672</td>\n",
              "            <td>1.6437441071773757e-06</td>\n",
              "            <td>233</td>\n",
              "        </tr>\n",
              "        <tr>\n",
              "            <td>MASSACHUSETTS</td>\n",
              "            <td>11</td>\n",
              "            <td>6794422</td>\n",
              "            <td>1.6189750945702225e-06</td>\n",
              "            <td>244</td>\n",
              "        </tr>\n",
              "        <tr>\n",
              "            <td>MICHIGAN</td>\n",
              "            <td>16</td>\n",
              "            <td>9922576</td>\n",
              "            <td>1.6124844999927438e-06</td>\n",
              "            <td>260</td>\n",
              "        </tr>\n",
              "        <tr>\n",
              "            <td>ARIZONA</td>\n",
              "            <td>11</td>\n",
              "            <td>6828065</td>\n",
              "            <td>1.610998137832607e-06</td>\n",
              "            <td>271</td>\n",
              "        </tr>\n",
              "    </tbody>\n",
              "</table>"
            ],
            "text/plain": [
              "[('WYOMING', 3, 586107, 5.118519314732634e-06, 3),\n",
              " ('VERMONT', 3, 626042, 4.792010759661493e-06, 6),\n",
              " ('DC', 3, 672228, 4.462771559649405e-06, 9),\n",
              " ('ALASKA', 3, 738432, 4.0626625065002604e-06, 12),\n",
              " ('NORTH DAKOTA', 3, 756927, 3.963394092164766e-06, 15),\n",
              " ('RHODE ISLAND', 4, 1056298, 3.7868101615263876e-06, 19),\n",
              " ('SOUTH DAKOTA', 3, 858469, 3.4945932817609025e-06, 22),\n",
              " ('DELAWARE', 3, 945934, 3.1714686225466047e-06, 25),\n",
              " ('MAINE', 4, 1329328, 3.009039153617467e-06, 29),\n",
              " ('NEW HAMPSHIRE', 4, 1330608, 3.0061445594795764e-06, 33),\n",
              " ('MONTANA', 3, 1032949, 2.904306020916812e-06, 36),\n",
              " ('HAWAII', 4, 1431603, 2.794070702562093e-06, 40),\n",
              " ('WEST VIRGINIA', 5, 1844128, 2.7113085425740512e-06, 45),\n",
              " ('NEBRASKA', 5, 1896190, 2.636866558730929e-06, 50),\n",
              " ('IDAHO', 4, 1654930, 2.417020659484087e-06, 54),\n",
              " ('NEW MEXICO', 5, 2085109, 2.3979561739937817e-06, 59),\n",
              " ('NEVADA', 6, 2890845, 2.0755177119492743e-06, 65),\n",
              " ('KANSAS', 6, 2911641, 2.0606936088618066e-06, 71),\n",
              " ('ARKANSAS', 6, 2978204, 2.0146370094190997e-06, 77),\n",
              " ('MISSISSIPPI', 6, 2992333, 2.00512442966742e-06, 83),\n",
              " ('UTAH', 6, 2995919, 2.0027243727216926e-06, 89),\n",
              " ('CONNECTICUT', 7, 3590886, 1.949379623858847e-06, 96),\n",
              " ('IOWA', 6, 3123899, 1.9206766928124116e-06, 102),\n",
              " ('ALABAMA', 9, 4858979, 1.8522409749043987e-06, 111),\n",
              " ('SOUTH CAROLINA', 9, 4896146, 1.8381804790951905e-06, 120),\n",
              " ('MINNESOTA', 10, 5489594, 1.8216283389992047e-06, 130),\n",
              " ('KENTUCKY', 8, 4425092, 1.8078720171241637e-06, 138),\n",
              " ('OKLAHOMA', 7, 3911338, 1.7896689061390246e-06, 145),\n",
              " ('OREGON', 7, 4028977, 1.7374137405103083e-06, 152),\n",
              " ('WISCONSIN', 10, 5771337, 1.7327007589402595e-06, 162),\n",
              " ('LOUISIANA', 8, 4670724, 1.712796560019389e-06, 170),\n",
              " ('WASHINGTON', 12, 7170351, 1.673558240035948e-06, 182),\n",
              " ('TENNESSEE', 11, 6600299, 1.6665911650366142e-06, 193),\n",
              " ('MARYLAND', 10, 6006401, 1.6648905059785385e-06, 203),\n",
              " ('INDIANA', 11, 6619680, 1.6617117443743504e-06, 214),\n",
              " ('COLORADO', 9, 5456574, 1.6493865931260165e-06, 223),\n",
              " ('MISSOURI', 10, 6083672, 1.6437441071773757e-06, 233),\n",
              " ('MASSACHUSETTS', 11, 6794422, 1.6189750945702225e-06, 244),\n",
              " ('MICHIGAN', 16, 9922576, 1.6124844999927438e-06, 260),\n",
              " ('ARIZONA', 11, 6828065, 1.610998137832607e-06, 271)]"
            ]
          },
          "metadata": {
            "tags": []
          },
          "execution_count": 29
        }
      ]
    },
    {
      "cell_type": "markdown",
      "metadata": {
        "id": "FsnPCOkPvain"
      },
      "source": [
        "# QUESTIONS"
      ]
    },
    {
      "cell_type": "markdown",
      "metadata": {
        "id": "HZLxmqlI1nvs"
      },
      "source": [
        "1. How many states do you end up within the target list?"
      ]
    },
    {
      "cell_type": "code",
      "metadata": {
        "id": "trvKTS36oeTb",
        "colab": {
          "base_uri": "https://localhost:8080/",
          "height": 93
        },
        "outputId": "31efa696-80cc-4e92-ee8c-ea962cbf0df6"
      },
      "source": [
        "%%sql\n",
        "SELECT COUNT(State) FROM Target_List;"
      ],
      "execution_count": 30,
      "outputs": [
        {
          "output_type": "stream",
          "text": [
            " * sqlite://\n",
            "Done.\n"
          ],
          "name": "stdout"
        },
        {
          "output_type": "execute_result",
          "data": {
            "text/html": [
              "<table>\n",
              "    <thead>\n",
              "        <tr>\n",
              "            <th>COUNT(State)</th>\n",
              "        </tr>\n",
              "    </thead>\n",
              "    <tbody>\n",
              "        <tr>\n",
              "            <td>40</td>\n",
              "        </tr>\n",
              "    </tbody>\n",
              "</table>"
            ],
            "text/plain": [
              "[(40,)]"
            ]
          },
          "metadata": {
            "tags": []
          },
          "execution_count": 30
        }
      ]
    },
    {
      "cell_type": "markdown",
      "metadata": {
        "id": "MmjRSqxJsyIl"
      },
      "source": [
        "2. Is it a small or large number?  It is a large number since it is 78% of the total states in the US"
      ]
    },
    {
      "cell_type": "code",
      "metadata": {
        "id": "CwvRDCgxswTm",
        "outputId": "46556b4b-0d1f-451c-acc4-e54c90b16f7b",
        "colab": {
          "base_uri": "https://localhost:8080/"
        }
      },
      "source": [
        "Total_states_Target_list=40\n",
        "Total_states_US=51\n",
        "(Total_states_Target_list/Total_states_US)*100"
      ],
      "execution_count": 63,
      "outputs": [
        {
          "output_type": "execute_result",
          "data": {
            "text/plain": [
              "78.43137254901961"
            ]
          },
          "metadata": {
            "tags": []
          },
          "execution_count": 63
        }
      ]
    },
    {
      "cell_type": "markdown",
      "metadata": {
        "id": "WSNIQJKSuRc1"
      },
      "source": [
        "3.Do you think it would be a good recommendation to target those states?"
      ]
    },
    {
      "cell_type": "markdown",
      "metadata": {
        "id": "DMcWLIvAuEHo"
      },
      "source": [
        "# SUMMARY STATISTICS OF TARGET LIST"
      ]
    },
    {
      "cell_type": "code",
      "metadata": {
        "id": "5omzDeV6oZZJ",
        "outputId": "edc43133-0102-4fe4-c6a1-290f4e3b1cbd",
        "colab": {
          "base_uri": "https://localhost:8080/",
          "height": 93
        }
      },
      "source": [
        "#State with the maximum grand electors in the target list\n",
        "%%sql\n",
        "SELECT State,GrandElectors FROM Target_List WHERE GrandElectors= (SELECT MAX(GrandElectors) FROM Target_List);"
      ],
      "execution_count": 49,
      "outputs": [
        {
          "output_type": "stream",
          "text": [
            " * sqlite://\n",
            "Done.\n"
          ],
          "name": "stdout"
        },
        {
          "output_type": "execute_result",
          "data": {
            "text/html": [
              "<table>\n",
              "    <thead>\n",
              "        <tr>\n",
              "            <th>State</th>\n",
              "            <th>GrandElectors</th>\n",
              "        </tr>\n",
              "    </thead>\n",
              "    <tbody>\n",
              "        <tr>\n",
              "            <td>MICHIGAN</td>\n",
              "            <td>16</td>\n",
              "        </tr>\n",
              "    </tbody>\n",
              "</table>"
            ],
            "text/plain": [
              "[('MICHIGAN', 16)]"
            ]
          },
          "metadata": {
            "tags": []
          },
          "execution_count": 49
        }
      ]
    },
    {
      "cell_type": "code",
      "metadata": {
        "id": "j6UuKSMFos8V",
        "outputId": "c088ce0a-c39a-4dd4-cefe-63b5faf077c3",
        "colab": {
          "base_uri": "https://localhost:8080/",
          "height": 236
        }
      },
      "source": [
        "#States with the minimum grand electors in the target list\n",
        "%%sql\n",
        "SELECT State,GrandElectors FROM Target_List WHERE GrandElectors= (SELECT MIN(GrandElectors) FROM Target_List);"
      ],
      "execution_count": 50,
      "outputs": [
        {
          "output_type": "stream",
          "text": [
            " * sqlite://\n",
            "Done.\n"
          ],
          "name": "stdout"
        },
        {
          "output_type": "execute_result",
          "data": {
            "text/html": [
              "<table>\n",
              "    <thead>\n",
              "        <tr>\n",
              "            <th>State</th>\n",
              "            <th>GrandElectors</th>\n",
              "        </tr>\n",
              "    </thead>\n",
              "    <tbody>\n",
              "        <tr>\n",
              "            <td>WYOMING</td>\n",
              "            <td>3</td>\n",
              "        </tr>\n",
              "        <tr>\n",
              "            <td>VERMONT</td>\n",
              "            <td>3</td>\n",
              "        </tr>\n",
              "        <tr>\n",
              "            <td>DC</td>\n",
              "            <td>3</td>\n",
              "        </tr>\n",
              "        <tr>\n",
              "            <td>ALASKA</td>\n",
              "            <td>3</td>\n",
              "        </tr>\n",
              "        <tr>\n",
              "            <td>NORTH DAKOTA</td>\n",
              "            <td>3</td>\n",
              "        </tr>\n",
              "        <tr>\n",
              "            <td>SOUTH DAKOTA</td>\n",
              "            <td>3</td>\n",
              "        </tr>\n",
              "        <tr>\n",
              "            <td>DELAWARE</td>\n",
              "            <td>3</td>\n",
              "        </tr>\n",
              "        <tr>\n",
              "            <td>MONTANA</td>\n",
              "            <td>3</td>\n",
              "        </tr>\n",
              "    </tbody>\n",
              "</table>"
            ],
            "text/plain": [
              "[('WYOMING', 3),\n",
              " ('VERMONT', 3),\n",
              " ('DC', 3),\n",
              " ('ALASKA', 3),\n",
              " ('NORTH DAKOTA', 3),\n",
              " ('SOUTH DAKOTA', 3),\n",
              " ('DELAWARE', 3),\n",
              " ('MONTANA', 3)]"
            ]
          },
          "metadata": {
            "tags": []
          },
          "execution_count": 50
        }
      ]
    },
    {
      "cell_type": "code",
      "metadata": {
        "id": "NJ7YLRGRpDVz",
        "outputId": "bf472384-e2be-4fc4-cfbc-8c329f58d9f4",
        "colab": {
          "base_uri": "https://localhost:8080/",
          "height": 93
        }
      },
      "source": [
        "#State with the least population in the target list\n",
        "%%sql\n",
        "SELECT State,Population FROM Target_List WHERE Population= (SELECT MIN(Population) FROM Target_List);"
      ],
      "execution_count": 51,
      "outputs": [
        {
          "output_type": "stream",
          "text": [
            " * sqlite://\n",
            "Done.\n"
          ],
          "name": "stdout"
        },
        {
          "output_type": "execute_result",
          "data": {
            "text/html": [
              "<table>\n",
              "    <thead>\n",
              "        <tr>\n",
              "            <th>State</th>\n",
              "            <th>Population</th>\n",
              "        </tr>\n",
              "    </thead>\n",
              "    <tbody>\n",
              "        <tr>\n",
              "            <td>WYOMING</td>\n",
              "            <td>586107</td>\n",
              "        </tr>\n",
              "    </tbody>\n",
              "</table>"
            ],
            "text/plain": [
              "[('WYOMING', 586107)]"
            ]
          },
          "metadata": {
            "tags": []
          },
          "execution_count": 51
        }
      ]
    },
    {
      "cell_type": "code",
      "metadata": {
        "id": "APUT42IipbTR",
        "outputId": "97c0a6b5-139a-4707-da2e-bfa289e2d82e",
        "colab": {
          "base_uri": "https://localhost:8080/",
          "height": 93
        }
      },
      "source": [
        "#State with the largest population in the target list\n",
        "%%sql\n",
        "SELECT State,Population FROM Target_List WHERE Population= (SELECT MAX(Population) FROM Target_List);"
      ],
      "execution_count": 52,
      "outputs": [
        {
          "output_type": "stream",
          "text": [
            " * sqlite://\n",
            "Done.\n"
          ],
          "name": "stdout"
        },
        {
          "output_type": "execute_result",
          "data": {
            "text/html": [
              "<table>\n",
              "    <thead>\n",
              "        <tr>\n",
              "            <th>State</th>\n",
              "            <th>Population</th>\n",
              "        </tr>\n",
              "    </thead>\n",
              "    <tbody>\n",
              "        <tr>\n",
              "            <td>MICHIGAN</td>\n",
              "            <td>9922576</td>\n",
              "        </tr>\n",
              "    </tbody>\n",
              "</table>"
            ],
            "text/plain": [
              "[('MICHIGAN', 9922576)]"
            ]
          },
          "metadata": {
            "tags": []
          },
          "execution_count": 52
        }
      ]
    },
    {
      "cell_type": "code",
      "metadata": {
        "id": "3LEjCZukpmEz",
        "outputId": "88ad9233-8617-4294-c4ba-4a6337432974",
        "colab": {
          "base_uri": "https://localhost:8080/",
          "height": 93
        }
      },
      "source": [
        "#Average number of grand electors in the target list\n",
        "%%sql\n",
        "SELECT AVG(GrandElectors) FROM Target_List;"
      ],
      "execution_count": 53,
      "outputs": [
        {
          "output_type": "stream",
          "text": [
            " * sqlite://\n",
            "Done.\n"
          ],
          "name": "stdout"
        },
        {
          "output_type": "execute_result",
          "data": {
            "text/html": [
              "<table>\n",
              "    <thead>\n",
              "        <tr>\n",
              "            <th>AVG(GrandElectors)</th>\n",
              "        </tr>\n",
              "    </thead>\n",
              "    <tbody>\n",
              "        <tr>\n",
              "            <td>6.775</td>\n",
              "        </tr>\n",
              "    </tbody>\n",
              "</table>"
            ],
            "text/plain": [
              "[(6.775,)]"
            ]
          },
          "metadata": {
            "tags": []
          },
          "execution_count": 53
        }
      ]
    },
    {
      "cell_type": "code",
      "metadata": {
        "id": "TKVVUwUIrCw5",
        "outputId": "bb33de63-228f-4e86-8b9d-424dd539886e",
        "colab": {
          "base_uri": "https://localhost:8080/",
          "height": 93
        }
      },
      "source": [
        "#Median Grand Electors in the target list\n",
        "%%sql\n",
        "SELECT GrandElectors\n",
        "FROM Target_List\n",
        "ORDER BY GrandElectors\n",
        "LIMIT 1\n",
        "OFFSET (SELECT COUNT(*)\n",
        "        FROM Target_List) / 2"
      ],
      "execution_count": 57,
      "outputs": [
        {
          "output_type": "stream",
          "text": [
            " * sqlite://\n",
            "Done.\n"
          ],
          "name": "stdout"
        },
        {
          "output_type": "execute_result",
          "data": {
            "text/html": [
              "<table>\n",
              "    <thead>\n",
              "        <tr>\n",
              "            <th>GrandElectors</th>\n",
              "        </tr>\n",
              "    </thead>\n",
              "    <tbody>\n",
              "        <tr>\n",
              "            <td>6</td>\n",
              "        </tr>\n",
              "    </tbody>\n",
              "</table>"
            ],
            "text/plain": [
              "[(6,)]"
            ]
          },
          "metadata": {
            "tags": []
          },
          "execution_count": 57
        }
      ]
    },
    {
      "cell_type": "code",
      "metadata": {
        "id": "boDrJQG-ramB",
        "outputId": "5f8d7f9d-1599-4dec-86d4-6c9c0f2c4584",
        "colab": {
          "base_uri": "https://localhost:8080/",
          "height": 93
        }
      },
      "source": [
        "#Mode gtand electors in the target list\n",
        "%%sql\n",
        "SELECT GrandElectors,COUNT(GrandElectors) AS Frequency\n",
        "FROM Target_List\n",
        "GROUP BY GrandElectors\n",
        "ORDER BY Frequency Desc LIMIT 1;"
      ],
      "execution_count": 58,
      "outputs": [
        {
          "output_type": "stream",
          "text": [
            " * sqlite://\n",
            "Done.\n"
          ],
          "name": "stdout"
        },
        {
          "output_type": "execute_result",
          "data": {
            "text/html": [
              "<table>\n",
              "    <thead>\n",
              "        <tr>\n",
              "            <th>GrandElectors</th>\n",
              "            <th>Frequency</th>\n",
              "        </tr>\n",
              "    </thead>\n",
              "    <tbody>\n",
              "        <tr>\n",
              "            <td>3</td>\n",
              "            <td>8</td>\n",
              "        </tr>\n",
              "    </tbody>\n",
              "</table>"
            ],
            "text/plain": [
              "[(3, 8)]"
            ]
          },
          "metadata": {
            "tags": []
          },
          "execution_count": 58
        }
      ]
    },
    {
      "cell_type": "code",
      "metadata": {
        "id": "0LMNGPyxp5rb",
        "outputId": "18b9096b-b9a0-4146-d2b5-6ebb36b99336",
        "colab": {
          "base_uri": "https://localhost:8080/",
          "height": 93
        }
      },
      "source": [
        "#Average population of states in the target list\n",
        "%%sql\n",
        "SELECT AVG(Population) FROM Target_List;"
      ],
      "execution_count": 54,
      "outputs": [
        {
          "output_type": "stream",
          "text": [
            " * sqlite://\n",
            "Done.\n"
          ],
          "name": "stdout"
        },
        {
          "output_type": "execute_result",
          "data": {
            "text/html": [
              "<table>\n",
              "    <thead>\n",
              "        <tr>\n",
              "            <th>AVG(Population)</th>\n",
              "        </tr>\n",
              "    </thead>\n",
              "    <tbody>\n",
              "        <tr>\n",
              "            <td>3496580.9</td>\n",
              "        </tr>\n",
              "    </tbody>\n",
              "</table>"
            ],
            "text/plain": [
              "[(3496580.9,)]"
            ]
          },
          "metadata": {
            "tags": []
          },
          "execution_count": 54
        }
      ]
    },
    {
      "cell_type": "code",
      "metadata": {
        "id": "3O_107p9rr7a",
        "outputId": "ab189dcd-6256-4fc9-db7a-3d8b305a765d",
        "colab": {
          "base_uri": "https://localhost:8080/",
          "height": 93
        }
      },
      "source": [
        "#median population in the target list\n",
        "%%sql\n",
        "SELECT Population\n",
        "FROM Target_List\n",
        "ORDER BY Population\n",
        "LIMIT 1\n",
        "OFFSET (SELECT COUNT(*)\n",
        "        FROM Target_List) / 2"
      ],
      "execution_count": 59,
      "outputs": [
        {
          "output_type": "stream",
          "text": [
            " * sqlite://\n",
            "Done.\n"
          ],
          "name": "stdout"
        },
        {
          "output_type": "execute_result",
          "data": {
            "text/html": [
              "<table>\n",
              "    <thead>\n",
              "        <tr>\n",
              "            <th>Population</th>\n",
              "        </tr>\n",
              "    </thead>\n",
              "    <tbody>\n",
              "        <tr>\n",
              "            <td>2995919</td>\n",
              "        </tr>\n",
              "    </tbody>\n",
              "</table>"
            ],
            "text/plain": [
              "[(2995919,)]"
            ]
          },
          "metadata": {
            "tags": []
          },
          "execution_count": 59
        }
      ]
    },
    {
      "cell_type": "code",
      "metadata": {
        "id": "cu5FEM8HqPTp",
        "outputId": "f86c6909-5b98-47dd-bc1c-a54148642b42",
        "colab": {
          "base_uri": "https://localhost:8080/",
          "height": 440
        }
      },
      "source": [
        "#States with population greater than average in the target list\n",
        "%%sql\n",
        "SELECT State, Population FROM Target_List\n",
        "WHERE Population>=(SELECT AVG(Population) FROM Target_List);"
      ],
      "execution_count": 55,
      "outputs": [
        {
          "output_type": "stream",
          "text": [
            " * sqlite://\n",
            "Done.\n"
          ],
          "name": "stdout"
        },
        {
          "output_type": "execute_result",
          "data": {
            "text/html": [
              "<table>\n",
              "    <thead>\n",
              "        <tr>\n",
              "            <th>State</th>\n",
              "            <th>Population</th>\n",
              "        </tr>\n",
              "    </thead>\n",
              "    <tbody>\n",
              "        <tr>\n",
              "            <td>CONNECTICUT</td>\n",
              "            <td>3590886</td>\n",
              "        </tr>\n",
              "        <tr>\n",
              "            <td>ALABAMA</td>\n",
              "            <td>4858979</td>\n",
              "        </tr>\n",
              "        <tr>\n",
              "            <td>SOUTH CAROLINA</td>\n",
              "            <td>4896146</td>\n",
              "        </tr>\n",
              "        <tr>\n",
              "            <td>MINNESOTA</td>\n",
              "            <td>5489594</td>\n",
              "        </tr>\n",
              "        <tr>\n",
              "            <td>KENTUCKY</td>\n",
              "            <td>4425092</td>\n",
              "        </tr>\n",
              "        <tr>\n",
              "            <td>OKLAHOMA</td>\n",
              "            <td>3911338</td>\n",
              "        </tr>\n",
              "        <tr>\n",
              "            <td>OREGON</td>\n",
              "            <td>4028977</td>\n",
              "        </tr>\n",
              "        <tr>\n",
              "            <td>WISCONSIN</td>\n",
              "            <td>5771337</td>\n",
              "        </tr>\n",
              "        <tr>\n",
              "            <td>LOUISIANA</td>\n",
              "            <td>4670724</td>\n",
              "        </tr>\n",
              "        <tr>\n",
              "            <td>WASHINGTON</td>\n",
              "            <td>7170351</td>\n",
              "        </tr>\n",
              "        <tr>\n",
              "            <td>TENNESSEE</td>\n",
              "            <td>6600299</td>\n",
              "        </tr>\n",
              "        <tr>\n",
              "            <td>MARYLAND</td>\n",
              "            <td>6006401</td>\n",
              "        </tr>\n",
              "        <tr>\n",
              "            <td>INDIANA</td>\n",
              "            <td>6619680</td>\n",
              "        </tr>\n",
              "        <tr>\n",
              "            <td>COLORADO</td>\n",
              "            <td>5456574</td>\n",
              "        </tr>\n",
              "        <tr>\n",
              "            <td>MISSOURI</td>\n",
              "            <td>6083672</td>\n",
              "        </tr>\n",
              "        <tr>\n",
              "            <td>MASSACHUSETTS</td>\n",
              "            <td>6794422</td>\n",
              "        </tr>\n",
              "        <tr>\n",
              "            <td>MICHIGAN</td>\n",
              "            <td>9922576</td>\n",
              "        </tr>\n",
              "        <tr>\n",
              "            <td>ARIZONA</td>\n",
              "            <td>6828065</td>\n",
              "        </tr>\n",
              "    </tbody>\n",
              "</table>"
            ],
            "text/plain": [
              "[('CONNECTICUT', 3590886),\n",
              " ('ALABAMA', 4858979),\n",
              " ('SOUTH CAROLINA', 4896146),\n",
              " ('MINNESOTA', 5489594),\n",
              " ('KENTUCKY', 4425092),\n",
              " ('OKLAHOMA', 3911338),\n",
              " ('OREGON', 4028977),\n",
              " ('WISCONSIN', 5771337),\n",
              " ('LOUISIANA', 4670724),\n",
              " ('WASHINGTON', 7170351),\n",
              " ('TENNESSEE', 6600299),\n",
              " ('MARYLAND', 6006401),\n",
              " ('INDIANA', 6619680),\n",
              " ('COLORADO', 5456574),\n",
              " ('MISSOURI', 6083672),\n",
              " ('MASSACHUSETTS', 6794422),\n",
              " ('MICHIGAN', 9922576),\n",
              " ('ARIZONA', 6828065)]"
            ]
          },
          "metadata": {
            "tags": []
          },
          "execution_count": 55
        }
      ]
    },
    {
      "cell_type": "code",
      "metadata": {
        "id": "_nLLtbN-qrWK"
      },
      "source": [
        ""
      ],
      "execution_count": null,
      "outputs": []
    },
    {
      "cell_type": "code",
      "metadata": {
        "id": "DK6ZrGFWOBSL"
      },
      "source": [
        ""
      ],
      "execution_count": null,
      "outputs": []
    }
  ]
}