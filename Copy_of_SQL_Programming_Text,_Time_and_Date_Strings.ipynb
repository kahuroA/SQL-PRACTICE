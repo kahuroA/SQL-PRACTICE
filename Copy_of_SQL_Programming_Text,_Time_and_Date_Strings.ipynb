{
  "nbformat": 4,
  "nbformat_minor": 0,
  "metadata": {
    "colab": {
      "name": "Copy of SQL Programming - Text, Time and Date Strings",
      "provenance": [],
      "collapsed_sections": [
        "gns5TJfPZCCB",
        "yLQD0MY2a-2H",
        "hZMiwaprbFRD",
        "TUnOLEFCbk0o",
        "dyTun0GIbK67",
        "pS4CWYNGcJZw",
        "JkZaAjv-bSPO",
        "VIT5Iy-kcSMl"
      ],
      "toc_visible": true,
      "include_colab_link": true
    },
    "kernelspec": {
      "name": "python3",
      "display_name": "Python 3"
    }
  },
  "cells": [
    {
      "cell_type": "markdown",
      "metadata": {
        "id": "view-in-github",
        "colab_type": "text"
      },
      "source": [
        "<a href=\"https://colab.research.google.com/github/kahuroA/SQL-PRACTICE/blob/main/Copy_of_SQL_Programming_Text%2C_Time_and_Date_Strings.ipynb\" target=\"_parent\"><img src=\"https://colab.research.google.com/assets/colab-badge.svg\" alt=\"Open In Colab\"/></a>"
      ]
    },
    {
      "cell_type": "markdown",
      "metadata": {
        "id": "Ex7oqvOZZZQu"
      },
      "source": [
        "<font color=\"green\">*To start working on this notebook, or any other notebook that we will use in the Moringa Data Science Course, we will need to save our own copy of it. We can do this by clicking File > Save a Copy in Drive. We will then be able to make edits to our own copy of this notebook.*</font>"
      ]
    },
    {
      "cell_type": "markdown",
      "metadata": {
        "id": "OIIswKWoZEob"
      },
      "source": [
        "# 1. SQL Programming - Text, Time and Date Strings"
      ]
    },
    {
      "cell_type": "markdown",
      "metadata": {
        "id": "gns5TJfPZCCB"
      },
      "source": [
        "## 1.0 Connecting to our Database"
      ]
    },
    {
      "cell_type": "code",
      "metadata": {
        "id": "aR2xslaQWceL",
        "colab": {
          "base_uri": "https://localhost:8080/",
          "height": 69
        },
        "outputId": "3f4cc117-c3e9-4f2c-bc6b-8dfcf9a688c5"
      },
      "source": [
        "# We will first load the sql extension into our environment\n",
        "%load_ext sql\n",
        "\n",
        "# Then connect to our in memory sqlite database\n",
        "# NB: This database will cease to exist as soon as the database connection is closed. \n",
        "%sql sqlite://"
      ],
      "execution_count": 66,
      "outputs": [
        {
          "output_type": "stream",
          "text": [
            "The sql extension is already loaded. To reload it, use:\n",
            "  %reload_ext sql\n"
          ],
          "name": "stdout"
        },
        {
          "output_type": "execute_result",
          "data": {
            "application/vnd.google.colaboratory.intrinsic+json": {
              "type": "string"
            },
            "text/plain": [
              "'Connected: @None'"
            ]
          },
          "metadata": {
            "tags": []
          },
          "execution_count": 66
        }
      ]
    },
    {
      "cell_type": "markdown",
      "metadata": {
        "id": "RPsqmCbjcljo"
      },
      "source": [
        "Datasets used in this notebook:\n",
        "\n",
        "\n",
        "1.   **Main Lighting Energy Sources averaged to Districts in 2009**\n",
        "\n",
        "> ([Dataset Download Link](https://drive.google.com/a/moringaschool.com/file/d/1XyZwH35bo99OZIAGHH8LMN48stLwyG-b/view?usp=sharing))\n",
        "\n",
        "2.   **Kisumu County Energy and Mining Project Implementation Status** \n",
        "\n",
        "> ([Dataset Download Link](https://drive.google.com/a/moringaschool.com/file/d/1awhsX-tmd_RvM1PxPhhg21GTFuDn34ca/view?usp=sharing))\n",
        "\n",
        "3. **Population by District**\n",
        "\n",
        ">  ([Dataset Download Link](https://drive.google.com/a/moringaschool.com/file/d/1ZpbtJ-YAzfAtnQ4k-R_zpEbYRvP5lZhr/view?usp=sharing))\n",
        "\n",
        "4. **Visitors to Kenya between 1991 to 2014**\n",
        "\n",
        ">  ([Dataset Download Link](https://drive.google.com/a/moringaschool.com/file/d/1FJs1YU76tRyHEtHU6w62LYQlR8Jz_4d1/view?usp=sharing))\n",
        "\n",
        "5. **Boston Marathon Results 2016**\n",
        "\n",
        ">  ([Dataset Download Link](https://drive.google.com/a/moringaschool.com/file/d/1FKhXZemUZuwYSJydUDgukyqJt3ouvKGi/view?usp=sharing))\n",
        "\n",
        "6. **Kenyan Government Appointments**\n",
        "\n",
        ">  ([Dataset Download Link](https://drive.google.com/a/moringaschool.com/file/d/19m7bydCYOyH8qb68S-Jn-dAX0TrjSHKh/view?usp=sharing))\n",
        "\n",
        "7. **Tea Production**\n",
        "\n",
        ">  ([Dataset Download Link](https://drive.google.com/open?id=1Nf3SfkLuxK8oWX2m_RAOILLrpY7pFDaF))\n",
        "\n"
      ]
    },
    {
      "cell_type": "markdown",
      "metadata": {
        "id": "yLQD0MY2a-2H"
      },
      "source": [
        "## 1.1 Loading our Datasets"
      ]
    },
    {
      "cell_type": "code",
      "metadata": {
        "id": "hqLapdFXbfsp"
      },
      "source": [
        "# Importing Pandas\n",
        "import pandas as pd"
      ],
      "execution_count": 67,
      "outputs": []
    },
    {
      "cell_type": "code",
      "metadata": {
        "id": "4eDIVhifGiZh",
        "colab": {
          "base_uri": "https://localhost:8080/",
          "height": 581
        },
        "outputId": "deefb352-4d07-42a8-c536-c9ac9d069d69"
      },
      "source": [
        "# Loading our lighting dataset  from the respective CSV file \n",
        "with open('./sample_data/lighting_dataset.csv','r') as f:\n",
        "    LightingDataset = pd.read_csv(f, index_col=0, encoding='utf-8')\n",
        "%sql DROP TABLE if EXISTS LightingDataset;\n",
        "%sql PERSIST LightingDataset;\n",
        "%sql SELECT * FROM LightingDataset LIMIT 5;"
      ],
      "execution_count": 68,
      "outputs": [
        {
          "output_type": "stream",
          "text": [
            " * sqlite://\n",
            "Done.\n",
            " * sqlite://\n",
            " * sqlite://\n",
            "Done.\n"
          ],
          "name": "stdout"
        },
        {
          "output_type": "execute_result",
          "data": {
            "text/html": [
              "<table>\n",
              "    <thead>\n",
              "        <tr>\n",
              "            <th>District</th>\n",
              "            <th>Rural_/_Urban</th>\n",
              "            <th>%_of_households_with_electricty</th>\n",
              "            <th>%_of_households_with_Pressure_Lamp</th>\n",
              "            <th>%_of_households_with_Lantern</th>\n",
              "            <th>%_of_households_with_Tin_Lamp</th>\n",
              "            <th>%_of_households_with_Gas_Lamp</th>\n",
              "            <th>%_of_households_with_Fuel_wood</th>\n",
              "            <th>%_of_households_with_Solar</th>\n",
              "            <th>%_of_households_with_Other</th>\n",
              "            <th>Housheolds</th>\n",
              "            <th>No_of_households_with_electricity</th>\n",
              "            <th>No_of_households_with_Pressure_Lamp</th>\n",
              "            <th>No_of_households_with_Lantern</th>\n",
              "            <th>No_of_households_with_Tin_Lamp</th>\n",
              "            <th>No_of_households_with_Gas_Lamp</th>\n",
              "            <th>No_of_households_with_Fuel_wood</th>\n",
              "            <th>No_of_households_with_Solar</th>\n",
              "            <th>No_of_households_with_Other</th>\n",
              "            <th>Province</th>\n",
              "            <th>County</th>\n",
              "            <th>Census_Table</th>\n",
              "            <th>MTEF</th>\n",
              "            <th>MTP</th>\n",
              "            <th>Longtitude</th>\n",
              "            <th>Latitude</th>\n",
              "            <th>Geolocation</th>\n",
              "            <th>OBJECTID</th>\n",
              "        </tr>\n",
              "    </thead>\n",
              "    <tbody>\n",
              "        <tr>\n",
              "            <td>MERU CENTRAL</td>\n",
              "            <td>Urban</td>\n",
              "            <td>None</td>\n",
              "            <td>None</td>\n",
              "            <td>None</td>\n",
              "            <td>None</td>\n",
              "            <td>None</td>\n",
              "            <td>None</td>\n",
              "            <td>None</td>\n",
              "            <td>None</td>\n",
              "            <td>0</td>\n",
              "            <td>0</td>\n",
              "            <td>0</td>\n",
              "            <td>0</td>\n",
              "            <td>0</td>\n",
              "            <td>0</td>\n",
              "            <td>0</td>\n",
              "            <td>0</td>\n",
              "            <td>0</td>\n",
              "            <td>EASTERN</td>\n",
              "            <td>Meru</td>\n",
              "            <td>Table 10b: Urban Households by main type of Lighting Fuel</td>\n",
              "            <td>Physical Infrastructure</td>\n",
              "            <td>Energy</td>\n",
              "            <td>37.58330732</td>\n",
              "            <td>0.001443681</td>\n",
              "            <td>(0.001443681, 37.58330732)</td>\n",
              "            <td>0</td>\n",
              "        </tr>\n",
              "        <tr>\n",
              "            <td>KAKAMEGA SOUTH</td>\n",
              "            <td>Urban</td>\n",
              "            <td>None</td>\n",
              "            <td>None</td>\n",
              "            <td>None</td>\n",
              "            <td>None</td>\n",
              "            <td>None</td>\n",
              "            <td>None</td>\n",
              "            <td>None</td>\n",
              "            <td>None</td>\n",
              "            <td>0</td>\n",
              "            <td>0</td>\n",
              "            <td>0</td>\n",
              "            <td>0</td>\n",
              "            <td>0</td>\n",
              "            <td>0</td>\n",
              "            <td>0</td>\n",
              "            <td>0</td>\n",
              "            <td>0</td>\n",
              "            <td>WESTERN</td>\n",
              "            <td>Kakamega</td>\n",
              "            <td>Table 10a: Rural Households by main type of Lighting Fuel</td>\n",
              "            <td>Physical Infrastructure</td>\n",
              "            <td>Energy</td>\n",
              "            <td>34.7077479</td>\n",
              "            <td>0.190561619</td>\n",
              "            <td>(0.190561619, 34.7077479)</td>\n",
              "            <td>1</td>\n",
              "        </tr>\n",
              "        <tr>\n",
              "            <td>NYANDARUA NORTH</td>\n",
              "            <td>Urban</td>\n",
              "            <td>6.3%</td>\n",
              "            <td>0.6%</td>\n",
              "            <td>51.6%</td>\n",
              "            <td>32.1%</td>\n",
              "            <td>0.8%</td>\n",
              "            <td>0.4%</td>\n",
              "            <td>7.9%</td>\n",
              "            <td>0.2%</td>\n",
              "            <td>52503</td>\n",
              "            <td>3332</td>\n",
              "            <td>302</td>\n",
              "            <td>27102</td>\n",
              "            <td>16865</td>\n",
              "            <td>395</td>\n",
              "            <td>214</td>\n",
              "            <td>4173</td>\n",
              "            <td>120</td>\n",
              "            <td>CENTRAL</td>\n",
              "            <td>Nyandarua</td>\n",
              "            <td>Table 10b: Urban Households by main type of Lighting Fuel</td>\n",
              "            <td>Physical Infrastructure</td>\n",
              "            <td>Energy</td>\n",
              "            <td>36.42343108</td>\n",
              "            <td>-0.144560572</td>\n",
              "            <td>(-0.144560572, 36.42343108)</td>\n",
              "            <td>2</td>\n",
              "        </tr>\n",
              "        <tr>\n",
              "            <td>NYANDARUA SOUTH</td>\n",
              "            <td>Urban</td>\n",
              "            <td>6%</td>\n",
              "            <td>0.6%</td>\n",
              "            <td>62.8%</td>\n",
              "            <td>24.3%</td>\n",
              "            <td>0.6%</td>\n",
              "            <td>0.2%</td>\n",
              "            <td>5.3%</td>\n",
              "            <td>0.1%</td>\n",
              "            <td>61936</td>\n",
              "            <td>3741</td>\n",
              "            <td>387</td>\n",
              "            <td>38900</td>\n",
              "            <td>15077</td>\n",
              "            <td>384</td>\n",
              "            <td>103</td>\n",
              "            <td>3256</td>\n",
              "            <td>88</td>\n",
              "            <td>CENTRAL</td>\n",
              "            <td>Nyandarua</td>\n",
              "            <td>Table 10b: Urban Households by main type of Lighting Fuel</td>\n",
              "            <td>Physical Infrastructure</td>\n",
              "            <td>Energy</td>\n",
              "            <td>36.55651343</td>\n",
              "            <td>-0.533045224</td>\n",
              "            <td>(-0.533045224, 36.55651343)</td>\n",
              "            <td>3</td>\n",
              "        </tr>\n",
              "        <tr>\n",
              "            <td>NYERI NORTH</td>\n",
              "            <td>Urban</td>\n",
              "            <td>14.5%</td>\n",
              "            <td>1%</td>\n",
              "            <td>41.4%</td>\n",
              "            <td>34.3%</td>\n",
              "            <td>0.6%</td>\n",
              "            <td>0.8%</td>\n",
              "            <td>7.2%</td>\n",
              "            <td>0.2%</td>\n",
              "            <td>81307</td>\n",
              "            <td>11774</td>\n",
              "            <td>775</td>\n",
              "            <td>33686</td>\n",
              "            <td>27884</td>\n",
              "            <td>514</td>\n",
              "            <td>651</td>\n",
              "            <td>5868</td>\n",
              "            <td>155</td>\n",
              "            <td>CENTRAL</td>\n",
              "            <td>Nyeri</td>\n",
              "            <td>Table 10b: Urban Households by main type of Lighting Fuel</td>\n",
              "            <td>Physical Infrastructure</td>\n",
              "            <td>Energy</td>\n",
              "            <td>36.9811441</td>\n",
              "            <td>-0.266587082</td>\n",
              "            <td>(-0.266587082, 36.9811441)</td>\n",
              "            <td>4</td>\n",
              "        </tr>\n",
              "    </tbody>\n",
              "</table>"
            ],
            "text/plain": [
              "[('MERU CENTRAL', 'Urban', None, None, None, None, None, None, None, None, 0, 0, 0, 0, 0, 0, 0, 0, 0, 'EASTERN', 'Meru', 'Table 10b: Urban Households by main type of Lighting Fuel', 'Physical Infrastructure', 'Energy', 37.58330732, 0.001443681, '(0.001443681, 37.58330732)', 0),\n",
              " ('KAKAMEGA SOUTH', 'Urban', None, None, None, None, None, None, None, None, 0, 0, 0, 0, 0, 0, 0, 0, 0, 'WESTERN', 'Kakamega', 'Table 10a: Rural Households by main type of Lighting Fuel', 'Physical Infrastructure', 'Energy', 34.7077479, 0.190561619, '(0.190561619, 34.7077479)', 1),\n",
              " ('NYANDARUA NORTH', 'Urban', '6.3%', '0.6%', '51.6%', '32.1%', '0.8%', '0.4%', '7.9%', '0.2%', 52503, 3332, 302, 27102, 16865, 395, 214, 4173, 120, 'CENTRAL', 'Nyandarua', 'Table 10b: Urban Households by main type of Lighting Fuel', 'Physical Infrastructure', 'Energy', 36.42343108, -0.144560572, '(-0.144560572, 36.42343108)', 2),\n",
              " ('NYANDARUA SOUTH', 'Urban', '6%', '0.6%', '62.8%', '24.3%', '0.6%', '0.2%', '5.3%', '0.1%', 61936, 3741, 387, 38900, 15077, 384, 103, 3256, 88, 'CENTRAL', 'Nyandarua', 'Table 10b: Urban Households by main type of Lighting Fuel', 'Physical Infrastructure', 'Energy', 36.55651343, -0.533045224, '(-0.533045224, 36.55651343)', 3),\n",
              " ('NYERI NORTH', 'Urban', '14.5%', '1%', '41.4%', '34.3%', '0.6%', '0.8%', '7.2%', '0.2%', 81307, 11774, 775, 33686, 27884, 514, 651, 5868, 155, 'CENTRAL', 'Nyeri', 'Table 10b: Urban Households by main type of Lighting Fuel', 'Physical Infrastructure', 'Energy', 36.9811441, -0.266587082, '(-0.266587082, 36.9811441)', 4)]"
            ]
          },
          "metadata": {
            "tags": []
          },
          "execution_count": 68
        }
      ]
    },
    {
      "cell_type": "code",
      "metadata": {
        "id": "O7g4-q_-d8N-"
      },
      "source": [
        "# Loading our energy mining dataset from the respective CSV file \n",
        "with open('./sample_data/energy_mining_dataset.csv','r') as f:\n",
        "  Energy_Mining=pd.read_csv(f,index_col=0, encoding='utf-8')\n",
        "%sql DROP TABLE IF EXISTS Energy_Mining;\n",
        "%sql PERSIST Energy_Mining;\n",
        "%sql SELECT * FROM Energy_Mining LIMIT 3;\n"
      ],
      "execution_count": null,
      "outputs": []
    },
    {
      "cell_type": "code",
      "metadata": {
        "id": "4LxuTNcW2IgY"
      },
      "source": [
        "# Loading our population by districtdataset from the respective CSV file\n",
        "\n",
        "with open('./sample_data/population_by_district.csv','r') as f:\n",
        "  population_by_district=pd.read_csv(f,index_col=0, encoding='utf-8')\n",
        "%sql DROP TABLE IF EXISTS population_by_district;\n",
        "%sql PERSIST population_by_district;\n",
        "%sql SELECT * FROM population_by_district LIMIT 3;\n"
      ],
      "execution_count": null,
      "outputs": []
    },
    {
      "cell_type": "code",
      "metadata": {
        "id": "A31Y9nJFGW1o"
      },
      "source": [
        "with open('./sample_data/visitors_to_kenya.csv','r') as f:\n",
        "  visitors_to_kenya=pd.read_csv(f,index_col=0, encoding='utf-8')\n",
        "%sql DROP TABLE IF EXISTS visitors_to_kenya;\n",
        "%sql PERSIST visitors_to_kenya;\n",
        "%sql SELECT * FROM visitors_to_kenya LIMIT 3;"
      ],
      "execution_count": null,
      "outputs": []
    },
    {
      "cell_type": "code",
      "metadata": {
        "id": "oQlC_rF6vkAt"
      },
      "source": [
        "# Loading our marathon dataset from the respective CSV file\n",
        "#\n",
        "with open('./sample_data/marathon_results_2016 (1).csv','r') as f:\n",
        "  marathon_results_2016=pd.read_csv(f,index_col=0, encoding='utf-8')\n",
        "%sql DROP TABLE IF EXISTS marathon_results_2016;\n",
        "%sql PERSIST marathon_results_2016;\n",
        "%sql SELECT * FROM marathon_results_2016 LIMIT 3;"
      ],
      "execution_count": null,
      "outputs": []
    },
    {
      "cell_type": "code",
      "metadata": {
        "id": "NGeUQqRMLQU7"
      },
      "source": [
        "# Loading our Kenyan government appointments dataset below\n",
        "#\n",
        "with open('./sample_data/government_appointments.csv','r') as f:\n",
        "  government_appointments=pd.read_csv(f,index_col=0, encoding='utf-8')\n",
        "%sql DROP TABLE IF EXISTS government_appointments;\n",
        "%sql PERSIST government_appointments;\n",
        "%sql SELECT * FROM government_appointments LIMIT 3;"
      ],
      "execution_count": null,
      "outputs": []
    },
    {
      "cell_type": "code",
      "metadata": {
        "id": "OdYR80CuMbFD"
      },
      "source": [
        "# Loading our Tea dataset below\n",
        "#\n",
        "with open('./sample_data/tea_production.csv','r') as f:\n",
        "  tea_production=pd.read_csv(f,index_col=0, encoding='utf-8')\n",
        "%sql DROP TABLE IF EXISTS tea_production;\n",
        "%sql PERSIST tea_production;\n",
        "%sql SELECT * FROM tea_production LIMIT 3;"
      ],
      "execution_count": null,
      "outputs": []
    },
    {
      "cell_type": "markdown",
      "metadata": {
        "id": "hZMiwaprbFRD"
      },
      "source": [
        "## 1.2 Text Strings"
      ]
    },
    {
      "cell_type": "code",
      "metadata": {
        "id": "_u1m-FQnbh7H"
      },
      "source": [
        "# Example 1\n",
        "# Using the EnergyMining dataset, we can concatenate (combine) \n",
        "# the Ward and County columns (i.e attributes)\n",
        "# into a new column Region. Then only select 5 of those regions\n",
        "#\n",
        "%%sql  \n",
        "SELECT *, WARD || ', ' || COUNTY AS Region\n",
        "FROM Energy_Mining LIMIT 5;"
      ],
      "execution_count": null,
      "outputs": []
    },
    {
      "cell_type": "code",
      "metadata": {
        "id": "Rk7JTCrZbhyD"
      },
      "source": [
        "# Example 2\n",
        "# Using the main lighting dataset, we can also replace the null cells with 0\n",
        "# as shown below\n",
        "# \n",
        "%%sql \n",
        "SELECT PROJECT_NAME, REPLACE(\"STATUS\", '100 % Complete', '100%') AS \"Project Status\" \n",
        "FROM Energy_Mining;\n"
      ],
      "execution_count": null,
      "outputs": []
    },
    {
      "cell_type": "code",
      "metadata": {
        "id": "licWhlP92eHl"
      },
      "source": [
        "%%sql\n",
        "SELECT * FROM Energy_Mining LIMIT 3;"
      ],
      "execution_count": null,
      "outputs": []
    },
    {
      "cell_type": "code",
      "metadata": {
        "id": "mDr4BRmWbhpQ"
      },
      "source": [
        "# Example 3\n",
        "# Using the Population by District dataset, we change values of County column to lowercase \n",
        "# as shown below\n",
        "#\n",
        "%%sql\n",
        "SELECT *, LOWER(County) AS \"County Name\"\n",
        "FROM population_by_district LIMIT 5;"
      ],
      "execution_count": null,
      "outputs": []
    },
    {
      "cell_type": "markdown",
      "metadata": {
        "id": "TUnOLEFCbk0o"
      },
      "source": [
        "### <font color=\"green\">1.2 Challenges</font>"
      ]
    },
    {
      "cell_type": "code",
      "metadata": {
        "id": "DInKcbjQb9lv"
      },
      "source": [
        "# Challenge 1\n",
        "# Using the Governments appointments dataset, \n",
        "# in gender field, let's replace m = 1 and f = 0\n",
        "# \n",
        "%%sql\n",
        "SELECT * ,replace(replace(Gender, 'm', 1), 'f', 0) AS Gender_num\n",
        "FROM government_appointments LIMIT 3;"
      ],
      "execution_count": null,
      "outputs": []
    },
    {
      "cell_type": "code",
      "metadata": {
        "id": "oUwumQgkb-zE"
      },
      "source": [
        "# Challenge 2\n",
        "# Using the Governments appointments dataset, \n",
        "# Let's merge the person appointing field with the appointers position field\n",
        "#\n",
        "%%sql\n",
        "SELECT *,  Person_Appointing_ || '/ ' || Apointers_Position AS Apointer_details\n",
        "FROM government_appointments LIMIT 2;"
      ],
      "execution_count": null,
      "outputs": []
    },
    {
      "cell_type": "code",
      "metadata": {
        "id": "Dmotlbe8b_xE"
      },
      "source": [
        "# Challenge 3\n",
        "# Using the Population by District dataset, \n",
        "# let's change the values of the District column to lowercase \n",
        "# and display these values in a new column \n",
        "# \n",
        "%%sql\n",
        "SELECT *, LOWER(District) AS district_name\n",
        "FROM population_by_district LIMIT 5;"
      ],
      "execution_count": null,
      "outputs": []
    },
    {
      "cell_type": "markdown",
      "metadata": {
        "id": "dyTun0GIbK67"
      },
      "source": [
        "## 1.3 Time Strings"
      ]
    },
    {
      "cell_type": "code",
      "metadata": {
        "id": "v45ZeTF8cFXq"
      },
      "source": [
        "# Example 1\n",
        "# You can work with time data just like any other kind of data type \n",
        "# when it is in the time format; HH:MM:SS\n",
        "# Let's answer some questions to see how this works\n",
        "# Question: Which athletes took time between 15.30 and 15.59 to pass the 5K mark?\n",
        "# NB: We order the results\n",
        "#\n",
        "%%sql \n",
        "SELECT Name, \"5K\" FROM marathon_results_2016 \n",
        "WHERE \"5K\" > '0:15:30' and \"5K\" < '0:15:59' ORDER BY \"5K\" ASC;"
      ],
      "execution_count": null,
      "outputs": []
    },
    {
      "cell_type": "code",
      "metadata": {
        "id": "M08B6GRcxuuo"
      },
      "source": [
        "# Example 2\n",
        "# Finding the minimum amount of time taken to cover 15K by an athlete during the marathon. \n",
        "# Hint: We use a where clause to ignore null/blank values - we will learn how to \n",
        "# deal with such values later in the course\n",
        "# \n",
        "%%sql\n",
        "SELECT MIN(\"5K\") \n",
        "FROM marathon_results_2016 \n",
        "WHERE \"5K\" > 0;"
      ],
      "execution_count": null,
      "outputs": []
    },
    {
      "cell_type": "code",
      "metadata": {
        "id": "lWtS8KupcHhr"
      },
      "source": [
        "# Example 3\n",
        "# What was the average time covered by all athletes past the 10K mark?\n",
        "# \n",
        "%%sql\n",
        "SELECT time(AVG(\"10K\")) \n",
        "FROM marathon_results_2016 \n",
        "WHERE \"10K\" > 0;"
      ],
      "execution_count": null,
      "outputs": []
    },
    {
      "cell_type": "markdown",
      "metadata": {
        "id": "pS4CWYNGcJZw"
      },
      "source": [
        "### <font color=\"green\">1.3 Challenges</font>"
      ]
    },
    {
      "cell_type": "code",
      "metadata": {
        "id": "-1a8zfZFcCHg"
      },
      "source": [
        "# Challenge 1\n",
        "# What were the names and time of the athletes who finished the marathon before 2hrs 15min official time?\n",
        "# NB: Order your names by time in ascending order\n",
        "# \n",
        "%%sql\n",
        "SELECT Name, \"Official Time\" FROM marathon_results_2016\n",
        "WHERE \"Official Time\"<\"2:15:00\" AND \"Official Time\" !=\"10:30:23\";\n"
      ],
      "execution_count": null,
      "outputs": []
    },
    {
      "cell_type": "code",
      "metadata": {
        "id": "0SaAJYQ1cDTo"
      },
      "source": [
        "# Challenge 2\n",
        "# Which countries came top 3 in completing the marathon before 2hrs 15min?\n",
        "#\n",
        "%%sql\n",
        "SELECT Country, \"Official Time\" FROM marathon_results_2016\n",
        "WHERE \"Official Time\"<\"2:15:00\" AND \"Official Time\" !=\"10:30:23\" LIMIT 3;\n"
      ],
      "execution_count": null,
      "outputs": []
    },
    {
      "cell_type": "code",
      "metadata": {
        "id": "6t6YOOZXcEac"
      },
      "source": [
        "# Challenge 3\n",
        "# How many athletes ran 30K under 1hr 34min? Name these athletes.\n",
        "# \n",
        "%%sql\n",
        "SELECT COUNT(Name) FROM marathon_results_2016\n",
        "WHERE \"30K\"<\"1:34:00\";"
      ],
      "execution_count": null,
      "outputs": []
    },
    {
      "cell_type": "markdown",
      "metadata": {
        "id": "JkZaAjv-bSPO"
      },
      "source": [
        "## 1.4 Date Strings"
      ]
    },
    {
      "cell_type": "code",
      "metadata": {
        "id": "Tne2OvPScRy8"
      },
      "source": [
        "# Example 1\n",
        "# At times we would like to work with the data that is stored in the form of dates\n",
        "# However, this kind of data can be really difficult to work with if it is not stored\n",
        "# in datetime Data Type i.e. YYYY-MM-DD HH:MM:SS. It can even be misleading while \n",
        "# performing operations to our data. \n",
        "# Thus, when we get a dataset such as the one previewed below we will note that the datetime data \n",
        "# within the \"Date_End_of_Quater\" column is not in the datetime Data Type. \n",
        "# We will need to fix this;\n",
        "# \n",
        "%sql SELECT * FROM  visitors_to_kenya LIMIT 5;"
      ],
      "execution_count": null,
      "outputs": []
    },
    {
      "cell_type": "code",
      "metadata": {
        "id": "ayyBRzHXPrI7"
      },
      "source": [
        "# Example 2\n",
        "# In order to convert this kind of data to this format YYYY-MM-DD HH:MM:SS, \n",
        "# we would need to use the substring function. \n",
        "# An example of how the SQL substring function works is as shown in the SQL command\n",
        "# in this cell;\n",
        "# NB: Run this cell several times as you make changes to the numerial parameters 1, 6 \n",
        "# and then observe the output after running this cell\n",
        "#\n",
        "%%sql\n",
        "SELECT substr('SQL Tutorial', 5, 8) AS ExtractString;"
      ],
      "execution_count": null,
      "outputs": []
    },
    {
      "cell_type": "code",
      "metadata": {
        "id": "IVS-kshycRqd"
      },
      "source": [
        "# Example 3\n",
        "# Let's now select the \"Date_End_of_Quater\" data in the datetime data type format.\n",
        "# We will apply the SQL substr function to the respective column\n",
        "# then select the characters specifying our range then concatenating (combining)\n",
        "# the selected substrings.\n",
        "#  \n",
        "%%sql\n",
        "SELECT substr(\"Date_End_of_Quater\", 7, 4) \n",
        "|| \"-\" || substr(\"Date_End_of_Quater\", 1, 2) \n",
        "|| \"-\" || substr(\"Date_End_of_Quater\", 4, 2) \n",
        "|| \" \" || substr(\"Date_End_of_Quater\", 12,9)\n",
        "AS New_Date_End_of_Quarter\n",
        "FROM visitors_to_kenya Limit 5;"
      ],
      "execution_count": null,
      "outputs": []
    },
    {
      "cell_type": "code",
      "metadata": {
        "id": "Nij-PotCmZQC"
      },
      "source": [
        "# Example 4\n",
        "# Once we are certain that the selected data is in the datetime data type format,\n",
        "# we can then update the table as shown; Remember we learnt how to update data \n",
        "# in our table last week? :) \n",
        "# This will allow us to start using that updated table for further investigation\n",
        "# \n",
        "%%sql\n",
        "UPDATE visitors_to_kenya \n",
        "set \"Date_End_of_Quater\" = substr(\"Date_End_of_Quater\", 7, 4) \n",
        "|| \"-\" || substr(\"Date_End_of_Quater\", 4, 2) \n",
        "|| \"-\" || substr(\"Date_End_of_Quater\", 1, 2) \n",
        "|| \" \" || substr(\"Date_End_of_Quater\", 12,9)"
      ],
      "execution_count": null,
      "outputs": []
    },
    {
      "cell_type": "code",
      "metadata": {
        "id": "_V5F2sd8n6Gl"
      },
      "source": [
        "# Example 5\n",
        "# We can preview our dataset below so as to note the changes we have made to our \n",
        "# \"Date_End_of_Quater\" column which now looks super :) \n",
        "# \n",
        "%%sql\n",
        "SELECT * \n",
        "FROM visitors_to_kenya Limit 5; "
      ],
      "execution_count": null,
      "outputs": []
    },
    {
      "cell_type": "code",
      "metadata": {
        "id": "wGr96euaW6up"
      },
      "source": [
        "# Example 6\n",
        "# We now continue into investigating our dataset; We answer the following question;\n",
        "# Which arrivals and depatures happened before 10th June, 1991?  \n",
        "# Solution:\n",
        "#\n",
        "%%sql\n",
        "SELECT * \n",
        "FROM visitors_to_kenya \n",
        "WHERE \"Date_End_of_Quater\" < '1991-30-10';"
      ],
      "execution_count": null,
      "outputs": []
    },
    {
      "cell_type": "code",
      "metadata": {
        "id": "wz4km85zcRiD"
      },
      "source": [
        "# Example 7\n",
        "# Which arrivals and depatures happened after 30th June 2000?  \n",
        "#\n",
        "%%sql\n",
        "SELECT * FROM visitors_to_kenya\n",
        "WHERE \"Date_End_of_Quater\">\"2000-06\""
      ],
      "execution_count": null,
      "outputs": []
    },
    {
      "cell_type": "markdown",
      "metadata": {
        "id": "VIT5Iy-kcSMl"
      },
      "source": [
        "### <font color=\"green\">1.4 Challenges</font>"
      ]
    },
    {
      "cell_type": "code",
      "metadata": {
        "id": "BRWaaWEUcRal"
      },
      "source": [
        "# Challenge\n",
        "# Using the tea_production dataset, which three dates had tea production \n",
        "# before the date with the most tea production?\n",
        "#\n",
        "OUR CODE GOES HERE"
      ],
      "execution_count": null,
      "outputs": []
    }
  ]
}